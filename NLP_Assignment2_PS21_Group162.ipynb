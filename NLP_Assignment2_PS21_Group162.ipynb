{
  "cells": [
    {
      "cell_type": "markdown",
      "metadata": {
        "id": "07JjJwIS5l0g"
      },
      "source": [
        "#S2-23_AIMLCZG530 : Natural Language Processing\n",
        "##Assigment 2 - Problem Statement 21\n",
        "###Team Members\n",
        "1. ADARSH S - 2023AA05811\n",
        "2. VAIBHAV BAJPAI - 2023AA05631\n",
        "3. DIVAKAR ROY - 2023AA05721\n",
        "4. NELLORE VAMSI KIRAN REDDY - 2023AA05240"
      ]
    },
    {
      "cell_type": "markdown",
      "metadata": {
        "id": "0McwCxof5HHG"
      },
      "source": [
        "The goal of this assignment is to introduce Transformers, Encoder Decoder architecture and BERT.<br>\n",
        "Dataset: [Dialogue Data](https://drive.google.com/file/d/19qL50jRgtvqpp28uJZn8sTc-iHkGgtCb/view?usp=drive_link)"
      ]
    },
    {
      "cell_type": "markdown",
      "metadata": {
        "id": "Q4eHUP-j6er9"
      },
      "source": [
        "###Part 1 : Preprocessing the data"
      ]
    },
    {
      "cell_type": "markdown",
      "metadata": {
        "id": "Bmr2-zDKEow3"
      },
      "source": [
        "####Reading the dataset, lowercasing and EDA"
      ]
    },
    {
      "cell_type": "code",
      "execution_count": null,
      "metadata": {
        "colab": {
          "base_uri": "https://localhost:8080/"
        },
        "id": "YFA9Qvit63GB",
        "outputId": "1653c7f9-0cde-4e48-dcd6-5ac7039498d4"
      },
      "outputs": [
        {
          "name": "stderr",
          "output_type": "stream",
          "text": [
            "D:\\BITS\\.env\\lib\\site-packages\\tqdm\\auto.py:21: TqdmWarning: IProgress not found. Please update jupyter and ipywidgets. See https://ipywidgets.readthedocs.io/en/stable/user_install.html\n",
            "  from .autonotebook import tqdm as notebook_tqdm\n"
          ]
        }
      ],
      "source": [
        "from collections import Counter\n",
        "import pandas as pd\n",
        "import matplotlib.pyplot as plt\n",
        "import seaborn as sns\n",
        "import numpy as np\n",
        "import csv\n",
        "import re\n",
        "import torch\n",
        "import torch.nn as nn\n",
        "import torch.optim as optim\n",
        "from torch.utils.data import Dataset, DataLoader\n",
        "from sklearn.model_selection import train_test_split\n",
        "import spacy\n",
        "from transformers import BertTokenizer, BertModel"
      ]
    },
    {
      "cell_type": "code",
      "execution_count": null,
      "metadata": {
        "id": "sSjyHHcB4rUk"
      },
      "outputs": [],
      "source": [
        "# loading with csv library since there are issues in the file\n",
        "# data = []\n",
        "# with open('DiaglougeData.csv', 'r', encoding='utf-8') as file:\n",
        "#     reader = csv.reader(file)\n",
        "#     for row in reader:\n",
        "#         data.append(row)\n",
        "# dialogue_df = pd.DataFrame(data[1:], columns=data[0])\n",
        "dialogue_df = pd.read_csv(r\"DiaglougeData.csv\")"
      ]
    },
    {
      "cell_type": "code",
      "execution_count": null,
      "metadata": {
        "colab": {
          "base_uri": "https://localhost:8080/",
          "height": 226
        },
        "id": "a4WB3rAe7AfQ",
        "outputId": "7a331a0c-1912-4b06-b348-48e14710b736"
      },
      "outputs": [
        {
          "data": {
            "text/html": [
              "<div>\n",
              "<style scoped>\n",
              "    .dataframe tbody tr th:only-of-type {\n",
              "        vertical-align: middle;\n",
              "    }\n",
              "\n",
              "    .dataframe tbody tr th {\n",
              "        vertical-align: top;\n",
              "    }\n",
              "\n",
              "    .dataframe thead th {\n",
              "        text-align: right;\n",
              "    }\n",
              "</style>\n",
              "<table border=\"1\" class=\"dataframe\">\n",
              "  <thead>\n",
              "    <tr style=\"text-align: right;\">\n",
              "      <th></th>\n",
              "      <th>id</th>\n",
              "      <th>dialogue</th>\n",
              "      <th>summary</th>\n",
              "    </tr>\n",
              "  </thead>\n",
              "  <tbody>\n",
              "    <tr>\n",
              "      <th>0</th>\n",
              "      <td>13862856</td>\n",
              "      <td>Hannah: Hey, do you have Betty's number?\\nAman...</td>\n",
              "      <td>Hannah needs Betty's number but Amanda doesn't...</td>\n",
              "    </tr>\n",
              "    <tr>\n",
              "      <th>1</th>\n",
              "      <td>13729565</td>\n",
              "      <td>Eric: MACHINE!\\nRob: That's so gr8!\\nEric: I k...</td>\n",
              "      <td>Eric and Rob are going to watch a stand-up on ...</td>\n",
              "    </tr>\n",
              "    <tr>\n",
              "      <th>2</th>\n",
              "      <td>13680171</td>\n",
              "      <td>Lenny: Babe, can you help me with something?\\n...</td>\n",
              "      <td>Lenny can't decide which trousers to buy. Bob ...</td>\n",
              "    </tr>\n",
              "    <tr>\n",
              "      <th>3</th>\n",
              "      <td>13729438</td>\n",
              "      <td>Will: hey babe, what do you want for dinner to...</td>\n",
              "      <td>Emma will be home soon and she will let Will k...</td>\n",
              "    </tr>\n",
              "    <tr>\n",
              "      <th>4</th>\n",
              "      <td>13828600</td>\n",
              "      <td>Ollie: Hi , are you in Warsaw\\nJane: yes, just...</td>\n",
              "      <td>Jane is in Warsaw. Ollie and Jane has a party....</td>\n",
              "    </tr>\n",
              "  </tbody>\n",
              "</table>\n",
              "</div>"
            ],
            "text/plain": [
              "         id                                           dialogue  \\\n",
              "0  13862856  Hannah: Hey, do you have Betty's number?\\nAman...   \n",
              "1  13729565  Eric: MACHINE!\\nRob: That's so gr8!\\nEric: I k...   \n",
              "2  13680171  Lenny: Babe, can you help me with something?\\n...   \n",
              "3  13729438  Will: hey babe, what do you want for dinner to...   \n",
              "4  13828600  Ollie: Hi , are you in Warsaw\\nJane: yes, just...   \n",
              "\n",
              "                                             summary  \n",
              "0  Hannah needs Betty's number but Amanda doesn't...  \n",
              "1  Eric and Rob are going to watch a stand-up on ...  \n",
              "2  Lenny can't decide which trousers to buy. Bob ...  \n",
              "3  Emma will be home soon and she will let Will k...  \n",
              "4  Jane is in Warsaw. Ollie and Jane has a party....  "
            ]
          },
          "execution_count": 3,
          "metadata": {},
          "output_type": "execute_result"
        }
      ],
      "source": [
        "dialogue_df.head()"
      ]
    },
    {
      "cell_type": "code",
      "execution_count": null,
      "metadata": {
        "colab": {
          "base_uri": "https://localhost:8080/"
        },
        "id": "d0kuP1gzENqf",
        "outputId": "6b30dc70-fe0d-422b-caad-8efc960f5b30"
      },
      "outputs": [
        {
          "name": "stdout",
          "output_type": "stream",
          "text": [
            "<class 'pandas.core.frame.DataFrame'>\n",
            "RangeIndex: 1815 entries, 0 to 1814\n",
            "Data columns (total 3 columns):\n",
            " #   Column    Non-Null Count  Dtype \n",
            "---  ------    --------------  ----- \n",
            " 0   id        1815 non-null   object\n",
            " 1   dialogue  1815 non-null   object\n",
            " 2   summary   1815 non-null   object\n",
            "dtypes: object(3)\n",
            "memory usage: 42.7+ KB\n"
          ]
        }
      ],
      "source": [
        "dialogue_df.info()"
      ]
    },
    {
      "cell_type": "code",
      "execution_count": null,
      "metadata": {
        "colab": {
          "base_uri": "https://localhost:8080/"
        },
        "id": "Vn4-qAr4ArxL",
        "outputId": "17d43d5d-2d1c-4fba-f442-88ce3d10f5cd"
      },
      "outputs": [
        {
          "name": "stdout",
          "output_type": "stream",
          "text": [
            "id          0\n",
            "dialogue    0\n",
            "summary     0\n",
            "dtype: int64\n"
          ]
        }
      ],
      "source": [
        "print(dialogue_df.isnull().sum())"
      ]
    },
    {
      "cell_type": "code",
      "execution_count": null,
      "metadata": {
        "id": "NWNNz1WlBEWH"
      },
      "outputs": [],
      "source": [
        "dialogue_df = dialogue_df.dropna()"
      ]
    },
    {
      "cell_type": "code",
      "execution_count": null,
      "metadata": {
        "id": "G4_RMqmmBIYj"
      },
      "outputs": [],
      "source": [
        "# convert text to lowercase\n",
        "dialogue_df['dialogue'] = dialogue_df['dialogue'].str.lower()\n",
        "dialogue_df['summary'] = dialogue_df['summary'].str.lower()\n",
        "def clean_text(text):\n",
        "    text = re.sub(r'[^a-zA-Z0-9?.!,\\s]', '', text)\n",
        "    return text\n",
        "# clean text- only alphanumeric and punctuation\n",
        "dialogue_df['dialogue'] = dialogue_df['dialogue'].apply(clean_text)\n",
        "dialogue_df['summary'] = dialogue_df['summary'].apply(clean_text)"
      ]
    },
    {
      "cell_type": "code",
      "execution_count": null,
      "metadata": {
        "id": "vdNFqDfoCbNm"
      },
      "outputs": [],
      "source": [
        "df = dialogue_df.copy()"
      ]
    },
    {
      "cell_type": "code",
      "execution_count": null,
      "metadata": {
        "colab": {
          "base_uri": "https://localhost:8080/",
          "height": 584
        },
        "id": "iVC9xk-UCTNt",
        "outputId": "b215a2b3-5e94-4721-a024-278a5c50ffc5"
      },
      "outputs": [
        {
          "data": {
            "image/png": "[encoded data removed]",
            "text/plain": [
              "<Figure size 1200x600 with 1 Axes>"
            ]
          },
          "metadata": {},
          "output_type": "display_data"
        }
      ],
      "source": [
        "# Length of dialogues and summaries\n",
        "df['dialogue_length'] = df['dialogue'].apply(lambda x: len(x.split()))\n",
        "df['summary_length'] = df['summary'].apply(lambda x: len(x.split()))\n",
        "plt.figure(figsize=(12, 6))\n",
        "sns.histplot(df['dialogue_length'], bins=30, kde=True, label='Dialogue Length')\n",
        "plt.legend()\n",
        "plt.title('Distribution of Dialogue Lengths')\n",
        "plt.show()"
      ]
    },
    {
      "cell_type": "code",
      "execution_count": null,
      "metadata": {
        "colab": {
          "base_uri": "https://localhost:8080/",
          "height": 492
        },
        "id": "Eytm7cQzCp-7",
        "outputId": "c4c455b2-52a6-4ec2-9e95-271bcd0f178f"
      },
      "outputs": [
        {
          "data": {
            "image/png": "[encoded data removed]",
            "text/plain": [
              "<Figure size 640x480 with 1 Axes>"
            ]
          },
          "metadata": {},
          "output_type": "display_data"
        }
      ],
      "source": [
        "sns.histplot(df['summary_length'], bins=30, kde=True, label='Summary Length')\n",
        "plt.legend()\n",
        "plt.title('Distribution of Summary Lengths')\n",
        "plt.show()"
      ]
    },
    {
      "cell_type": "code",
      "execution_count": null,
      "metadata": {
        "colab": {
          "base_uri": "https://localhost:8080/",
          "height": 584
        },
        "id": "sXrSZCcmFz12",
        "outputId": "fbdf9c88-ee33-4136-f3e5-427888784939"
      },
      "outputs": [
        {
          "data": {
            "image/png": "[encoded data removed]",
            "text/plain": [
              "<Figure size 1000x600 with 1 Axes>"
            ]
          },
          "metadata": {},
          "output_type": "display_data"
        }
      ],
      "source": [
        "# split all dialogues into words and get the count\n",
        "all_words = ' '.join(df['dialogue']).split()\n",
        "common_words = Counter(all_words).most_common(20)\n",
        "words, counts = zip(*common_words)\n",
        "# bar plot\n",
        "plt.figure(figsize=(10, 6))\n",
        "plt.bar(words, counts)\n",
        "plt.xlabel('Words')\n",
        "plt.ylabel('Frequency')\n",
        "plt.title('Most Common Words in Dialogue')\n",
        "plt.show()"
      ]
    },
    {
      "cell_type": "markdown",
      "metadata": {
        "id": "sLjEMv-vEMYX"
      },
      "source": [
        "####Tokenization, Encoding and Text vectorization"
      ]
    },
    {
      "cell_type": "code",
      "execution_count": null,
      "metadata": {
        "id": "ss_LcTfgOnXd"
      },
      "outputs": [],
      "source": [
        "# load the SpaCy english model\n",
        "nlp = spacy.load('en_core_web_sm')\n",
        "\n",
        "# tokenize using SpaCy english model\n",
        "def spacy_tokenizer(text):\n",
        "    return [token.text for token in nlp(text)]\n",
        "\n",
        "# build vocabulary\n",
        "def build_vocab(token_lists, min_freq=1):\n",
        "    token_counter = Counter(token for tokens in token_lists for token in tokens)\n",
        "    vocab = {token: idx+2 for idx, (token, freq) in enumerate(token_counter.items()) if freq >= min_freq}\n",
        "    vocab['<PAD>'] = 0  # Padding token\n",
        "    vocab['<UNK>'] = 1  # Unknown token\n",
        "    return vocab\n",
        "\n",
        "# apply tokenizer to the dataframe\n",
        "df['dialogue_tokens'] = df['dialogue'].apply(spacy_tokenizer)\n",
        "df['summary_tokens'] = df['summary'].apply(spacy_tokenizer)\n",
        "\n",
        "# build vocabularies for dialogues and summaries\n",
        "dialogue_vocab = build_vocab(df['dialogue_tokens'])\n",
        "summary_vocab = build_vocab(df['summary_tokens'])"
      ]
    },
    {
      "cell_type": "code",
      "execution_count": null,
      "metadata": {
        "id": "FXXApgucL5de"
      },
      "outputs": [],
      "source": [
        "len(dialogue_vocab), len(summary_vocab)"
      ]
    },
    {
      "cell_type": "code",
      "execution_count": null,
      "metadata": {
        "id": "M_tTv2q9Pgx2"
      },
      "outputs": [],
      "source": [
        "summary_vocab_inv = {v: k for k, v in summary_vocab.items()}"
      ]
    },
    {
      "cell_type": "markdown",
      "metadata": {
        "id": "MsOw0oCJSZw_"
      },
      "source": [
        "####Extract features and labels"
      ]
    },
    {
      "cell_type": "code",
      "execution_count": null,
      "metadata": {
        "id": "DaCOBZvOQqAp"
      },
      "outputs": [],
      "source": [
        "# convert tokens to integer sequences\n",
        "def tokens_to_ids(tokens, vocab):\n",
        "    return [vocab.get(token, vocab['<UNK>']) for token in tokens]\n",
        "\n",
        "# encode dialogue and summary tokens to integer sequences\n",
        "df['dialogue_ids'] = df['dialogue_tokens'].apply(lambda tokens: tokens_to_ids(tokens, dialogue_vocab))\n",
        "df['summary_ids'] = df['summary_tokens'].apply(lambda tokens: tokens_to_ids(tokens, summary_vocab))\n",
        "\n",
        "# maximum lengths for dialogue and summary\n",
        "max_dialogue_length = max(df['dialogue_ids'].apply(len))\n",
        "max_summary_length = max(df['summary_ids'].apply(len))\n",
        "\n",
        "# pad sequences for consistent length\n",
        "df['dialogue_padded'] = df['dialogue_ids'].apply(lambda x: x[:max_dialogue_length] + [dialogue_vocab['<PAD>']] * (max_dialogue_length - len(x)))\n",
        "df['summary_padded'] = df['summary_ids'].apply(lambda x: x[:max_summary_length] + [summary_vocab['<PAD>']] * (max_summary_length - len(x)))"
      ]
    },
    {
      "cell_type": "code",
      "execution_count": null,
      "metadata": {
        "id": "Xj4Q9llwYKwK"
      },
      "outputs": [],
      "source": [
        "max(df['dialogue_ids'].apply(lambda x: max(x))), max(df['summary_ids'].apply(lambda x:max(x)))"
      ]
    },
    {
      "cell_type": "markdown",
      "metadata": {
        "id": "zwqjsDSDSr1x"
      },
      "source": [
        "###Part 2 : Encoder-Decoder model"
      ]
    },
    {
      "cell_type": "code",
      "execution_count": null,
      "metadata": {
        "id": "wy03yQyYSe52"
      },
      "outputs": [],
      "source": [
        "# split the data into train and test sets\n",
        "train_data, val_data = train_test_split(df, test_size=0.2, random_state=42)"
      ]
    },
    {
      "cell_type": "code",
      "execution_count": null,
      "metadata": {
        "id": "isUzVrVNSzlw"
      },
      "outputs": [],
      "source": [
        "# custom class for the Dialogue Dataset\n",
        "class DialogueDataset(Dataset):\n",
        "    def __init__(self, dialogues, summaries):\n",
        "        self.dialogues = dialogues\n",
        "        self.summaries = summaries\n",
        "\n",
        "    def __len__(self):\n",
        "        return len(self.dialogues)\n",
        "\n",
        "    def __getitem__(self, idx):\n",
        "        return torch.tensor(self.dialogues.iloc[idx]), torch.tensor(self.summaries.iloc[idx])"
      ]
    },
    {
      "cell_type": "code",
      "execution_count": null,
      "metadata": {
        "id": "HPg5G8xgTAqb"
      },
      "outputs": [],
      "source": [
        "# create dataLoader for train and val\n",
        "train_dataset = DialogueDataset(train_data['dialogue_padded'], train_data['summary_padded'])\n",
        "val_dataset = DialogueDataset(val_data['dialogue_padded'], val_data['summary_padded'])\n",
        "\n",
        "train_loader = DataLoader(train_dataset, batch_size=32, shuffle=True)\n",
        "val_loader = DataLoader(val_dataset, batch_size=32)"
      ]
    },
    {
      "cell_type": "code",
      "execution_count": null,
      "metadata": {
        "id": "WadyTaoTTFGo"
      },
      "outputs": [],
      "source": [
        "# LSTM based Encoder-Decoder model\n",
        "class LSTMEncoderDecoderModel(nn.Module):\n",
        "    def __init__(self, input_dim, output_dim, embed_dim, hidden_dim):\n",
        "        super(LSTMEncoderDecoderModel, self).__init__()\n",
        "        self.embedding = nn.Embedding(input_dim, embed_dim)\n",
        "        self.encoder = nn.LSTM(embed_dim, hidden_dim, batch_first=True)\n",
        "        self.decoder = nn.LSTM(embed_dim, hidden_dim, batch_first=True)\n",
        "        self.fc = nn.Linear(hidden_dim, output_dim)\n",
        "\n",
        "    def forward(self, src, tgt):\n",
        "        embedded_src = self.embedding(src)\n",
        "        encoder_outputs, (hidden, cell) = self.encoder(embedded_src)\n",
        "        embedded_tgt = self.embedding(tgt)\n",
        "        decoder_outputs, _ = self.decoder(embedded_tgt, (hidden, cell))\n",
        "        output = self.fc(decoder_outputs)\n",
        "        return output"
      ]
    },
    {
      "cell_type": "code",
      "execution_count": null,
      "metadata": {
        "id": "e5-dSAiWT2qy"
      },
      "outputs": [],
      "source": [
        "# define a function for evaluating the model on validation data\n",
        "def evaluate(model, val_loader, criterion, device):\n",
        "    model.eval()\n",
        "    total_val_loss = 0\n",
        "    total_val_acc = 0\n",
        "    with torch.no_grad():\n",
        "        for batch_idx, (dialogues, summaries) in enumerate(val_loader):\n",
        "            dialogues, summaries = dialogues.to(device), summaries.to(device)\n",
        "            output = model(dialogues, summaries)\n",
        "            output = output.view(-1, output_dim)\n",
        "            summaries = summaries.view(-1)\n",
        "            loss = criterion(output, summaries)\n",
        "            total_val_loss += loss.item()\n",
        "            preds = torch.argmax(output, dim=1)\n",
        "            non_pad_elements = (summaries != dialogue_vocab['<PAD>'])\n",
        "            correct = preds.eq(summaries).masked_select(non_pad_elements).sum().item()\n",
        "            total = non_pad_elements.sum().item()\n",
        "            acc = correct / total if total > 0 else 0\n",
        "            total_val_acc += acc\n",
        "    avg_loss = total_val_loss / len(val_loader)\n",
        "    avg_acc = total_val_acc / len(val_loader)\n",
        "    return avg_loss, avg_acc"
      ]
    },
    {
      "cell_type": "code",
      "execution_count": null,
      "metadata": {
        "id": "gjzzJkjsTpv0"
      },
      "outputs": [],
      "source": [
        "# define parameters\n",
        "input_dim = len(dialogue_vocab)\n",
        "output_dim = len(summary_vocab)\n",
        "embed_dim = 128\n",
        "hidden_dim = 256\n",
        "no_of_epochs = 10\n",
        "# instantiate the model, define loss function and optimizer\n",
        "lstm_model = LSTMEncoderDecoderModel(input_dim, output_dim, embed_dim, hidden_dim)\n",
        "criterion = nn.CrossEntropyLoss(ignore_index=dialogue_vocab['<PAD>'])\n",
        "optimizer = optim.Adam(lstm_model.parameters())"
      ]
    },
    {
      "cell_type": "code",
      "execution_count": null,
      "metadata": {
        "colab": {
          "base_uri": "https://localhost:8080/"
        },
        "id": "MD8eIX6FMcbV",
        "outputId": "343a0ea6-8fb7-47f5-d2fd-4ce87bf1689d"
      },
      "outputs": [
        {
          "name": "stdout",
          "output_type": "stream",
          "text": [
            "Epoch: 0\n",
            "Training Loss: 6.452574253082275, Training Accuracy: 0.2334843862912179\n",
            "Validation Loss: 5.0145706335703535, Validation Accuracy: 0.39954118743117384\n",
            "Epoch: 1\n",
            "Training Loss: 4.131836891174316, Training Accuracy: 0.4810900613477449\n",
            "Validation Loss: 3.7812601725260415, Validation Accuracy: 0.5577497851911325\n",
            "Epoch: 2\n",
            "Training Loss: 3.062596321105957, Training Accuracy: 0.6249514322311045\n",
            "Validation Loss: 3.056633730729421, Validation Accuracy: 0.6756933342064158\n",
            "Epoch: 3\n",
            "Training Loss: 2.3373188972473145, Training Accuracy: 0.725771908746153\n",
            "Validation Loss: 2.5594690243403115, Validation Accuracy: 0.7460601656021538\n",
            "Epoch: 4\n",
            "Training Loss: 1.8015822172164917, Training Accuracy: 0.7938884604619225\n",
            "Validation Loss: 2.201528310775757, Validation Accuracy: 0.7936640052527678\n",
            "Epoch: 5\n",
            "Training Loss: 1.3965619802474976, Training Accuracy: 0.843320125403313\n",
            "Validation Loss: 1.9555159111817677, Validation Accuracy: 0.8215621389444375\n",
            "Epoch: 6\n",
            "Training Loss: 1.0832453966140747, Training Accuracy: 0.8812666072184051\n",
            "Validation Loss: 1.7782584726810455, Validation Accuracy: 0.8460415294560133\n",
            "Epoch: 7\n",
            "Training Loss: 0.8443942666053772, Training Accuracy: 0.9104566121994894\n",
            "Validation Loss: 1.65157284339269, Validation Accuracy: 0.8606905255918401\n",
            "Epoch: 8\n",
            "Training Loss: 0.6506792306900024, Training Accuracy: 0.947753098007524\n",
            "Validation Loss: 1.5607703626155853, Validation Accuracy: 0.87983483787376\n",
            "Epoch: 9\n",
            "Training Loss: 0.49400168657302856, Training Accuracy: 0.9802673635782119\n",
            "Validation Loss: 1.4895913501580555, Validation Accuracy: 0.896168988764816\n",
            "Training complete.\n"
          ]
        }
      ],
      "source": [
        "# training the model\n",
        "device = torch.device(\"cuda\" if torch.cuda.is_available() else \"cpu\")\n",
        "lstm_model.to(device)\n",
        "\n",
        "for epoch in range(no_of_epochs):\n",
        "    lstm_model.train()\n",
        "    total_train_loss = 0\n",
        "    total_train_acc = 0\n",
        "    for batch_idx, (dialogues, summaries) in enumerate(train_loader):\n",
        "        dialogues, summaries = dialogues.to(device), summaries.to(device)\n",
        "        optimizer.zero_grad()\n",
        "        output = lstm_model(dialogues, summaries)\n",
        "        # Reshape for loss function\n",
        "        output = output.view(-1, output_dim)\n",
        "        summaries = summaries.view(-1)\n",
        "        loss = criterion(output, summaries)\n",
        "        loss.backward()\n",
        "        optimizer.step()\n",
        "        # Get the predicted token by taking the argmax over the output probabilities\n",
        "        preds = torch.argmax(output, dim=1)\n",
        "        # Create a mask to ignore the padding tokens in the target\n",
        "        non_pad_elements = (summaries != dialogue_vocab['<PAD>'])\n",
        "        # Calculate accuracy by comparing predicted and target tokens\n",
        "        correct = preds.eq(summaries).masked_select(non_pad_elements).sum().item()\n",
        "        total = non_pad_elements.sum().item()\n",
        "        acc = correct / total if total > 0 else 0\n",
        "        total_train_loss += loss\n",
        "        total_train_acc += acc\n",
        "    # Average training loss and accuracy for the epoch\n",
        "    avg_train_loss = total_train_loss / len(train_loader)\n",
        "    avg_train_acc = total_train_acc / len(train_loader)\n",
        "    print(f'Epoch: {epoch}\\nTraining Loss: {avg_train_loss}, Training Accuracy: {avg_train_acc}')\n",
        "    # Validation step\n",
        "    val_loss, val_acc = evaluate(lstm_model, val_loader, criterion, device)\n",
        "    print(f'Validation Loss: {val_loss}, Validation Accuracy: {val_acc}')\n",
        "\n",
        "print(\"Training complete.\")"
      ]
    },
    {
      "cell_type": "code",
      "execution_count": null,
      "metadata": {
        "colab": {
          "background_save": true
        },
        "id": "I4UGzJd9LuCb",
        "outputId": "fffa72ef-ac98-4693-929e-cb88e9a65f4d"
      },
      "outputs": [
        {
          "name": "stdout",
          "output_type": "stream",
          "text": [
            "Epoch [1/10]\n",
            "Training Loss: 6.8411, Training Accuracy: 0.0272\n",
            "Validation Loss: 6.4686, Validation Accuracy: 0.0353\n",
            "Epoch [2/10]\n",
            "Training Loss: 6.1161, Training Accuracy: 0.0352\n",
            "Validation Loss: 6.4994, Validation Accuracy: 0.0354\n",
            "Epoch [3/10]\n",
            "Training Loss: 5.9412, Training Accuracy: 0.0410\n",
            "Validation Loss: 6.5414, Validation Accuracy: 0.0358\n",
            "Epoch [4/10]\n",
            "Training Loss: 5.7723, Training Accuracy: 0.0443\n",
            "Validation Loss: 6.5845, Validation Accuracy: 0.0356\n",
            "Epoch [5/10]\n",
            "Training Loss: 5.6333, Training Accuracy: 0.0455\n",
            "Validation Loss: 6.6414, Validation Accuracy: 0.0346\n",
            "Epoch [6/10]\n",
            "Training Loss: 5.5496, Training Accuracy: 0.0453\n",
            "Validation Loss: 6.6755, Validation Accuracy: 0.0339\n"
          ]
        }
      ],
      "source": [
        "\n",
        "# Define the Encoder class\n",
        "class Encoder(nn.Module):\n",
        "    def __init__(self, input_size, embedding_size, hidden_size, num_layers):\n",
        "        super(Encoder, self).__init__()\n",
        "        self.hidden_size = hidden_size\n",
        "        self.num_layers = num_layers\n",
        "\n",
        "        self.embedding = nn.Embedding(input_size, embedding_size, padding_idx=0)\n",
        "        self.lstm = nn.LSTM(embedding_size, hidden_size, num_layers, batch_first=True)\n",
        "\n",
        "    def forward(self, x):\n",
        "        embedding = self.embedding(x)\n",
        "        outputs, (hidden, cell) = self.lstm(embedding)\n",
        "        return hidden, cell\n",
        "\n",
        "# Define the Decoder class\n",
        "class Decoder(nn.Module):\n",
        "    def __init__(self, output_size, embedding_size, hidden_size, num_layers):\n",
        "        super(Decoder, self).__init__()\n",
        "        self.hidden_size = hidden_size\n",
        "        self.num_layers = num_layers\n",
        "\n",
        "        self.embedding = nn.Embedding(output_size, embedding_size, padding_idx=0)\n",
        "        self.lstm = nn.LSTM(embedding_size, hidden_size, num_layers, batch_first=True)\n",
        "        self.fc = nn.Linear(hidden_size, output_size)\n",
        "\n",
        "    def forward(self, x, hidden, cell):\n",
        "        x = x.unsqueeze(1)\n",
        "        embedding = self.embedding(x)\n",
        "        outputs, (hidden, cell) = self.lstm(embedding, (hidden, cell))\n",
        "        predictions = self.fc(outputs).squeeze(1)\n",
        "        return predictions, hidden, cell\n",
        "\n",
        "# Define Seq2Seq model class\n",
        "class Seq2Seq(nn.Module):\n",
        "    def __init__(self, encoder, decoder, device):\n",
        "        super(Seq2Seq, self).__init__()\n",
        "        self.encoder = encoder\n",
        "        self.decoder = decoder\n",
        "        self.device = device\n",
        "\n",
        "    def forward(self, source, target, teacher_forcing_ratio=0.5):\n",
        "        batch_size = source.shape[0]\n",
        "        target_len = target.shape[1]\n",
        "        target_vocab_size = self.decoder.fc.out_features\n",
        "\n",
        "        outputs = torch.zeros(batch_size, target_len, target_vocab_size).to(self.device)\n",
        "        hidden, cell = self.encoder(source)\n",
        "\n",
        "        x = target[:, 0]  # <sos> token as initial input\n",
        "        for t in range(1, target_len):\n",
        "            output, hidden, cell = self.decoder(x, hidden, cell)\n",
        "            outputs[:, t, :] = output\n",
        "            teacher_force = torch.rand(1).item() < teacher_forcing_ratio\n",
        "            top1 = output.argmax(1)\n",
        "            x = target[:, t] if teacher_force else top1\n",
        "        return outputs\n",
        "\n",
        "def accuracy_fn(predictions, targets):\n",
        "    pred_tokens = predictions.argmax(dim=2)  # Get the predicted tokens (batch_size, seq_len)\n",
        "    correct = (pred_tokens == targets).float()  # Compare with targets (batch_size, seq_len)\n",
        "    acc = correct.sum() / correct.numel()  # Calculate accuracy\n",
        "    return acc\n",
        "\n",
        "def evaluate(model, criterion, data_loader, device):\n",
        "    model.eval()\n",
        "    epoch_loss = 0\n",
        "    epoch_acc = 0\n",
        "\n",
        "    with torch.no_grad():\n",
        "        for source, target in data_loader:\n",
        "            source = source.to(device)\n",
        "            target = target.to(device)\n",
        "\n",
        "            outputs = model(source, target, teacher_forcing_ratio=0)  # no teacher forcing during evaluation\n",
        "\n",
        "            # Accuracy calculation before reshaping\n",
        "            acc = accuracy_fn(outputs, target)  # Original output shape (batch_size, seq_len, vocab_size)\n",
        "            epoch_acc += acc.item()\n",
        "\n",
        "            # Loss calculation\n",
        "            outputs = outputs[:, 1:].reshape(-1, outputs.shape[-1])  # Flatten for loss calculation\n",
        "            target = target[:, 1:].reshape(-1)\n",
        "            loss = criterion(outputs, target)\n",
        "\n",
        "            epoch_loss += loss.item()\n",
        "\n",
        "    return epoch_loss / len(data_loader), epoch_acc / len(data_loader)\n",
        "\n",
        "\n",
        "def train(model, criterion, optimizer, train_loader, val_loader, device, epochs=10):\n",
        "    for epoch in range(epochs):\n",
        "        model.train()\n",
        "        train_loss = 0\n",
        "        train_acc = 0\n",
        "\n",
        "        for source, target in train_loader:\n",
        "            source = source.to(device)\n",
        "            target = target.to(device)\n",
        "\n",
        "            optimizer.zero_grad()\n",
        "            outputs = model(source, target)\n",
        "\n",
        "            # Accuracy calculation before reshaping\n",
        "            acc = accuracy_fn(outputs, target)  # Original output shape (batch_size, seq_len, vocab_size)\n",
        "            train_acc += acc.item()\n",
        "\n",
        "            # Loss calculation\n",
        "            outputs = outputs[:, 1:].reshape(-1, outputs.shape[-1])  # Flatten for loss calculation\n",
        "            target = target[:, 1:].reshape(-1)\n",
        "            loss = criterion(outputs, target)\n",
        "\n",
        "            loss.backward()\n",
        "            optimizer.step()\n",
        "\n",
        "            train_loss += loss.item()\n",
        "\n",
        "        # Validation loss and accuracy after each epoch\n",
        "        val_loss, val_acc = evaluate(model, criterion, val_loader, device)\n",
        "\n",
        "        print(f'Epoch [{epoch+1}/{epochs}]')\n",
        "        print(f'Training Loss: {train_loss / len(train_loader):.4f}, Training Accuracy: {train_acc / len(train_loader):.4f}')\n",
        "        print(f'Validation Loss: {val_loss:.4f}, Validation Accuracy: {val_acc:.4f}')\n",
        "\n",
        "\n",
        "# Example usage\n",
        "device = torch.device(\"cuda\" if torch.cuda.is_available() else \"cpu\")\n",
        "\n",
        "input_size = len(dialogue_vocab)  # Vocabulary size for dialogues\n",
        "output_size = len(summary_vocab)  # Vocabulary size for summaries\n",
        "embedding_size = 256\n",
        "hidden_size = 512\n",
        "num_layers = 1\n",
        "batch_size = 32\n",
        "learning_rate = 0.001\n",
        "\n",
        "# Instantiate encoder, decoder, and Seq2Seq model\n",
        "encoder = Encoder(input_size, embedding_size, hidden_size, num_layers).to(device)\n",
        "decoder = Decoder(output_size, embedding_size, hidden_size, num_layers).to(device)\n",
        "model = Seq2Seq(encoder, decoder, device).to(device)\n",
        "\n",
        "# Define loss and optimizer\n",
        "criterion = nn.CrossEntropyLoss(ignore_index=0)  # Padding index should be ignored\n",
        "optimizer = optim.Adam(model.parameters(), lr=learning_rate)\n",
        "\n",
        "# Assuming DataLoader objects `train_loader` and `val_loader` are created as before\n",
        "train_loader = DataLoader(train_dataset, batch_size=batch_size, shuffle=True)\n",
        "val_loader = DataLoader(val_dataset, batch_size=batch_size)\n",
        "\n",
        "# Start training\n",
        "train(model, criterion, optimizer, train_loader, val_loader, device, epochs=10)\n"
      ]
    },
    {
      "cell_type": "markdown",
      "metadata": {
        "id": "WuGmKaE4UzkV"
      },
      "source": [
        "###Part 3 : BERT"
      ]
    },
    {
      "cell_type": "code",
      "execution_count": null,
      "metadata": {
        "colab": {
          "base_uri": "https://localhost:8080/",
          "height": 336,
          "referenced_widgets": [
            "9da9b9c21b044e13871970971cb4e743",
            "947f1c83bdac4a44948f8d7fb7498bcf",
            "bbf74f1d47f049ecae648a9c4c921422",
            "6d1b494976d84a67b1b8ad80178f35a5",
            "01a352235b2d452084f7691391466ae6",
            "c7eb83f495b84097b65e4f5cebaba907",
            "d7575976fb184a488736f434972585ee",
            "fe8c78bbd7e04b46adfed9159c953822",
            "54e01213bd0d4668a8fe3e5a4455e2b1",
            "bd042c34f08644b1860fed1ddfa95225",
            "1c6464d2338e459e9110112e78a739b4",
            "2f3045ffad0d457aa1e578302a9b203e",
            "a260e0d90ec74fe586cc754399286df1",
            "b57a15773915444fa2267faad1684315",
            "2bae8a15362f4afb948cb71bf0299c86",
            "56711f81ed4c407293690a961db57995",
            "a61d4b06922748bdb288e848724b31f6",
            "cbb99c6f63cd422dbcd55c27bec0a490",
            "063db44c159440cf9c48e061dd4a20b1",
            "183a5bad3c004ec78975e7f57b99e4d1",
            "feffe685d8b04b8fa89b47b3bb5844b1",
            "b9150982c78e409ebccc353712516573",
            "4e4e5683bc57445ca598a79651cdee52",
            "38857143e4b14640ada328e996cfa9cc",
            "7b56a1d816de4f8caa4d8d4853124ee0",
            "0435a2ee3e184a449e68c9a6c16fe68a",
            "ec735d303e1b4275b8b6ee1d18be5d45",
            "a39fe19581404da19222244d0767c316",
            "704b779143df4390b413b9cb8c75b75f",
            "391d1494540a43b4b8854a5c0353e781",
            "34e86fcf6af640568216fe5c97de2522",
            "eaf181ed20154cae85b67757b43c874b",
            "2cacef490e2848069acdcdde44ebacce",
            "8a80778d42a84fff9e0fa39e36061006",
            "db8e40379f1345a195cfb3fd7ff2b3c1",
            "625d39d88ff64236be4594735a80fa0d",
            "b70220c8d8964a6a828a7dac51e40aa4",
            "1669d6e6cdc2432aa59cc61fe47e14b5",
            "118b2c5f980b4e4a98c403bef50ddb36",
            "da6bffec9fc6477aaf7cd9c4a54e7fe3",
            "3e3f96d53ebb47cb952691a706feac15",
            "7253ddaefe704d2ba9a24455b62c3121",
            "b90103b9148d4d858ce7b722df73e63a",
            "f6d6efa6533946feb13e56e79e308b18",
            "4d7688513f5b41caac86c509d8b82b46",
            "9e889f923ca142298b88dea5dfe7da24",
            "69de88c1584b4a3ba460f61ab9dfc53f",
            "60c0320f4b6647a284785f0ccca49b23",
            "006f6ac0955b48e89559b76d8fe4fa21",
            "80f659f2ef7f43eea4485d24b9fecc8b",
            "791633035f0845ec988c5a7c73ea2545",
            "c911d7fa099a4485a53e6ff17f3c0cd1",
            "3557058d3dd24a198b56430b08696d56",
            "0c7f40fea5b34d42a1f4f44e36530ea8",
            "1dcc840a8306400aa2d3cbdd0825b484"
          ]
        },
        "id": "-wYUaSwLT9a-",
        "outputId": "54aebcab-2d32-4962-b189-fa65b3ddc479"
      },
      "outputs": [
        {
          "name": "stderr",
          "output_type": "stream",
          "text": [
            "/usr/local/lib/python3.10/dist-packages/huggingface_hub/utils/_token.py:89: UserWarning: \n",
            "The secret `HF_TOKEN` does not exist in your Colab secrets.\n",
            "To authenticate with the Hugging Face Hub, create a token in your settings tab (https://huggingface.co/settings/tokens), set it as secret in your Google Colab and restart your session.\n",
            "You will be able to reuse this secret in all of your notebooks.\n",
            "Please note that authentication is recommended but still optional to access public models or datasets.\n",
            "  warnings.warn(\n"
          ]
        },
        {
          "data": {
            "application/vnd.jupyter.widget-view+json": {
              "model_id": "9da9b9c21b044e13871970971cb4e743",
              "version_major": 2,
              "version_minor": 0
            },
            "text/plain": [
              "tokenizer_config.json:   0%|          | 0.00/48.0 [00:00<?, ?B/s]"
            ]
          },
          "metadata": {},
          "output_type": "display_data"
        },
        {
          "data": {
            "application/vnd.jupyter.widget-view+json": {
              "model_id": "2f3045ffad0d457aa1e578302a9b203e",
              "version_major": 2,
              "version_minor": 0
            },
            "text/plain": [
              "vocab.txt:   0%|          | 0.00/232k [00:00<?, ?B/s]"
            ]
          },
          "metadata": {},
          "output_type": "display_data"
        },
        {
          "data": {
            "application/vnd.jupyter.widget-view+json": {
              "model_id": "4e4e5683bc57445ca598a79651cdee52",
              "version_major": 2,
              "version_minor": 0
            },
            "text/plain": [
              "tokenizer.json:   0%|          | 0.00/466k [00:00<?, ?B/s]"
            ]
          },
          "metadata": {},
          "output_type": "display_data"
        },
        {
          "data": {
            "application/vnd.jupyter.widget-view+json": {
              "model_id": "8a80778d42a84fff9e0fa39e36061006",
              "version_major": 2,
              "version_minor": 0
            },
            "text/plain": [
              "config.json:   0%|          | 0.00/570 [00:00<?, ?B/s]"
            ]
          },
          "metadata": {},
          "output_type": "display_data"
        },
        {
          "name": "stderr",
          "output_type": "stream",
          "text": [
            "/usr/local/lib/python3.10/dist-packages/transformers/tokenization_utils_base.py:1601: FutureWarning: `clean_up_tokenization_spaces` was not set. It will be set to `True` by default. This behavior will be depracted in transformers v4.45, and will be then set to `False` by default. For more details check this issue: https://github.com/huggingface/transformers/issues/31884\n",
            "  warnings.warn(\n"
          ]
        },
        {
          "data": {
            "application/vnd.jupyter.widget-view+json": {
              "model_id": "4d7688513f5b41caac86c509d8b82b46",
              "version_major": 2,
              "version_minor": 0
            },
            "text/plain": [
              "model.safetensors:   0%|          | 0.00/440M [00:00<?, ?B/s]"
            ]
          },
          "metadata": {},
          "output_type": "display_data"
        }
      ],
      "source": [
        "# Load the BERT tokenizer and model\n",
        "tokenizer = BertTokenizer.from_pretrained('bert-base-uncased')\n",
        "bert_model = BertModel.from_pretrained('bert-base-uncased')"
      ]
    },
    {
      "cell_type": "code",
      "execution_count": null,
      "metadata": {
        "id": "EmjeBmn1U6WG"
      },
      "outputs": [],
      "source": [
        "# tokenization function using BERT\n",
        "def bert_tokenizer(text, max_length=100):\n",
        "    tokens = tokenizer.encode_plus(\n",
        "        text,\n",
        "        max_length=max_length,\n",
        "        truncation=True,\n",
        "        padding='max_length',\n",
        "        add_special_tokens=True,  # Add [CLS] and [SEP]\n",
        "        return_tensors='pt'       # Return PyTorch tensors\n",
        "    )\n",
        "    return tokens['input_ids'], tokens['attention_mask']"
      ]
    },
    {
      "cell_type": "code",
      "execution_count": null,
      "metadata": {
        "id": "V3IdrWuxU_LM"
      },
      "outputs": [],
      "source": [
        "# apply BERT tokenizer to dialogues and summaries\n",
        "df['dialogue_input_ids'], df['dialogue_attention_mask'] = zip(*df['dialogue'].apply(lambda x: bert_tokenizer(x, max_length=250)))\n",
        "df['summary_input_ids'], df['summary_attention_mask'] = zip(*df['summary'].apply(lambda x: bert_tokenizer(x, max_length=50)))"
      ]
    },
    {
      "cell_type": "code",
      "execution_count": null,
      "metadata": {
        "id": "5aGbLJgGVykC"
      },
      "outputs": [],
      "source": [
        "class DialogueDatasetBERT(Dataset):\n",
        "    def __init__(self, dialogues, summaries, dialogue_masks, summary_masks):\n",
        "        self.dialogues = dialogues\n",
        "        self.summaries = summaries\n",
        "        self.dialogue_masks = dialogue_masks\n",
        "        self.summary_masks = summary_masks\n",
        "\n",
        "    def __len__(self):\n",
        "        return len(self.dialogues)\n",
        "\n",
        "    def __getitem__(self, idx):\n",
        "        return {\n",
        "            'dialogue': self.dialogues.iloc[idx].squeeze(0),\n",
        "            'summary': self.summaries.iloc[idx].squeeze(0),\n",
        "            'dialogue_mask': self.dialogue_masks.iloc[idx].squeeze(0),\n",
        "            'summary_mask': self.summary_masks.iloc[idx].squeeze(0)\n",
        "        }"
      ]
    },
    {
      "cell_type": "code",
      "execution_count": null,
      "metadata": {
        "id": "iH7reNNiGeTd"
      },
      "outputs": [],
      "source": [
        "class BERTTransformerDecoderModel(nn.Module):\n",
        "    def __init__(self, bert_model, output_dim, hidden_dim, nhead, num_decoder_layers, max_length, pad_token_id):\n",
        "        super(BERTTransformerDecoderModel, self).__init__()\n",
        "        self.bert = bert_model\n",
        "        self.pad_token_id = pad_token_id\n",
        "        # Linear projection to match BERT output (768) to hidden_dim (512)\n",
        "        self.projection_layer = nn.Linear(bert_model.config.hidden_size, hidden_dim)\n",
        "        # Embedding for decoder input\n",
        "        self.embedding = nn.Embedding(output_dim, hidden_dim)\n",
        "        self.positional_encoding = nn.Parameter(torch.zeros(1, max_length, hidden_dim))\n",
        "        # Transformer decoder\n",
        "        self.transformer_decoder = nn.TransformerDecoder(\n",
        "            nn.TransformerDecoderLayer(d_model=hidden_dim, nhead=nhead),\n",
        "            num_layers=num_decoder_layers\n",
        "        )\n",
        "        # Linear layer to map hidden states to vocabulary\n",
        "        self.fc = nn.Linear(hidden_dim, output_dim)\n",
        "\n",
        "    def forward(self, dialogue_ids, dialogue_mask, summary_ids):\n",
        "        # Get BERT embeddings for dialogue (Encoder)\n",
        "        with torch.no_grad():\n",
        "          bert_outputs = self.bert(input_ids=dialogue_ids, attention_mask=dialogue_mask)\n",
        "          encoder_outputs = bert_outputs.last_hidden_state\n",
        "        # Project BERT's hidden size to the decoder's expected hidden size (512)\n",
        "        encoder_outputs = self.projection_layer(encoder_outputs)\n",
        "        # Get summary embeddings (Decoder input)\n",
        "        summary_embeddings = self.embedding(summary_ids) + self.positional_encoding[:, :summary_ids.size(1), :]\n",
        "        # Generate attention mask for the summary (to prevent attending to future tokens)\n",
        "        tgt_mask = self.generate_square_subsequent_mask(summary_ids.size(1)).to(summary_ids.device)\n",
        "        # Convert dialogue_mask to a boolean type\n",
        "        dialogue_mask_bool = (dialogue_mask == self.pad_token_id)  # Use pad_token_id for boolean mask\n",
        "        # Pass through Transformer decoder\n",
        "        decoder_outputs = self.transformer_decoder(\n",
        "            summary_embeddings.transpose(0, 1),  # (seq_len, batch_size, embed_dim)\n",
        "            encoder_outputs.transpose(0, 1),     # (seq_len, batch_size, embed_dim)\n",
        "            tgt_mask=tgt_mask,\n",
        "            memory_key_padding_mask=dialogue_mask_bool  # Transformer expects boolean mask\n",
        "        )\n",
        "        # Final output layer to map to vocabulary\n",
        "        output = self.fc(decoder_outputs.transpose(0, 1))  # (batch_size, seq_len, output_dim)\n",
        "        return output\n",
        "\n",
        "    def generate_square_subsequent_mask(self, sz):\n",
        "        \"\"\"Generate a mask to prevent attention to future tokens in the decoder.\"\"\"\n",
        "        mask = torch.triu(torch.ones(sz, sz) * float('-inf'), diagonal=1)\n",
        "        return mask\n"
      ]
    },
    {
      "cell_type": "code",
      "execution_count": null,
      "metadata": {
        "id": "n5QeFsgSWLdn"
      },
      "outputs": [],
      "source": [
        "train_data, val_data = train_test_split(df, test_size=0.2, random_state=42)"
      ]
    },
    {
      "cell_type": "code",
      "execution_count": null,
      "metadata": {
        "id": "Rssw-YL4V606"
      },
      "outputs": [],
      "source": [
        "# create dataLoader\n",
        "train_dataset = DialogueDatasetBERT(\n",
        "    train_data['dialogue_input_ids'],\n",
        "    train_data['summary_input_ids'],\n",
        "    train_data['dialogue_attention_mask'],\n",
        "    train_data['summary_attention_mask']\n",
        ")\n",
        "val_dataset = DialogueDatasetBERT(\n",
        "    val_data['dialogue_input_ids'],\n",
        "    val_data['summary_input_ids'],\n",
        "    val_data['dialogue_attention_mask'],\n",
        "    val_data['summary_attention_mask']\n",
        ")\n",
        "train_loader = DataLoader(train_dataset, batch_size=8, shuffle=True)\n",
        "val_loader = DataLoader(val_dataset, batch_size=8)"
      ]
    },
    {
      "cell_type": "code",
      "execution_count": null,
      "metadata": {
        "id": "OXJEuVcbGp7A"
      },
      "outputs": [],
      "source": [
        "# Define parameters\n",
        "hidden_dim = 512\n",
        "nhead = 8\n",
        "num_decoder_layers = 6\n",
        "no_of_epochs = 10\n",
        "output_dim = tokenizer.vocab_size  # Vocabulary size for the summary\n",
        "max_length = 50  # Maximum length of the summary\n",
        "pad_token_id = tokenizer.pad_token_id\n",
        "bert_transformer_model = BERTTransformerDecoderModel(bert_model, output_dim, hidden_dim, nhead, num_decoder_layers, max_length, pad_token_id)\n",
        "bert_transformer_model.to(device)\n",
        "criterion = nn.CrossEntropyLoss(ignore_index=pad_token_id)\n",
        "optimizer = optim.Adam(bert_transformer_model.parameters(), lr=1e-4)"
      ]
    },
    {
      "cell_type": "code",
      "execution_count": null,
      "metadata": {
        "colab": {
          "base_uri": "https://localhost:8080/"
        },
        "id": "bdDV8HxUWTO8",
        "outputId": "5b5355f4-5c82-47c8-f77a-04901edd42ae"
      },
      "outputs": [
        {
          "name": "stdout",
          "output_type": "stream",
          "text": [
            "Epoch: 0\n",
            "Training Loss: 4.592850125752962\n",
            "Training Accuracy: 0.555978374973756\n",
            "Validation Loss: 2.926407990248307\n",
            "Validation Accuracy: 0.7104282115869017\n",
            "Epoch: 1\n",
            "Training Loss: 2.181958021043421\n",
            "Training Accuracy: 0.7767425992021835\n",
            "Validation Loss: 2.072471051112465\n",
            "Validation Accuracy: 0.8110831234256927\n",
            "Epoch: 2\n",
            "Training Loss: 1.4247269810556056\n",
            "Training Accuracy: 0.8652634893974386\n",
            "Validation Loss: 1.6801421564558279\n",
            "Validation Accuracy: 0.853198992443325\n",
            "Epoch: 3\n",
            "Training Loss: 0.9970573910645076\n",
            "Training Accuracy: 0.9152319966407726\n",
            "Validation Loss: 1.4423970606016077\n",
            "Validation Accuracy: 0.8787909319899244\n",
            "Epoch: 4\n",
            "Training Loss: 0.7057819659565832\n",
            "Training Accuracy: 0.9492704178039051\n",
            "Validation Loss: 1.2962378807689832\n",
            "Validation Accuracy: 0.9034760705289673\n",
            "Epoch: 5\n",
            "Training Loss: 0.5020626599972065\n",
            "Training Accuracy: 0.9833613268948141\n",
            "Validation Loss: 1.1780067578605984\n",
            "Validation Accuracy: 0.9232241813602015\n",
            "Epoch: 6\n",
            "Training Loss: 0.34936521104076407\n",
            "Training Accuracy: 0.9983203863111484\n",
            "Validation Loss: 1.1080423982247063\n",
            "Validation Accuracy: 0.9263476070528968\n",
            "Epoch: 7\n",
            "Training Loss: 0.23215205103650197\n",
            "Training Accuracy: 0.9999737560361117\n",
            "Validation Loss: 1.0559063955493595\n",
            "Validation Accuracy: 0.926448362720403\n",
            "Epoch: 8\n",
            "Training Loss: 0.14988433152109712\n",
            "Training Accuracy: 1.0\n",
            "Validation Loss: 1.0058463604553887\n",
            "Validation Accuracy: 0.9265491183879093\n",
            "Epoch: 9\n",
            "Training Loss: 0.08864118783110446\n",
            "Training Accuracy: 1.0\n",
            "Validation Loss: 0.9713011371052783\n",
            "Validation Accuracy: 0.9265491183879093\n",
            "Training complete\n"
          ]
        }
      ],
      "source": [
        "# model training\n",
        "for epoch in range(no_of_epochs):\n",
        "    bert_transformer_model.train()\n",
        "    running_loss = 0.0\n",
        "    correct_train_predictions = 0\n",
        "    total_train_tokens = 0\n",
        "    for batch in train_loader:\n",
        "        dialogues = batch['dialogue'].to(device)\n",
        "        dialogue_masks = batch['dialogue_mask'].to(device)\n",
        "        summaries = batch['summary'].to(device)\n",
        "        summary_masks = batch['summary_mask'].to(device)\n",
        "        optimizer.zero_grad()\n",
        "        output = bert_transformer_model(dialogues, dialogue_masks, summaries)\n",
        "        output = output[:, :summaries.shape[1], :]\n",
        "        batch_size, seq_len, _ = output.shape\n",
        "        output = output.reshape(-1, output_dim)\n",
        "        summaries = summaries.reshape(-1)\n",
        "        # Mask out padding tokens in loss computation\n",
        "        valid_indices = summaries != tokenizer.pad_token_id\n",
        "        output = output[valid_indices]\n",
        "        summaries = summaries[valid_indices]\n",
        "        loss = criterion(output, summaries)\n",
        "        loss.backward()\n",
        "        optimizer.step()\n",
        "        running_loss += loss.item()\n",
        "        preds = torch.argmax(output, dim=-1)\n",
        "        correct_train_predictions += (preds == summaries).sum().item()\n",
        "        total_train_tokens += valid_indices.sum().item()\n",
        "    train_loss = running_loss / len(train_loader)\n",
        "    train_acc = correct_train_predictions / total_train_tokens  # Training accuracy\n",
        "    print(f'Epoch: {epoch}\\nTraining Loss: {train_loss}\\nTraining Accuracy: {train_acc}')\n",
        "    # Validation\n",
        "    bert_transformer_model.eval()\n",
        "    val_loss = 0.0\n",
        "    val_loss = 0.0\n",
        "    correct_val_predictions = 0\n",
        "    total_val_tokens = 0\n",
        "    with torch.no_grad():\n",
        "        for batch in val_loader:\n",
        "            dialogues = batch['dialogue'].to(device)\n",
        "            dialogue_masks = batch['dialogue_mask'].to(device)\n",
        "            summaries = batch['summary'].to(device)\n",
        "            summary_masks = batch['summary_mask'].to(device)\n",
        "            output = bert_transformer_model(dialogues, dialogue_masks, summaries)\n",
        "            output = output[:, :summaries.shape[1], :]\n",
        "            batch_size, seq_len, _ = output.shape\n",
        "            output = output.reshape(-1, output_dim)\n",
        "            summaries = summaries.reshape(-1)\n",
        "            # mask out padding tokens in loss computation\n",
        "            valid_indices = summaries != tokenizer.pad_token_id\n",
        "            output = output[valid_indices]\n",
        "            summaries = summaries[valid_indices]\n",
        "            loss = criterion(output, summaries)\n",
        "            val_loss += loss.item()\n",
        "            preds = torch.argmax(output, dim=-1)\n",
        "            correct_val_predictions += (preds == summaries).sum().item()\n",
        "            total_val_tokens += valid_indices.sum().item()\n",
        "    val_loss = val_loss / len(val_loader)\n",
        "    val_acc = correct_val_predictions / total_val_tokens  # Validation accuracy\n",
        "    print(f'Validation Loss: {val_loss}\\nValidation Accuracy: {val_acc}')\n",
        "print(\"Training complete\")"
      ]
    },
    {
      "cell_type": "markdown",
      "metadata": {
        "id": "6B1RPWZf3Myb"
      },
      "source": [
        "###Prediction and Evaluation"
      ]
    },
    {
      "cell_type": "code",
      "execution_count": null,
      "metadata": {
        "id": "U44BHNxq3LiQ"
      },
      "outputs": [],
      "source": [
        "dialogue_text = \"\"\"\n",
        "Kris: Hey! Does anyone here listen to podcasts?\n",
        "Leigh: Sure!\n",
        "Sam: Not really, but thinking about it.\n",
        "Kris: Gr8! Leigh, tell me. Where do u get them from?\n",
        "Leigh: What do u mean?\n",
        "Kris: Do u have a website or something?\n",
        "Leigh: I have an app. It's called PodCasts. Don't u have one?\n",
        "Sam: iPhone?\n",
        "Leigh: Yes :)\n",
        "Kris: Okay. Need to find some podcasts.\n",
        "Sam: Y?\n",
        "Kris: Well, I can't listen to all the ppl talking on the train when I commute.\n",
        "Leigh: So y not music?\n",
        "Kris: Not always in the mood for that. If I'm still sleepy, I feel I don't appreciate it enough.\n",
        "Sam: Depends really on the topic. What are u looking for?\n",
        "Kris: Well, I like reading, so literature. Interested in social topics, like homelessness and so on. I also like psychology.\n",
        "Leigh: You should try Mark Gungor!\n",
        "\"\"\""
      ]
    },
    {
      "cell_type": "markdown",
      "metadata": {
        "id": "Aev_Rmbj3V_C"
      },
      "source": [
        "####LSTM based Encoder-Decoder Model Prediction"
      ]
    },
    {
      "cell_type": "code",
      "execution_count": null,
      "metadata": {
        "id": "8-a4y1e33HRm"
      },
      "outputs": [],
      "source": [
        "def process_text(text):\n",
        "  # tokenize the dialogue\n",
        "  dialogue_tokens = spacy_tokenizer(dialogue_text)\n",
        "  # convert tokens to integer IDs using the dialogue vocabulary\n",
        "  dialogue_ids = tokens_to_ids(dialogue_tokens, dialogue_vocab)\n",
        "  # pad the sequence to the maximum dialogue length\n",
        "  dialogue_padded = dialogue_ids[:max_dialogue_length] + [dialogue_vocab['<PAD>']] * (max_dialogue_length - len(dialogue_ids))\n",
        "  return dialogue_padded\n",
        "# process the text\n",
        "dialogue_padded = process_text(dialogue_text)\n",
        "# convert to a tensor for model input\n",
        "input_tensor = torch.tensor([dialogue_padded]).to(device)\n",
        "lstm_model.eval()\n",
        "with torch.no_grad():\n",
        "    dummy_target = torch.zeros((1, max_summary_length)).long().to(device)\n",
        "    output = lstm_model(input_tensor, dummy_target)\n",
        "# convert the output logits to token IDs\n",
        "predicted_summary_ids = output.argmax(dim=-1).cpu().numpy()[0]\n",
        "# convert token IDs to text tokens\n",
        "predicted_summary_tokens = [summary_vocab_inv[id] for id in predicted_summary_ids]\n",
        "# join tokens to form the predicted summary text\n",
        "lstm_predicted_summary = ' '.join(predicted_summary_tokens)\n",
        "print(\"Predicted Summary:\")\n",
        "print(lstm_predicted_summary)"
      ]
    },
    {
      "cell_type": "markdown",
      "metadata": {
        "id": "6x6TARuv3bkV"
      },
      "source": [
        "####BERT Encoder Model Prediction"
      ]
    },
    {
      "cell_type": "code",
      "execution_count": null,
      "metadata": {
        "colab": {
          "base_uri": "https://localhost:8080/"
        },
        "id": "b8ZjYe0fQ4KH",
        "outputId": "0c0af7f4-279c-40fa-c3a4-203bc58a44cf"
      },
      "outputs": [
        {
          "name": "stdout",
          "output_type": "stream",
          "text": [
            "Temperature: 1.5\n",
            "commits thessaloniki ledge chewedeleranrzburg signature passes surviving historiansrdon reservation orchid physical\n"
          ]
        }
      ],
      "source": [
        "def sample_next_token(logits, temperature=1.0):\n",
        "    logits = logits / temperature\n",
        "    probabilities = torch.nn.functional.softmax(logits, dim=-1)\n",
        "    return torch.multinomial(probabilities, num_samples=1)\n",
        "def generate_summary(model, dialogue_text, temperature, max_length=50):\n",
        "    model.eval()\n",
        "    # tokenize and encode the dialogue text\n",
        "    input_ids, attention_mask = bert_tokenizer(dialogue_text)\n",
        "    input_ids = input_ids.to(device)\n",
        "    attention_mask = attention_mask.to(device)\n",
        "    # initialize the summary sequence with the start token\n",
        "    summary_ids = torch.tensor([[tokenizer.cls_token_id]], device=device)  # Using [CLS] as start token\n",
        "    # generate summary\n",
        "    with torch.no_grad():\n",
        "        for _ in range(max_length):\n",
        "            # Get model output\n",
        "            output = model(input_ids, attention_mask, summary_ids)\n",
        "            logits = output[:, -1, :]\n",
        "            # Get the predicted token IDs with the highest scores\n",
        "            # predicted_ids = torch.argmax(output[:, -1, :], dim=-1)  # Get the last token in the sequence\n",
        "            predicted_ids = sample_next_token(logits, temperature=temperature)\n",
        "            predicted_ids = predicted_ids.squeeze(1)\n",
        "            # Append the predicted token to the summary_ids\n",
        "            summary_ids = torch.cat([summary_ids, predicted_ids.unsqueeze(1)], dim=1)\n",
        "            # Stop if the end token is generated\n",
        "            if predicted_ids.item() == tokenizer.sep_token_id:  # Using [SEP] as end token\n",
        "                break\n",
        "        # Decode the output tokens to text\n",
        "        summary = tokenizer.decode(summary_ids[0], skip_special_tokens=True)\n",
        "    return summary\n",
        "temp = 1.5\n",
        "print(f\"Temperature: {temp}\")\n",
        "bert_predicted_summary = generate_summary(bert_transformer_model, dialogue_text, temperature=temp)\n",
        "print(bert_predicted_summary)"
      ]
    },
    {
      "cell_type": "markdown",
      "metadata": {
        "id": "fLMsSKSQ2ubp"
      },
      "source": [
        "####ROUGE-1"
      ]
    },
    {
      "cell_type": "code",
      "execution_count": null,
      "metadata": {
        "colab": {
          "base_uri": "https://localhost:8080/"
        },
        "id": "LihmudPoRD0X",
        "outputId": "c98f5180-111d-4619-d76a-d7e630ecc659"
      },
      "outputs": [
        {
          "name": "stdout",
          "output_type": "stream",
          "text": [
            "LSTM ROUGE-1 -> Precision: 0.000, Recall: 0.000, F1-Score: 0.000\n",
            "BERT ROUGE-1 -> Precision: 0.000, Recall: 0.000, F1-Score: 0.000\n"
          ]
        }
      ],
      "source": [
        "# tokenize and clean the text\n",
        "def tokenize_summary(text):\n",
        "    tokens = re.findall(r'\\w+', text.lower())\n",
        "    return tokens\n",
        "\n",
        "# ROUGE-1 precision, recall, and F1 score\n",
        "def rouge_1(true_summary, predicted_summary):\n",
        "    true_tokens = tokenize_summary(true_summary)\n",
        "    predicted_tokens = tokenize_summary(predicted_summary)\n",
        "    # convert tokens to counters (frequency distributions)\n",
        "    true_counter = Counter(true_tokens)\n",
        "    predicted_counter = Counter(predicted_tokens)\n",
        "    # calculate the number of overlapping unigrams\n",
        "    overlap = sum((true_counter & predicted_counter).values())\n",
        "    # precision: overlap / total unigrams in the predicted summary\n",
        "    precision = overlap / len(predicted_tokens) if len(predicted_tokens) > 0 else 0.0\n",
        "    # recall: overlap / total unigrams in the true summary\n",
        "    recall = overlap / len(true_tokens) if len(true_tokens) > 0 else 0.0\n",
        "    # F1 Score: harmonic mean of precision and recall\n",
        "    if precision + recall == 0:\n",
        "        f1_score = 0.0\n",
        "    else:\n",
        "        f1_score = 2 * (precision * recall) / (precision + recall)\n",
        "    return precision, recall, f1_score\n",
        "\n",
        "# True summary (Reference)\n",
        "true_summary = \"Kris wants to start listening to podcasts when he commutes. He's interested in literature, social topics and psychology.\"\n",
        "# Calculate ROUGE-1 for LSTM\n",
        "precision_lstm, recall_lstm, f1_lstm = rouge_1(true_summary, lstm_predicted_summary)\n",
        "print(f\"LSTM ROUGE-1 -> Precision: {precision_lstm:.3f}, Recall: {recall_lstm:.3f}, F1-Score: {f1_lstm:.3f}\")\n",
        "# Calculate ROUGE-1 for BERT\n",
        "precision_bert, recall_bert, f1_bert = rouge_1(true_summary, bert_predicted_summary)\n",
        "print(f\"BERT ROUGE-1 -> Precision: {precision_bert:.3f}, Recall: {recall_bert:.3f}, F1-Score: {f1_bert:.3f}\")"
      ]
    }
  ],
  "metadata": {
    "accelerator": "GPU",
    "colab": {
      "gpuType": "T4",
      "provenance": []
    },
    "kernelspec": {
      "display_name": "Python 3",
      "name": "python3"
    },
    "language_info": {
      "name": "python"
    },
    "widgets": {
      "application/vnd.jupyter.widget-state+json": {
        "006f6ac0955b48e89559b76d8fe4fa21": {
          "model_module": "@jupyter-widgets/base",
          "model_module_version": "1.2.0",
          "model_name": "LayoutModel",
          "state": {
            "_model_module": "@jupyter-widgets/base",
            "_model_module_version": "1.2.0",
            "_model_name": "LayoutModel",
            "_view_count": null,
            "_view_module": "@jupyter-widgets/base",
            "_view_module_version": "1.2.0",
            "_view_name": "LayoutView",
            "align_content": null,
            "align_items": null,
            "align_self": null,
            "border": null,
            "bottom": null,
            "display": null,
            "flex": null,
            "flex_flow": null,
            "grid_area": null,
            "grid_auto_columns": null,
            "grid_auto_flow": null,
            "grid_auto_rows": null,
            "grid_column": null,
            "grid_gap": null,
            "grid_row": null,
            "grid_template_areas": null,
            "grid_template_columns": null,
            "grid_template_rows": null,
            "height": null,
            "justify_content": null,
            "justify_items": null,
            "left": null,
            "margin": null,
            "max_height": null,
            "max_width": null,
            "min_height": null,
            "min_width": null,
            "object_fit": null,
            "object_position": null,
            "order": null,
            "overflow": null,
            "overflow_x": null,
            "overflow_y": null,
            "padding": null,
            "right": null,
            "top": null,
            "visibility": null,
            "width": null
          }
        },
        "01a352235b2d452084f7691391466ae6": {
          "model_module": "@jupyter-widgets/base",
          "model_module_version": "1.2.0",
          "model_name": "LayoutModel",
          "state": {
            "_model_module": "@jupyter-widgets/base",
            "_model_module_version": "1.2.0",
            "_model_name": "LayoutModel",
            "_view_count": null,
            "_view_module": "@jupyter-widgets/base",
            "_view_module_version": "1.2.0",
            "_view_name": "LayoutView",
            "align_content": null,
            "align_items": null,
            "align_self": null,
            "border": null,
            "bottom": null,
            "display": null,
            "flex": null,
            "flex_flow": null,
            "grid_area": null,
            "grid_auto_columns": null,
            "grid_auto_flow": null,
            "grid_auto_rows": null,
            "grid_column": null,
            "grid_gap": null,
            "grid_row": null,
            "grid_template_areas": null,
            "grid_template_columns": null,
            "grid_template_rows": null,
            "height": null,
            "justify_content": null,
            "justify_items": null,
            "left": null,
            "margin": null,
            "max_height": null,
            "max_width": null,
            "min_height": null,
            "min_width": null,
            "object_fit": null,
            "object_position": null,
            "order": null,
            "overflow": null,
            "overflow_x": null,
            "overflow_y": null,
            "padding": null,
            "right": null,
            "top": null,
            "visibility": null,
            "width": null
          }
        },
        "0435a2ee3e184a449e68c9a6c16fe68a": {
          "model_module": "@jupyter-widgets/controls",
          "model_module_version": "1.5.0",
          "model_name": "HTMLModel",
          "state": {
            "_dom_classes": [],
            "_model_module": "@jupyter-widgets/controls",
            "_model_module_version": "1.5.0",
            "_model_name": "HTMLModel",
            "_view_count": null,
            "_view_module": "@jupyter-widgets/controls",
            "_view_module_version": "1.5.0",
            "_view_name": "HTMLView",
            "description": "",
            "description_tooltip": null,
            "layout": "IPY_MODEL_eaf181ed20154cae85b67757b43c874b",
            "placeholder": "​",
            "style": "IPY_MODEL_2cacef490e2848069acdcdde44ebacce",
            "value": " 466k/466k [00:00&lt;00:00, 10.5MB/s]"
          }
        },
        "063db44c159440cf9c48e061dd4a20b1": {
          "model_module": "@jupyter-widgets/base",
          "model_module_version": "1.2.0",
          "model_name": "LayoutModel",
          "state": {
            "_model_module": "@jupyter-widgets/base",
            "_model_module_version": "1.2.0",
            "_model_name": "LayoutModel",
            "_view_count": null,
            "_view_module": "@jupyter-widgets/base",
            "_view_module_version": "1.2.0",
            "_view_name": "LayoutView",
            "align_content": null,
            "align_items": null,
            "align_self": null,
            "border": null,
            "bottom": null,
            "display": null,
            "flex": null,
            "flex_flow": null,
            "grid_area": null,
            "grid_auto_columns": null,
            "grid_auto_flow": null,
            "grid_auto_rows": null,
            "grid_column": null,
            "grid_gap": null,
            "grid_row": null,
            "grid_template_areas": null,
            "grid_template_columns": null,
            "grid_template_rows": null,
            "height": null,
            "justify_content": null,
            "justify_items": null,
            "left": null,
            "margin": null,
            "max_height": null,
            "max_width": null,
            "min_height": null,
            "min_width": null,
            "object_fit": null,
            "object_position": null,
            "order": null,
            "overflow": null,
            "overflow_x": null,
            "overflow_y": null,
            "padding": null,
            "right": null,
            "top": null,
            "visibility": null,
            "width": null
          }
        },
        "0c7f40fea5b34d42a1f4f44e36530ea8": {
          "model_module": "@jupyter-widgets/base",
          "model_module_version": "1.2.0",
          "model_name": "LayoutModel",
          "state": {
            "_model_module": "@jupyter-widgets/base",
            "_model_module_version": "1.2.0",
            "_model_name": "LayoutModel",
            "_view_count": null,
            "_view_module": "@jupyter-widgets/base",
            "_view_module_version": "1.2.0",
            "_view_name": "LayoutView",
            "align_content": null,
            "align_items": null,
            "align_self": null,
            "border": null,
            "bottom": null,
            "display": null,
            "flex": null,
            "flex_flow": null,
            "grid_area": null,
            "grid_auto_columns": null,
            "grid_auto_flow": null,
            "grid_auto_rows": null,
            "grid_column": null,
            "grid_gap": null,
            "grid_row": null,
            "grid_template_areas": null,
            "grid_template_columns": null,
            "grid_template_rows": null,
            "height": null,
            "justify_content": null,
            "justify_items": null,
            "left": null,
            "margin": null,
            "max_height": null,
            "max_width": null,
            "min_height": null,
            "min_width": null,
            "object_fit": null,
            "object_position": null,
            "order": null,
            "overflow": null,
            "overflow_x": null,
            "overflow_y": null,
            "padding": null,
            "right": null,
            "top": null,
            "visibility": null,
            "width": null
          }
        },
        "118b2c5f980b4e4a98c403bef50ddb36": {
          "model_module": "@jupyter-widgets/base",
          "model_module_version": "1.2.0",
          "model_name": "LayoutModel",
          "state": {
            "_model_module": "@jupyter-widgets/base",
            "_model_module_version": "1.2.0",
            "_model_name": "LayoutModel",
            "_view_count": null,
            "_view_module": "@jupyter-widgets/base",
            "_view_module_version": "1.2.0",
            "_view_name": "LayoutView",
            "align_content": null,
            "align_items": null,
            "align_self": null,
            "border": null,
            "bottom": null,
            "display": null,
            "flex": null,
            "flex_flow": null,
            "grid_area": null,
            "grid_auto_columns": null,
            "grid_auto_flow": null,
            "grid_auto_rows": null,
            "grid_column": null,
            "grid_gap": null,
            "grid_row": null,
            "grid_template_areas": null,
            "grid_template_columns": null,
            "grid_template_rows": null,
            "height": null,
            "justify_content": null,
            "justify_items": null,
            "left": null,
            "margin": null,
            "max_height": null,
            "max_width": null,
            "min_height": null,
            "min_width": null,
            "object_fit": null,
            "object_position": null,
            "order": null,
            "overflow": null,
            "overflow_x": null,
            "overflow_y": null,
            "padding": null,
            "right": null,
            "top": null,
            "visibility": null,
            "width": null
          }
        },
        "1669d6e6cdc2432aa59cc61fe47e14b5": {
          "model_module": "@jupyter-widgets/base",
          "model_module_version": "1.2.0",
          "model_name": "LayoutModel",
          "state": {
            "_model_module": "@jupyter-widgets/base",
            "_model_module_version": "1.2.0",
            "_model_name": "LayoutModel",
            "_view_count": null,
            "_view_module": "@jupyter-widgets/base",
            "_view_module_version": "1.2.0",
            "_view_name": "LayoutView",
            "align_content": null,
            "align_items": null,
            "align_self": null,
            "border": null,
            "bottom": null,
            "display": null,
            "flex": null,
            "flex_flow": null,
            "grid_area": null,
            "grid_auto_columns": null,
            "grid_auto_flow": null,
            "grid_auto_rows": null,
            "grid_column": null,
            "grid_gap": null,
            "grid_row": null,
            "grid_template_areas": null,
            "grid_template_columns": null,
            "grid_template_rows": null,
            "height": null,
            "justify_content": null,
            "justify_items": null,
            "left": null,
            "margin": null,
            "max_height": null,
            "max_width": null,
            "min_height": null,
            "min_width": null,
            "object_fit": null,
            "object_position": null,
            "order": null,
            "overflow": null,
            "overflow_x": null,
            "overflow_y": null,
            "padding": null,
            "right": null,
            "top": null,
            "visibility": null,
            "width": null
          }
        },
        "183a5bad3c004ec78975e7f57b99e4d1": {
          "model_module": "@jupyter-widgets/controls",
          "model_module_version": "1.5.0",
          "model_name": "ProgressStyleModel",
          "state": {
            "_model_module": "@jupyter-widgets/controls",
            "_model_module_version": "1.5.0",
            "_model_name": "ProgressStyleModel",
            "_view_count": null,
            "_view_module": "@jupyter-widgets/base",
            "_view_module_version": "1.2.0",
            "_view_name": "StyleView",
            "bar_color": null,
            "description_width": ""
          }
        },
        "1c6464d2338e459e9110112e78a739b4": {
          "model_module": "@jupyter-widgets/controls",
          "model_module_version": "1.5.0",
          "model_name": "DescriptionStyleModel",
          "state": {
            "_model_module": "@jupyter-widgets/controls",
            "_model_module_version": "1.5.0",
            "_model_name": "DescriptionStyleModel",
            "_view_count": null,
            "_view_module": "@jupyter-widgets/base",
            "_view_module_version": "1.2.0",
            "_view_name": "StyleView",
            "description_width": ""
          }
        },
        "1dcc840a8306400aa2d3cbdd0825b484": {
          "model_module": "@jupyter-widgets/controls",
          "model_module_version": "1.5.0",
          "model_name": "DescriptionStyleModel",
          "state": {
            "_model_module": "@jupyter-widgets/controls",
            "_model_module_version": "1.5.0",
            "_model_name": "DescriptionStyleModel",
            "_view_count": null,
            "_view_module": "@jupyter-widgets/base",
            "_view_module_version": "1.2.0",
            "_view_name": "StyleView",
            "description_width": ""
          }
        },
        "2bae8a15362f4afb948cb71bf0299c86": {
          "model_module": "@jupyter-widgets/controls",
          "model_module_version": "1.5.0",
          "model_name": "HTMLModel",
          "state": {
            "_dom_classes": [],
            "_model_module": "@jupyter-widgets/controls",
            "_model_module_version": "1.5.0",
            "_model_name": "HTMLModel",
            "_view_count": null,
            "_view_module": "@jupyter-widgets/controls",
            "_view_module_version": "1.5.0",
            "_view_name": "HTMLView",
            "description": "",
            "description_tooltip": null,
            "layout": "IPY_MODEL_feffe685d8b04b8fa89b47b3bb5844b1",
            "placeholder": "​",
            "style": "IPY_MODEL_b9150982c78e409ebccc353712516573",
            "value": " 232k/232k [00:00&lt;00:00, 3.51MB/s]"
          }
        },
        "2cacef490e2848069acdcdde44ebacce": {
          "model_module": "@jupyter-widgets/controls",
          "model_module_version": "1.5.0",
          "model_name": "DescriptionStyleModel",
          "state": {
            "_model_module": "@jupyter-widgets/controls",
            "_model_module_version": "1.5.0",
            "_model_name": "DescriptionStyleModel",
            "_view_count": null,
            "_view_module": "@jupyter-widgets/base",
            "_view_module_version": "1.2.0",
            "_view_name": "StyleView",
            "description_width": ""
          }
        },
        "2f3045ffad0d457aa1e578302a9b203e": {
          "model_module": "@jupyter-widgets/controls",
          "model_module_version": "1.5.0",
          "model_name": "HBoxModel",
          "state": {
            "_dom_classes": [],
            "_model_module": "@jupyter-widgets/controls",
            "_model_module_version": "1.5.0",
            "_model_name": "HBoxModel",
            "_view_count": null,
            "_view_module": "@jupyter-widgets/controls",
            "_view_module_version": "1.5.0",
            "_view_name": "HBoxView",
            "box_style": "",
            "children": [
              "IPY_MODEL_a260e0d90ec74fe586cc754399286df1",
              "IPY_MODEL_b57a15773915444fa2267faad1684315",
              "IPY_MODEL_2bae8a15362f4afb948cb71bf0299c86"
            ],
            "layout": "IPY_MODEL_56711f81ed4c407293690a961db57995"
          }
        },
        "34e86fcf6af640568216fe5c97de2522": {
          "model_module": "@jupyter-widgets/controls",
          "model_module_version": "1.5.0",
          "model_name": "ProgressStyleModel",
          "state": {
            "_model_module": "@jupyter-widgets/controls",
            "_model_module_version": "1.5.0",
            "_model_name": "ProgressStyleModel",
            "_view_count": null,
            "_view_module": "@jupyter-widgets/base",
            "_view_module_version": "1.2.0",
            "_view_name": "StyleView",
            "bar_color": null,
            "description_width": ""
          }
        },
        "3557058d3dd24a198b56430b08696d56": {
          "model_module": "@jupyter-widgets/controls",
          "model_module_version": "1.5.0",
          "model_name": "ProgressStyleModel",
          "state": {
            "_model_module": "@jupyter-widgets/controls",
            "_model_module_version": "1.5.0",
            "_model_name": "ProgressStyleModel",
            "_view_count": null,
            "_view_module": "@jupyter-widgets/base",
            "_view_module_version": "1.2.0",
            "_view_name": "StyleView",
            "bar_color": null,
            "description_width": ""
          }
        },
        "38857143e4b14640ada328e996cfa9cc": {
          "model_module": "@jupyter-widgets/controls",
          "model_module_version": "1.5.0",
          "model_name": "HTMLModel",
          "state": {
            "_dom_classes": [],
            "_model_module": "@jupyter-widgets/controls",
            "_model_module_version": "1.5.0",
            "_model_name": "HTMLModel",
            "_view_count": null,
            "_view_module": "@jupyter-widgets/controls",
            "_view_module_version": "1.5.0",
            "_view_name": "HTMLView",
            "description": "",
            "description_tooltip": null,
            "layout": "IPY_MODEL_a39fe19581404da19222244d0767c316",
            "placeholder": "​",
            "style": "IPY_MODEL_704b779143df4390b413b9cb8c75b75f",
            "value": "tokenizer.json: 100%"
          }
        },
        "391d1494540a43b4b8854a5c0353e781": {
          "model_module": "@jupyter-widgets/base",
          "model_module_version": "1.2.0",
          "model_name": "LayoutModel",
          "state": {
            "_model_module": "@jupyter-widgets/base",
            "_model_module_version": "1.2.0",
            "_model_name": "LayoutModel",
            "_view_count": null,
            "_view_module": "@jupyter-widgets/base",
            "_view_module_version": "1.2.0",
            "_view_name": "LayoutView",
            "align_content": null,
            "align_items": null,
            "align_self": null,
            "border": null,
            "bottom": null,
            "display": null,
            "flex": null,
            "flex_flow": null,
            "grid_area": null,
            "grid_auto_columns": null,
            "grid_auto_flow": null,
            "grid_auto_rows": null,
            "grid_column": null,
            "grid_gap": null,
            "grid_row": null,
            "grid_template_areas": null,
            "grid_template_columns": null,
            "grid_template_rows": null,
            "height": null,
            "justify_content": null,
            "justify_items": null,
            "left": null,
            "margin": null,
            "max_height": null,
            "max_width": null,
            "min_height": null,
            "min_width": null,
            "object_fit": null,
            "object_position": null,
            "order": null,
            "overflow": null,
            "overflow_x": null,
            "overflow_y": null,
            "padding": null,
            "right": null,
            "top": null,
            "visibility": null,
            "width": null
          }
        },
        "3e3f96d53ebb47cb952691a706feac15": {
          "model_module": "@jupyter-widgets/base",
          "model_module_version": "1.2.0",
          "model_name": "LayoutModel",
          "state": {
            "_model_module": "@jupyter-widgets/base",
            "_model_module_version": "1.2.0",
            "_model_name": "LayoutModel",
            "_view_count": null,
            "_view_module": "@jupyter-widgets/base",
            "_view_module_version": "1.2.0",
            "_view_name": "LayoutView",
            "align_content": null,
            "align_items": null,
            "align_self": null,
            "border": null,
            "bottom": null,
            "display": null,
            "flex": null,
            "flex_flow": null,
            "grid_area": null,
            "grid_auto_columns": null,
            "grid_auto_flow": null,
            "grid_auto_rows": null,
            "grid_column": null,
            "grid_gap": null,
            "grid_row": null,
            "grid_template_areas": null,
            "grid_template_columns": null,
            "grid_template_rows": null,
            "height": null,
            "justify_content": null,
            "justify_items": null,
            "left": null,
            "margin": null,
            "max_height": null,
            "max_width": null,
            "min_height": null,
            "min_width": null,
            "object_fit": null,
            "object_position": null,
            "order": null,
            "overflow": null,
            "overflow_x": null,
            "overflow_y": null,
            "padding": null,
            "right": null,
            "top": null,
            "visibility": null,
            "width": null
          }
        },
        "4d7688513f5b41caac86c509d8b82b46": {
          "model_module": "@jupyter-widgets/controls",
          "model_module_version": "1.5.0",
          "model_name": "HBoxModel",
          "state": {
            "_dom_classes": [],
            "_model_module": "@jupyter-widgets/controls",
            "_model_module_version": "1.5.0",
            "_model_name": "HBoxModel",
            "_view_count": null,
            "_view_module": "@jupyter-widgets/controls",
            "_view_module_version": "1.5.0",
            "_view_name": "HBoxView",
            "box_style": "",
            "children": [
              "IPY_MODEL_9e889f923ca142298b88dea5dfe7da24",
              "IPY_MODEL_69de88c1584b4a3ba460f61ab9dfc53f",
              "IPY_MODEL_60c0320f4b6647a284785f0ccca49b23"
            ],
            "layout": "IPY_MODEL_006f6ac0955b48e89559b76d8fe4fa21"
          }
        },
        "4e4e5683bc57445ca598a79651cdee52": {
          "model_module": "@jupyter-widgets/controls",
          "model_module_version": "1.5.0",
          "model_name": "HBoxModel",
          "state": {
            "_dom_classes": [],
            "_model_module": "@jupyter-widgets/controls",
            "_model_module_version": "1.5.0",
            "_model_name": "HBoxModel",
            "_view_count": null,
            "_view_module": "@jupyter-widgets/controls",
            "_view_module_version": "1.5.0",
            "_view_name": "HBoxView",
            "box_style": "",
            "children": [
              "IPY_MODEL_38857143e4b14640ada328e996cfa9cc",
              "IPY_MODEL_7b56a1d816de4f8caa4d8d4853124ee0",
              "IPY_MODEL_0435a2ee3e184a449e68c9a6c16fe68a"
            ],
            "layout": "IPY_MODEL_ec735d303e1b4275b8b6ee1d18be5d45"
          }
        },
        "54e01213bd0d4668a8fe3e5a4455e2b1": {
          "model_module": "@jupyter-widgets/controls",
          "model_module_version": "1.5.0",
          "model_name": "ProgressStyleModel",
          "state": {
            "_model_module": "@jupyter-widgets/controls",
            "_model_module_version": "1.5.0",
            "_model_name": "ProgressStyleModel",
            "_view_count": null,
            "_view_module": "@jupyter-widgets/base",
            "_view_module_version": "1.2.0",
            "_view_name": "StyleView",
            "bar_color": null,
            "description_width": ""
          }
        },
        "56711f81ed4c407293690a961db57995": {
          "model_module": "@jupyter-widgets/base",
          "model_module_version": "1.2.0",
          "model_name": "LayoutModel",
          "state": {
            "_model_module": "@jupyter-widgets/base",
            "_model_module_version": "1.2.0",
            "_model_name": "LayoutModel",
            "_view_count": null,
            "_view_module": "@jupyter-widgets/base",
            "_view_module_version": "1.2.0",
            "_view_name": "LayoutView",
            "align_content": null,
            "align_items": null,
            "align_self": null,
            "border": null,
            "bottom": null,
            "display": null,
            "flex": null,
            "flex_flow": null,
            "grid_area": null,
            "grid_auto_columns": null,
            "grid_auto_flow": null,
            "grid_auto_rows": null,
            "grid_column": null,
            "grid_gap": null,
            "grid_row": null,
            "grid_template_areas": null,
            "grid_template_columns": null,
            "grid_template_rows": null,
            "height": null,
            "justify_content": null,
            "justify_items": null,
            "left": null,
            "margin": null,
            "max_height": null,
            "max_width": null,
            "min_height": null,
            "min_width": null,
            "object_fit": null,
            "object_position": null,
            "order": null,
            "overflow": null,
            "overflow_x": null,
            "overflow_y": null,
            "padding": null,
            "right": null,
            "top": null,
            "visibility": null,
            "width": null
          }
        },
        "60c0320f4b6647a284785f0ccca49b23": {
          "model_module": "@jupyter-widgets/controls",
          "model_module_version": "1.5.0",
          "model_name": "HTMLModel",
          "state": {
            "_dom_classes": [],
            "_model_module": "@jupyter-widgets/controls",
            "_model_module_version": "1.5.0",
            "_model_name": "HTMLModel",
            "_view_count": null,
            "_view_module": "@jupyter-widgets/controls",
            "_view_module_version": "1.5.0",
            "_view_name": "HTMLView",
            "description": "",
            "description_tooltip": null,
            "layout": "IPY_MODEL_0c7f40fea5b34d42a1f4f44e36530ea8",
            "placeholder": "​",
            "style": "IPY_MODEL_1dcc840a8306400aa2d3cbdd0825b484",
            "value": " 440M/440M [00:04&lt;00:00, 114MB/s]"
          }
        },
        "625d39d88ff64236be4594735a80fa0d": {
          "model_module": "@jupyter-widgets/controls",
          "model_module_version": "1.5.0",
          "model_name": "FloatProgressModel",
          "state": {
            "_dom_classes": [],
            "_model_module": "@jupyter-widgets/controls",
            "_model_module_version": "1.5.0",
            "_model_name": "FloatProgressModel",
            "_view_count": null,
            "_view_module": "@jupyter-widgets/controls",
            "_view_module_version": "1.5.0",
            "_view_name": "ProgressView",
            "bar_style": "success",
            "description": "",
            "description_tooltip": null,
            "layout": "IPY_MODEL_3e3f96d53ebb47cb952691a706feac15",
            "max": 570,
            "min": 0,
            "orientation": "horizontal",
            "style": "IPY_MODEL_7253ddaefe704d2ba9a24455b62c3121",
            "value": 570
          }
        },
        "69de88c1584b4a3ba460f61ab9dfc53f": {
          "model_module": "@jupyter-widgets/controls",
          "model_module_version": "1.5.0",
          "model_name": "FloatProgressModel",
          "state": {
            "_dom_classes": [],
            "_model_module": "@jupyter-widgets/controls",
            "_model_module_version": "1.5.0",
            "_model_name": "FloatProgressModel",
            "_view_count": null,
            "_view_module": "@jupyter-widgets/controls",
            "_view_module_version": "1.5.0",
            "_view_name": "ProgressView",
            "bar_style": "success",
            "description": "",
            "description_tooltip": null,
            "layout": "IPY_MODEL_c911d7fa099a4485a53e6ff17f3c0cd1",
            "max": 440449768,
            "min": 0,
            "orientation": "horizontal",
            "style": "IPY_MODEL_3557058d3dd24a198b56430b08696d56",
            "value": 440449768
          }
        },
        "6d1b494976d84a67b1b8ad80178f35a5": {
          "model_module": "@jupyter-widgets/controls",
          "model_module_version": "1.5.0",
          "model_name": "HTMLModel",
          "state": {
            "_dom_classes": [],
            "_model_module": "@jupyter-widgets/controls",
            "_model_module_version": "1.5.0",
            "_model_name": "HTMLModel",
            "_view_count": null,
            "_view_module": "@jupyter-widgets/controls",
            "_view_module_version": "1.5.0",
            "_view_name": "HTMLView",
            "description": "",
            "description_tooltip": null,
            "layout": "IPY_MODEL_bd042c34f08644b1860fed1ddfa95225",
            "placeholder": "​",
            "style": "IPY_MODEL_1c6464d2338e459e9110112e78a739b4",
            "value": " 48.0/48.0 [00:00&lt;00:00, 2.97kB/s]"
          }
        },
        "704b779143df4390b413b9cb8c75b75f": {
          "model_module": "@jupyter-widgets/controls",
          "model_module_version": "1.5.0",
          "model_name": "DescriptionStyleModel",
          "state": {
            "_model_module": "@jupyter-widgets/controls",
            "_model_module_version": "1.5.0",
            "_model_name": "DescriptionStyleModel",
            "_view_count": null,
            "_view_module": "@jupyter-widgets/base",
            "_view_module_version": "1.2.0",
            "_view_name": "StyleView",
            "description_width": ""
          }
        },
        "7253ddaefe704d2ba9a24455b62c3121": {
          "model_module": "@jupyter-widgets/controls",
          "model_module_version": "1.5.0",
          "model_name": "ProgressStyleModel",
          "state": {
            "_model_module": "@jupyter-widgets/controls",
            "_model_module_version": "1.5.0",
            "_model_name": "ProgressStyleModel",
            "_view_count": null,
            "_view_module": "@jupyter-widgets/base",
            "_view_module_version": "1.2.0",
            "_view_name": "StyleView",
            "bar_color": null,
            "description_width": ""
          }
        },
        "791633035f0845ec988c5a7c73ea2545": {
          "model_module": "@jupyter-widgets/controls",
          "model_module_version": "1.5.0",
          "model_name": "DescriptionStyleModel",
          "state": {
            "_model_module": "@jupyter-widgets/controls",
            "_model_module_version": "1.5.0",
            "_model_name": "DescriptionStyleModel",
            "_view_count": null,
            "_view_module": "@jupyter-widgets/base",
            "_view_module_version": "1.2.0",
            "_view_name": "StyleView",
            "description_width": ""
          }
        },
        "7b56a1d816de4f8caa4d8d4853124ee0": {
          "model_module": "@jupyter-widgets/controls",
          "model_module_version": "1.5.0",
          "model_name": "FloatProgressModel",
          "state": {
            "_dom_classes": [],
            "_model_module": "@jupyter-widgets/controls",
            "_model_module_version": "1.5.0",
            "_model_name": "FloatProgressModel",
            "_view_count": null,
            "_view_module": "@jupyter-widgets/controls",
            "_view_module_version": "1.5.0",
            "_view_name": "ProgressView",
            "bar_style": "success",
            "description": "",
            "description_tooltip": null,
            "layout": "IPY_MODEL_391d1494540a43b4b8854a5c0353e781",
            "max": 466062,
            "min": 0,
            "orientation": "horizontal",
            "style": "IPY_MODEL_34e86fcf6af640568216fe5c97de2522",
            "value": 466062
          }
        },
        "80f659f2ef7f43eea4485d24b9fecc8b": {
          "model_module": "@jupyter-widgets/base",
          "model_module_version": "1.2.0",
          "model_name": "LayoutModel",
          "state": {
            "_model_module": "@jupyter-widgets/base",
            "_model_module_version": "1.2.0",
            "_model_name": "LayoutModel",
            "_view_count": null,
            "_view_module": "@jupyter-widgets/base",
            "_view_module_version": "1.2.0",
            "_view_name": "LayoutView",
            "align_content": null,
            "align_items": null,
            "align_self": null,
            "border": null,
            "bottom": null,
            "display": null,
            "flex": null,
            "flex_flow": null,
            "grid_area": null,
            "grid_auto_columns": null,
            "grid_auto_flow": null,
            "grid_auto_rows": null,
            "grid_column": null,
            "grid_gap": null,
            "grid_row": null,
            "grid_template_areas": null,
            "grid_template_columns": null,
            "grid_template_rows": null,
            "height": null,
            "justify_content": null,
            "justify_items": null,
            "left": null,
            "margin": null,
            "max_height": null,
            "max_width": null,
            "min_height": null,
            "min_width": null,
            "object_fit": null,
            "object_position": null,
            "order": null,
            "overflow": null,
            "overflow_x": null,
            "overflow_y": null,
            "padding": null,
            "right": null,
            "top": null,
            "visibility": null,
            "width": null
          }
        },
        "8a80778d42a84fff9e0fa39e36061006": {
          "model_module": "@jupyter-widgets/controls",
          "model_module_version": "1.5.0",
          "model_name": "HBoxModel",
          "state": {
            "_dom_classes": [],
            "_model_module": "@jupyter-widgets/controls",
            "_model_module_version": "1.5.0",
            "_model_name": "HBoxModel",
            "_view_count": null,
            "_view_module": "@jupyter-widgets/controls",
            "_view_module_version": "1.5.0",
            "_view_name": "HBoxView",
            "box_style": "",
            "children": [
              "IPY_MODEL_db8e40379f1345a195cfb3fd7ff2b3c1",
              "IPY_MODEL_625d39d88ff64236be4594735a80fa0d",
              "IPY_MODEL_b70220c8d8964a6a828a7dac51e40aa4"
            ],
            "layout": "IPY_MODEL_1669d6e6cdc2432aa59cc61fe47e14b5"
          }
        },
        "947f1c83bdac4a44948f8d7fb7498bcf": {
          "model_module": "@jupyter-widgets/controls",
          "model_module_version": "1.5.0",
          "model_name": "HTMLModel",
          "state": {
            "_dom_classes": [],
            "_model_module": "@jupyter-widgets/controls",
            "_model_module_version": "1.5.0",
            "_model_name": "HTMLModel",
            "_view_count": null,
            "_view_module": "@jupyter-widgets/controls",
            "_view_module_version": "1.5.0",
            "_view_name": "HTMLView",
            "description": "",
            "description_tooltip": null,
            "layout": "IPY_MODEL_c7eb83f495b84097b65e4f5cebaba907",
            "placeholder": "​",
            "style": "IPY_MODEL_d7575976fb184a488736f434972585ee",
            "value": "tokenizer_config.json: 100%"
          }
        },
        "9da9b9c21b044e13871970971cb4e743": {
          "model_module": "@jupyter-widgets/controls",
          "model_module_version": "1.5.0",
          "model_name": "HBoxModel",
          "state": {
            "_dom_classes": [],
            "_model_module": "@jupyter-widgets/controls",
            "_model_module_version": "1.5.0",
            "_model_name": "HBoxModel",
            "_view_count": null,
            "_view_module": "@jupyter-widgets/controls",
            "_view_module_version": "1.5.0",
            "_view_name": "HBoxView",
            "box_style": "",
            "children": [
              "IPY_MODEL_947f1c83bdac4a44948f8d7fb7498bcf",
              "IPY_MODEL_bbf74f1d47f049ecae648a9c4c921422",
              "IPY_MODEL_6d1b494976d84a67b1b8ad80178f35a5"
            ],
            "layout": "IPY_MODEL_01a352235b2d452084f7691391466ae6"
          }
        },
        "9e889f923ca142298b88dea5dfe7da24": {
          "model_module": "@jupyter-widgets/controls",
          "model_module_version": "1.5.0",
          "model_name": "HTMLModel",
          "state": {
            "_dom_classes": [],
            "_model_module": "@jupyter-widgets/controls",
            "_model_module_version": "1.5.0",
            "_model_name": "HTMLModel",
            "_view_count": null,
            "_view_module": "@jupyter-widgets/controls",
            "_view_module_version": "1.5.0",
            "_view_name": "HTMLView",
            "description": "",
            "description_tooltip": null,
            "layout": "IPY_MODEL_80f659f2ef7f43eea4485d24b9fecc8b",
            "placeholder": "​",
            "style": "IPY_MODEL_791633035f0845ec988c5a7c73ea2545",
            "value": "model.safetensors: 100%"
          }
        },
        "a260e0d90ec74fe586cc754399286df1": {
          "model_module": "@jupyter-widgets/controls",
          "model_module_version": "1.5.0",
          "model_name": "HTMLModel",
          "state": {
            "_dom_classes": [],
            "_model_module": "@jupyter-widgets/controls",
            "_model_module_version": "1.5.0",
            "_model_name": "HTMLModel",
            "_view_count": null,
            "_view_module": "@jupyter-widgets/controls",
            "_view_module_version": "1.5.0",
            "_view_name": "HTMLView",
            "description": "",
            "description_tooltip": null,
            "layout": "IPY_MODEL_a61d4b06922748bdb288e848724b31f6",
            "placeholder": "​",
            "style": "IPY_MODEL_cbb99c6f63cd422dbcd55c27bec0a490",
            "value": "vocab.txt: 100%"
          }
        },
        "a39fe19581404da19222244d0767c316": {
          "model_module": "@jupyter-widgets/base",
          "model_module_version": "1.2.0",
          "model_name": "LayoutModel",
          "state": {
            "_model_module": "@jupyter-widgets/base",
            "_model_module_version": "1.2.0",
            "_model_name": "LayoutModel",
            "_view_count": null,
            "_view_module": "@jupyter-widgets/base",
            "_view_module_version": "1.2.0",
            "_view_name": "LayoutView",
            "align_content": null,
            "align_items": null,
            "align_self": null,
            "border": null,
            "bottom": null,
            "display": null,
            "flex": null,
            "flex_flow": null,
            "grid_area": null,
            "grid_auto_columns": null,
            "grid_auto_flow": null,
            "grid_auto_rows": null,
            "grid_column": null,
            "grid_gap": null,
            "grid_row": null,
            "grid_template_areas": null,
            "grid_template_columns": null,
            "grid_template_rows": null,
            "height": null,
            "justify_content": null,
            "justify_items": null,
            "left": null,
            "margin": null,
            "max_height": null,
            "max_width": null,
            "min_height": null,
            "min_width": null,
            "object_fit": null,
            "object_position": null,
            "order": null,
            "overflow": null,
            "overflow_x": null,
            "overflow_y": null,
            "padding": null,
            "right": null,
            "top": null,
            "visibility": null,
            "width": null
          }
        },
        "a61d4b06922748bdb288e848724b31f6": {
          "model_module": "@jupyter-widgets/base",
          "model_module_version": "1.2.0",
          "model_name": "LayoutModel",
          "state": {
            "_model_module": "@jupyter-widgets/base",
            "_model_module_version": "1.2.0",
            "_model_name": "LayoutModel",
            "_view_count": null,
            "_view_module": "@jupyter-widgets/base",
            "_view_module_version": "1.2.0",
            "_view_name": "LayoutView",
            "align_content": null,
            "align_items": null,
            "align_self": null,
            "border": null,
            "bottom": null,
            "display": null,
            "flex": null,
            "flex_flow": null,
            "grid_area": null,
            "grid_auto_columns": null,
            "grid_auto_flow": null,
            "grid_auto_rows": null,
            "grid_column": null,
            "grid_gap": null,
            "grid_row": null,
            "grid_template_areas": null,
            "grid_template_columns": null,
            "grid_template_rows": null,
            "height": null,
            "justify_content": null,
            "justify_items": null,
            "left": null,
            "margin": null,
            "max_height": null,
            "max_width": null,
            "min_height": null,
            "min_width": null,
            "object_fit": null,
            "object_position": null,
            "order": null,
            "overflow": null,
            "overflow_x": null,
            "overflow_y": null,
            "padding": null,
            "right": null,
            "top": null,
            "visibility": null,
            "width": null
          }
        },
        "b57a15773915444fa2267faad1684315": {
          "model_module": "@jupyter-widgets/controls",
          "model_module_version": "1.5.0",
          "model_name": "FloatProgressModel",
          "state": {
            "_dom_classes": [],
            "_model_module": "@jupyter-widgets/controls",
            "_model_module_version": "1.5.0",
            "_model_name": "FloatProgressModel",
            "_view_count": null,
            "_view_module": "@jupyter-widgets/controls",
            "_view_module_version": "1.5.0",
            "_view_name": "ProgressView",
            "bar_style": "success",
            "description": "",
            "description_tooltip": null,
            "layout": "IPY_MODEL_063db44c159440cf9c48e061dd4a20b1",
            "max": 231508,
            "min": 0,
            "orientation": "horizontal",
            "style": "IPY_MODEL_183a5bad3c004ec78975e7f57b99e4d1",
            "value": 231508
          }
        },
        "b70220c8d8964a6a828a7dac51e40aa4": {
          "model_module": "@jupyter-widgets/controls",
          "model_module_version": "1.5.0",
          "model_name": "HTMLModel",
          "state": {
            "_dom_classes": [],
            "_model_module": "@jupyter-widgets/controls",
            "_model_module_version": "1.5.0",
            "_model_name": "HTMLModel",
            "_view_count": null,
            "_view_module": "@jupyter-widgets/controls",
            "_view_module_version": "1.5.0",
            "_view_name": "HTMLView",
            "description": "",
            "description_tooltip": null,
            "layout": "IPY_MODEL_b90103b9148d4d858ce7b722df73e63a",
            "placeholder": "​",
            "style": "IPY_MODEL_f6d6efa6533946feb13e56e79e308b18",
            "value": " 570/570 [00:00&lt;00:00, 27.3kB/s]"
          }
        },
        "b90103b9148d4d858ce7b722df73e63a": {
          "model_module": "@jupyter-widgets/base",
          "model_module_version": "1.2.0",
          "model_name": "LayoutModel",
          "state": {
            "_model_module": "@jupyter-widgets/base",
            "_model_module_version": "1.2.0",
            "_model_name": "LayoutModel",
            "_view_count": null,
            "_view_module": "@jupyter-widgets/base",
            "_view_module_version": "1.2.0",
            "_view_name": "LayoutView",
            "align_content": null,
            "align_items": null,
            "align_self": null,
            "border": null,
            "bottom": null,
            "display": null,
            "flex": null,
            "flex_flow": null,
            "grid_area": null,
            "grid_auto_columns": null,
            "grid_auto_flow": null,
            "grid_auto_rows": null,
            "grid_column": null,
            "grid_gap": null,
            "grid_row": null,
            "grid_template_areas": null,
            "grid_template_columns": null,
            "grid_template_rows": null,
            "height": null,
            "justify_content": null,
            "justify_items": null,
            "left": null,
            "margin": null,
            "max_height": null,
            "max_width": null,
            "min_height": null,
            "min_width": null,
            "object_fit": null,
            "object_position": null,
            "order": null,
            "overflow": null,
            "overflow_x": null,
            "overflow_y": null,
            "padding": null,
            "right": null,
            "top": null,
            "visibility": null,
            "width": null
          }
        },
        "b9150982c78e409ebccc353712516573": {
          "model_module": "@jupyter-widgets/controls",
          "model_module_version": "1.5.0",
          "model_name": "DescriptionStyleModel",
          "state": {
            "_model_module": "@jupyter-widgets/controls",
            "_model_module_version": "1.5.0",
            "_model_name": "DescriptionStyleModel",
            "_view_count": null,
            "_view_module": "@jupyter-widgets/base",
            "_view_module_version": "1.2.0",
            "_view_name": "StyleView",
            "description_width": ""
          }
        },
        "bbf74f1d47f049ecae648a9c4c921422": {
          "model_module": "@jupyter-widgets/controls",
          "model_module_version": "1.5.0",
          "model_name": "FloatProgressModel",
          "state": {
            "_dom_classes": [],
            "_model_module": "@jupyter-widgets/controls",
            "_model_module_version": "1.5.0",
            "_model_name": "FloatProgressModel",
            "_view_count": null,
            "_view_module": "@jupyter-widgets/controls",
            "_view_module_version": "1.5.0",
            "_view_name": "ProgressView",
            "bar_style": "success",
            "description": "",
            "description_tooltip": null,
            "layout": "IPY_MODEL_fe8c78bbd7e04b46adfed9159c953822",
            "max": 48,
            "min": 0,
            "orientation": "horizontal",
            "style": "IPY_MODEL_54e01213bd0d4668a8fe3e5a4455e2b1",
            "value": 48
          }
        },
        "bd042c34f08644b1860fed1ddfa95225": {
          "model_module": "@jupyter-widgets/base",
          "model_module_version": "1.2.0",
          "model_name": "LayoutModel",
          "state": {
            "_model_module": "@jupyter-widgets/base",
            "_model_module_version": "1.2.0",
            "_model_name": "LayoutModel",
            "_view_count": null,
            "_view_module": "@jupyter-widgets/base",
            "_view_module_version": "1.2.0",
            "_view_name": "LayoutView",
            "align_content": null,
            "align_items": null,
            "align_self": null,
            "border": null,
            "bottom": null,
            "display": null,
            "flex": null,
            "flex_flow": null,
            "grid_area": null,
            "grid_auto_columns": null,
            "grid_auto_flow": null,
            "grid_auto_rows": null,
            "grid_column": null,
            "grid_gap": null,
            "grid_row": null,
            "grid_template_areas": null,
            "grid_template_columns": null,
            "grid_template_rows": null,
            "height": null,
            "justify_content": null,
            "justify_items": null,
            "left": null,
            "margin": null,
            "max_height": null,
            "max_width": null,
            "min_height": null,
            "min_width": null,
            "object_fit": null,
            "object_position": null,
            "order": null,
            "overflow": null,
            "overflow_x": null,
            "overflow_y": null,
            "padding": null,
            "right": null,
            "top": null,
            "visibility": null,
            "width": null
          }
        },
        "c7eb83f495b84097b65e4f5cebaba907": {
          "model_module": "@jupyter-widgets/base",
          "model_module_version": "1.2.0",
          "model_name": "LayoutModel",
          "state": {
            "_model_module": "@jupyter-widgets/base",
            "_model_module_version": "1.2.0",
            "_model_name": "LayoutModel",
            "_view_count": null,
            "_view_module": "@jupyter-widgets/base",
            "_view_module_version": "1.2.0",
            "_view_name": "LayoutView",
            "align_content": null,
            "align_items": null,
            "align_self": null,
            "border": null,
            "bottom": null,
            "display": null,
            "flex": null,
            "flex_flow": null,
            "grid_area": null,
            "grid_auto_columns": null,
            "grid_auto_flow": null,
            "grid_auto_rows": null,
            "grid_column": null,
            "grid_gap": null,
            "grid_row": null,
            "grid_template_areas": null,
            "grid_template_columns": null,
            "grid_template_rows": null,
            "height": null,
            "justify_content": null,
            "justify_items": null,
            "left": null,
            "margin": null,
            "max_height": null,
            "max_width": null,
            "min_height": null,
            "min_width": null,
            "object_fit": null,
            "object_position": null,
            "order": null,
            "overflow": null,
            "overflow_x": null,
            "overflow_y": null,
            "padding": null,
            "right": null,
            "top": null,
            "visibility": null,
            "width": null
          }
        },
        "c911d7fa099a4485a53e6ff17f3c0cd1": {
          "model_module": "@jupyter-widgets/base",
          "model_module_version": "1.2.0",
          "model_name": "LayoutModel",
          "state": {
            "_model_module": "@jupyter-widgets/base",
            "_model_module_version": "1.2.0",
            "_model_name": "LayoutModel",
            "_view_count": null,
            "_view_module": "@jupyter-widgets/base",
            "_view_module_version": "1.2.0",
            "_view_name": "LayoutView",
            "align_content": null,
            "align_items": null,
            "align_self": null,
            "border": null,
            "bottom": null,
            "display": null,
            "flex": null,
            "flex_flow": null,
            "grid_area": null,
            "grid_auto_columns": null,
            "grid_auto_flow": null,
            "grid_auto_rows": null,
            "grid_column": null,
            "grid_gap": null,
            "grid_row": null,
            "grid_template_areas": null,
            "grid_template_columns": null,
            "grid_template_rows": null,
            "height": null,
            "justify_content": null,
            "justify_items": null,
            "left": null,
            "margin": null,
            "max_height": null,
            "max_width": null,
            "min_height": null,
            "min_width": null,
            "object_fit": null,
            "object_position": null,
            "order": null,
            "overflow": null,
            "overflow_x": null,
            "overflow_y": null,
            "padding": null,
            "right": null,
            "top": null,
            "visibility": null,
            "width": null
          }
        },
        "cbb99c6f63cd422dbcd55c27bec0a490": {
          "model_module": "@jupyter-widgets/controls",
          "model_module_version": "1.5.0",
          "model_name": "DescriptionStyleModel",
          "state": {
            "_model_module": "@jupyter-widgets/controls",
            "_model_module_version": "1.5.0",
            "_model_name": "DescriptionStyleModel",
            "_view_count": null,
            "_view_module": "@jupyter-widgets/base",
            "_view_module_version": "1.2.0",
            "_view_name": "StyleView",
            "description_width": ""
          }
        },
        "d7575976fb184a488736f434972585ee": {
          "model_module": "@jupyter-widgets/controls",
          "model_module_version": "1.5.0",
          "model_name": "DescriptionStyleModel",
          "state": {
            "_model_module": "@jupyter-widgets/controls",
            "_model_module_version": "1.5.0",
            "_model_name": "DescriptionStyleModel",
            "_view_count": null,
            "_view_module": "@jupyter-widgets/base",
            "_view_module_version": "1.2.0",
            "_view_name": "StyleView",
            "description_width": ""
          }
        },
        "da6bffec9fc6477aaf7cd9c4a54e7fe3": {
          "model_module": "@jupyter-widgets/controls",
          "model_module_version": "1.5.0",
          "model_name": "DescriptionStyleModel",
          "state": {
            "_model_module": "@jupyter-widgets/controls",
            "_model_module_version": "1.5.0",
            "_model_name": "DescriptionStyleModel",
            "_view_count": null,
            "_view_module": "@jupyter-widgets/base",
            "_view_module_version": "1.2.0",
            "_view_name": "StyleView",
            "description_width": ""
          }
        },
        "db8e40379f1345a195cfb3fd7ff2b3c1": {
          "model_module": "@jupyter-widgets/controls",
          "model_module_version": "1.5.0",
          "model_name": "HTMLModel",
          "state": {
            "_dom_classes": [],
            "_model_module": "@jupyter-widgets/controls",
            "_model_module_version": "1.5.0",
            "_model_name": "HTMLModel",
            "_view_count": null,
            "_view_module": "@jupyter-widgets/controls",
            "_view_module_version": "1.5.0",
            "_view_name": "HTMLView",
            "description": "",
            "description_tooltip": null,
            "layout": "IPY_MODEL_118b2c5f980b4e4a98c403bef50ddb36",
            "placeholder": "​",
            "style": "IPY_MODEL_da6bffec9fc6477aaf7cd9c4a54e7fe3",
            "value": "config.json: 100%"
          }
        },
        "eaf181ed20154cae85b67757b43c874b": {
          "model_module": "@jupyter-widgets/base",
          "model_module_version": "1.2.0",
          "model_name": "LayoutModel",
          "state": {
            "_model_module": "@jupyter-widgets/base",
            "_model_module_version": "1.2.0",
            "_model_name": "LayoutModel",
            "_view_count": null,
            "_view_module": "@jupyter-widgets/base",
            "_view_module_version": "1.2.0",
            "_view_name": "LayoutView",
            "align_content": null,
            "align_items": null,
            "align_self": null,
            "border": null,
            "bottom": null,
            "display": null,
            "flex": null,
            "flex_flow": null,
            "grid_area": null,
            "grid_auto_columns": null,
            "grid_auto_flow": null,
            "grid_auto_rows": null,
            "grid_column": null,
            "grid_gap": null,
            "grid_row": null,
            "grid_template_areas": null,
            "grid_template_columns": null,
            "grid_template_rows": null,
            "height": null,
            "justify_content": null,
            "justify_items": null,
            "left": null,
            "margin": null,
            "max_height": null,
            "max_width": null,
            "min_height": null,
            "min_width": null,
            "object_fit": null,
            "object_position": null,
            "order": null,
            "overflow": null,
            "overflow_x": null,
            "overflow_y": null,
            "padding": null,
            "right": null,
            "top": null,
            "visibility": null,
            "width": null
          }
        },
        "ec735d303e1b4275b8b6ee1d18be5d45": {
          "model_module": "@jupyter-widgets/base",
          "model_module_version": "1.2.0",
          "model_name": "LayoutModel",
          "state": {
            "_model_module": "@jupyter-widgets/base",
            "_model_module_version": "1.2.0",
            "_model_name": "LayoutModel",
            "_view_count": null,
            "_view_module": "@jupyter-widgets/base",
            "_view_module_version": "1.2.0",
            "_view_name": "LayoutView",
            "align_content": null,
            "align_items": null,
            "align_self": null,
            "border": null,
            "bottom": null,
            "display": null,
            "flex": null,
            "flex_flow": null,
            "grid_area": null,
            "grid_auto_columns": null,
            "grid_auto_flow": null,
            "grid_auto_rows": null,
            "grid_column": null,
            "grid_gap": null,
            "grid_row": null,
            "grid_template_areas": null,
            "grid_template_columns": null,
            "grid_template_rows": null,
            "height": null,
            "justify_content": null,
            "justify_items": null,
            "left": null,
            "margin": null,
            "max_height": null,
            "max_width": null,
            "min_height": null,
            "min_width": null,
            "object_fit": null,
            "object_position": null,
            "order": null,
            "overflow": null,
            "overflow_x": null,
            "overflow_y": null,
            "padding": null,
            "right": null,
            "top": null,
            "visibility": null,
            "width": null
          }
        },
        "f6d6efa6533946feb13e56e79e308b18": {
          "model_module": "@jupyter-widgets/controls",
          "model_module_version": "1.5.0",
          "model_name": "DescriptionStyleModel",
          "state": {
            "_model_module": "@jupyter-widgets/controls",
            "_model_module_version": "1.5.0",
            "_model_name": "DescriptionStyleModel",
            "_view_count": null,
            "_view_module": "@jupyter-widgets/base",
            "_view_module_version": "1.2.0",
            "_view_name": "StyleView",
            "description_width": ""
          }
        },
        "fe8c78bbd7e04b46adfed9159c953822": {
          "model_module": "@jupyter-widgets/base",
          "model_module_version": "1.2.0",
          "model_name": "LayoutModel",
          "state": {
            "_model_module": "@jupyter-widgets/base",
            "_model_module_version": "1.2.0",
            "_model_name": "LayoutModel",
            "_view_count": null,
            "_view_module": "@jupyter-widgets/base",
            "_view_module_version": "1.2.0",
            "_view_name": "LayoutView",
            "align_content": null,
            "align_items": null,
            "align_self": null,
            "border": null,
            "bottom": null,
            "display": null,
            "flex": null,
            "flex_flow": null,
            "grid_area": null,
            "grid_auto_columns": null,
            "grid_auto_flow": null,
            "grid_auto_rows": null,
            "grid_column": null,
            "grid_gap": null,
            "grid_row": null,
            "grid_template_areas": null,
            "grid_template_columns": null,
            "grid_template_rows": null,
            "height": null,
            "justify_content": null,
            "justify_items": null,
            "left": null,
            "margin": null,
            "max_height": null,
            "max_width": null,
            "min_height": null,
            "min_width": null,
            "object_fit": null,
            "object_position": null,
            "order": null,
            "overflow": null,
            "overflow_x": null,
            "overflow_y": null,
            "padding": null,
            "right": null,
            "top": null,
            "visibility": null,
            "width": null
          }
        },
        "feffe685d8b04b8fa89b47b3bb5844b1": {
          "model_module": "@jupyter-widgets/base",
          "model_module_version": "1.2.0",
          "model_name": "LayoutModel",
          "state": {
            "_model_module": "@jupyter-widgets/base",
            "_model_module_version": "1.2.0",
            "_model_name": "LayoutModel",
            "_view_count": null,
            "_view_module": "@jupyter-widgets/base",
            "_view_module_version": "1.2.0",
            "_view_name": "LayoutView",
            "align_content": null,
            "align_items": null,
            "align_self": null,
            "border": null,
            "bottom": null,
            "display": null,
            "flex": null,
            "flex_flow": null,
            "grid_area": null,
            "grid_auto_columns": null,
            "grid_auto_flow": null,
            "grid_auto_rows": null,
            "grid_column": null,
            "grid_gap": null,
            "grid_row": null,
            "grid_template_areas": null,
            "grid_template_columns": null,
            "grid_template_rows": null,
            "height": null,
            "justify_content": null,
            "justify_items": null,
            "left": null,
            "margin": null,
            "max_height": null,
            "max_width": null,
            "min_height": null,
            "min_width": null,
            "object_fit": null,
            "object_position": null,
            "order": null,
            "overflow": null,
            "overflow_x": null,
            "overflow_y": null,
            "padding": null,
            "right": null,
            "top": null,
            "visibility": null,
            "width": null
          }
        }
      }
    }
  },
  "nbformat": 4,
  "nbformat_minor": 0
}