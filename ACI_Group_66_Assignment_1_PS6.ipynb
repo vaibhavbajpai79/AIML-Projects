{
 "cells": [
  {
   "cell_type": "markdown",
   "metadata": {
    "id": "MzZ4dJQYF7sH"
   },
   "source": [
    "# Artificial and Computational Intelligence Assignment 1"
   ]
  },
  {
   "cell_type": "markdown",
   "metadata": {
    "id": "Fxb1aE9zF7sK"
   },
   "source": [
    "## Problem solving by Uninformed & Informed Search"
   ]
  },
  {
   "cell_type": "markdown",
   "metadata": {
    "id": "h35jIBbCF7sK"
   },
   "source": [
    "List only the BITS (Name) of active contributors in this assignment:\n",
    "1. Sonika Bengani (2023aa05522)\n",
    "2. Mugdha Hans (2023aa05570)\n",
    "3. Vaibhav Bajpai(2023aa05631)\n"
   ]
  },
  {
   "cell_type": "markdown",
   "metadata": {
    "id": "pt5ygv_zF7sL"
   },
   "source": [
    "Things to follow\n",
    "1.\tUse appropriate data structures to represent the graph and the path using python libraries\n",
    "2.\tProvide proper documentation\n",
    "3.\tFind the path and print it"
   ]
  },
  {
   "cell_type": "markdown",
   "metadata": {
    "id": "wZfop5ElF7sL"
   },
   "source": [
    "Coding begins here"
   ]
  },
  {
   "cell_type": "markdown",
   "metadata": {
    "id": "IL0QDMy3F7sL"
   },
   "source": [
    "### 1.\tDefine the environment in the following block"
   ]
  },
  {
   "cell_type": "markdown",
   "metadata": {
    "id": "RYwJPNLIF7sM"
   },
   "source": [
    "List the PEAS decription of the problem here in this markdown block\n",
    "\n",
    "Kindly refer supporting word document - ACI_Group_66_Assignment_1_PS6.docx"
   ]
  },
  {
   "cell_type": "markdown",
   "metadata": {
    "id": "XJ3cHp1IF7sM"
   },
   "source": [
    "Design the agent as PSA Agent(Problem Solving Agent)\n",
    "Clear Initial data structures to define the graph and variable declarations is expected\n",
    "IMPORTATANT: Write distinct code block as below"
   ]
  },
  {
   "cell_type": "code",
   "execution_count": 142,
   "metadata": {
    "id": "osp61RsLF7sN"
   },
   "outputs": [],
   "source": [
    "#Code Block : Set Initial State (Must handle dynamic inputs)\n",
    "import math\n",
    "import time\n",
    "\n",
    "class State:\n",
    "#####################################################################################################\n",
    "# Class     : State \n",
    "# Class Func: __init__\n",
    "# Func Input: Current city, fare, time,h_cost(heuristic), f_cost, eval_cost \n",
    "# How?      : Initialises city state with fare, time, eval_cost,h_cost and f_cost\n",
    "######################################################################################################    \n",
    "    def __init__(self, city, fare, time, h_cost, f_cost):\n",
    "        self.city = city\n",
    "        self.g_cost = time    # Actual time from the start node\n",
    "        self.h_cost = h_cost  # Heuristic time to the goal node\n",
    "        self.f_cost = f_cost  # Total cost (f = g + h) in case of IDA* f = composite_eval_cost in\\\n",
    "                              # case of Hill_Climbing\n",
    "        self.fare = fare      # Actual fare from the start node\n",
    "        "
   ]
  },
  {
   "cell_type": "code",
   "execution_count": 143,
   "metadata": {
    "id": "XODwoWZ0F7sO"
   },
   "outputs": [],
   "source": [
    "#Code Block : Set the matrix for transition & cost (as relevant for the given problem)\n",
    "#Graph representing the problem statement \n",
    "graph = { # Dictionary of Dictionary\n",
    "    0: {1: {\"fare\": 500, \"time\": 3, \"ht\": 3}, 2: {\"fare\": 650, \"time\": 2, \"ht\": 5}, 3: {\"fare\": 850, \"time\": 3, \"ht\": 1.5}},\n",
    "    1: {0: {\"fare\": 500, \"time\": 3, \"ht\": 5}, 2: {\"fare\": 1000, \"time\": 4, \"ht\": 5}, 3: {\"fare\": 590, \"time\": 1.5, \"ht\": 1.5}, 5: {\"fare\": 1250, \"time\": 3, \"ht\": 0}},\n",
    "    2: {0: {\"fare\": 650, \"time\": 2, \"ht\": 5}, 1: {\"fare\": 1000, \"time\": 4, \"ht\": 3}, 3: {\"fare\": 600, \"time\": 3, \"ht\": 1.5}},\n",
    "    3: {0: {\"fare\": 850, \"time\": 3, \"ht\": 5}, 1: {\"fare\": 590, \"time\": 1.5, \"ht\": 3}, 2: {\"fare\": 600, \"time\": 3, \"ht\": 5}, 4: {\"fare\": 700, \"time\": 2, \"ht\": 1.5}, 5: {\"fare\": 1500, \"time\": 2, \"ht\": 0}},\n",
    "    4: {3: {\"fare\": 700, \"time\": 2, \"ht\": 1.5}, 5: {\"fare\": 2500, \"time\": 3, \"ht\": 0}},\n",
    "    5: {1: {\"fare\": 1250, \"time\": 3, \"ht\": 3}, 3: {\"fare\": 1500, \"time\": 2, \"ht\": 1.5}, 4: {\"fare\": 2500, \"time\": 3, \"ht\": 1.5}}\n",
    "}\n",
    "\n",
    "#Branghing factor calculation\n",
    "b = max([len(graph[key]) for key in graph])\n",
    "max_branch_factor = b - 1 #As one node will always be input by the user as a start node\n",
    "#time_heuristics are maintained of each node. This is needed for IDA* implementation\n",
    "time_heuristics = [5, 3, 5,1.5,1.5,0]"
   ]
  },
  {
   "cell_type": "code",
   "execution_count": 144,
   "metadata": {
    "id": "ro24Gaj7F7sO"
   },
   "outputs": [],
   "source": [
    "#Code Block : Write function to design the Transition Model/Successor function. Ideally this would be called while search algorithms are implemented\n",
    "######################################################################################################\n",
    "# Function : Generate_Successors_IDAStar (Successor function of IDA* Algo)\n",
    "# Input    : Current city state \n",
    "# Output   : List of successors \n",
    "# How ?    : Expands all the children of the Input city, their g_cost, h_cost and f_cost\n",
    "#            time,as given in the graph Dictionary\n",
    "######################################################################################################\n",
    "\n",
    "def Generate_Successors_IDAStar(state,iteration):\n",
    "    iteration += 1\n",
    "    print(\"<ITERATION\",iteration,\"> IDA*\") \n",
    "    successors = []\n",
    "    print(\"Children of \",state.city)\n",
    "    for child, cost in graph[state.city].items():\n",
    "        g_cost =  state.g_cost + cost[\"time\"]\n",
    "        h_cost = cost[\"ht\"]\n",
    "        f_cost = g_cost + time_heuristics[child]\n",
    "        successor = State(child, 0, g_cost, h_cost,f_cost)\n",
    "        print(\"{Child \",successor.city, \", time:\",successor.g_cost, \\\n",
    "              \",h_time:\",successor.h_cost, \", Evaluation Cost:\",successor.f_cost,\"}\")\n",
    "        successors.append(successor)\n",
    "    return successors\n",
    "\n",
    "#####################################################################################################\n",
    "# Function : Composite_Eval_Cost \n",
    "# Input    : Fare and time of Current city \n",
    "# Output   : Returns the evaluation cost \n",
    "# How ?    : Accounting the weightage of fare(wf) and time(wt) needed for HillClimbingAlgo \n",
    "# Note     : Fare is log transformed to bring both on the same scale\n",
    "##################################################################################################### \n",
    "def Composite_Eval_Cost(fare,time):\n",
    "    if fare > 0:\n",
    "        e = wf*(math.log10(abs(fare))) + wt*(abs(time))\n",
    "    return e\n",
    "\n",
    "######################################################################################################\n",
    "# Function : Generate_Successors_HillClimbing (Successor function of HillClimbingAlgo)\n",
    "# Input    : Current city state \n",
    "# Output   : List of successors \n",
    "# How ?    : Expands all the children of the Input city, their fare,\n",
    "#            time,as given in the graph Dictionary\n",
    "######################################################################################################      \n",
    "def Generate_Successors_HillClimbing(state,iteration):\n",
    "    \n",
    "    iteration += 1\n",
    "    print(\"<ITERATION\",iteration,\"> Hill-Climbing\") \n",
    "    successors = []\n",
    "    print(\"Children of\",state.city)\n",
    "    for child, cost in graph[state.city].items():\n",
    "      #If child not already in expanded node, only then initialise\n",
    "      if child not in expanded_node:\n",
    "        fare =  cost[\"fare\"]\n",
    "        time =  cost[\"time\"]\n",
    "        h_cost = cost[\"ht\"]\n",
    "        f_cost = Composite_Eval_Cost(fare,time) #Evalcost \n",
    "        successor = State(child, fare, time, h_cost,f_cost)\n",
    "        print(\"{Child \",successor.city, \", fare:\",successor.fare,\", time:\",\\\n",
    "              successor.g_cost, \", Evaluation Cost:\",successor.f_cost,\"}\")\n",
    "        successors.append(successor)\n",
    "    return successors\n",
    "\n"
   ]
  },
  {
   "cell_type": "code",
   "execution_count": 145,
   "metadata": {
    "id": "HIVPhrRWF7sO"
   },
   "outputs": [],
   "source": [
    "#Code block : Write fucntion to handle goal test (Must handle dynamic inputs). Ideally this would be called while search algorithms are implemented\n",
    "########################################################################\n",
    "# Function : Goal_Test\n",
    "# Input    : Current city state\n",
    "# Output   : status of goal test(True/False)\n",
    "# How      : Compares the city at hand with goal city\n",
    "#            \n",
    "#########################################################################\n",
    "def Goal_Test(state):\n",
    "    return state.city == goal"
   ]
  },
  {
   "cell_type": "markdown",
   "metadata": {
    "id": "Z4QwDeX5F7sO"
   },
   "source": [
    "### 2.\tDefinition of - IDA*"
   ]
  },
  {
   "cell_type": "code",
   "execution_count": 146,
   "metadata": {
    "id": "zD_EPCHWF7sO"
   },
   "outputs": [],
   "source": [
    "#Code Block : Function for IDA* implementation\n",
    "import math\n",
    "\n",
    "#########################################################################\n",
    "# Function : Select_Min_fscore_Child \n",
    "# Input    : List of successors of expanded node \n",
    "# Output   : Child with minimum evaluation cost\n",
    "# How ?    : Compare eval_cost of all given neighbors\n",
    "######################################################################### \n",
    "def Select_Min_fscore_Child(successors,limit):\n",
    "  min_child = None  \n",
    "  for child in successors:\n",
    "    \n",
    "    if(child.f_cost <= limit):\n",
    "      min_fscore = child.f_cost\n",
    "      min_child = child\n",
    "      print(\"Min Child=\",min_child.city)\n",
    "      \n",
    "    else:\n",
    "        pruned_node.append(child)\n",
    "  return min_child\n",
    "\n",
    "#########################################################################\n",
    "# Function : Change_Limit \n",
    "# Input    : List of successors of expanded node \n",
    "# Output   : Child with minimum evaluation cost\n",
    "# How ?    : Compare eval_cost of all given neighbors\n",
    "######################################################################### \n",
    "def Change_Limit(pruned_node):\n",
    "    min_fscore = float('inf')\n",
    "    for i in range(len(pruned_node)):\n",
    "        if(pruned_node[i].f_cost < min_fscore):\n",
    "            new_limit = pruned_node[i].f_cost\n",
    "            min_fscore = new_limit\n",
    "        \n",
    "    pruned_node = []\n",
    "    return new_limit\n",
    "        \n",
    "###############################################################################################\n",
    "# Function : IDA_Star_Algorithm \n",
    "# Input    : Current city state \n",
    "# Output   : Optimal path\n",
    "# How ?    : Step 1 - Generate Successors\n",
    "#            Step 2 - Select child with min f_cost, if not found - change the limit\n",
    "#            Step 3 - Perform Goal test on min_child\n",
    "#            Step 4 - If goal test fails IDA* recursively\n",
    "############################################################################################### \n",
    "def IDA_Star_Algorithm(state,limit,iteration):\n",
    "    \n",
    "#Generates successors of state in hand\n",
    "    successors = Generate_Successors_IDAStar(state,iteration)\n",
    "  \n",
    "    if successors: \n",
    "        min_fn_state = Select_Min_fscore_Child(successors,limit)\n",
    "        if min_fn_state:\n",
    "            if Goal_Test(min_fn_state):\n",
    "                print(\"***Eureka!!! Found Goal!!****\")\n",
    "                return \"Goal\"\n",
    "            else:\n",
    "                expanded_node.append(min_fn_state.city)\n",
    "                result = IDA_Star_Algorithm(min_fn_state,limit,iteration)\n",
    "                if(result == \"Goal\"):\n",
    "                    expanded_node.append(goal)\n",
    "                    print(\"Traversed Node:\",expanded_node)\n",
    "        else:\n",
    "            new_limit = Change_Limit(pruned_node)\n",
    "            print(\"New limit\",new_limit)\n",
    "            limit = new_limit\n",
    "            IDA_Star_Algorithm(state,limit,iteration)\n",
    "        "
   ]
  },
  {
   "cell_type": "markdown",
   "metadata": {
    "id": "KnbdDl6HF7sO"
   },
   "source": [
    "### 3.\tDefinition of - HillClimbing"
   ]
  },
  {
   "cell_type": "code",
   "execution_count": 147,
   "metadata": {
    "id": "3HYh7-eJF7sP"
   },
   "outputs": [],
   "source": [
    "#Code Block : Function for HillClimbing implementation\n",
    "#########################################################################\n",
    "# Function : Select_Min_Eval_Child \n",
    "# Input    : List of successors of expanded node \n",
    "# Output   : Child with minimum evaluation cost\n",
    "# How ?    : Compare eval_cost of all given neighbors\n",
    "######################################################################### \n",
    "def Select_Min_Eval_Child(successors):\n",
    "  min_fn = float('inf')\n",
    "  for child in successors:\n",
    "    if(child.f_cost < min_fn):\n",
    "      min_fn = child.f_cost\n",
    "      min_child = child\n",
    "  return min_child\n",
    "\n",
    "#########################################################################\n",
    "# Function : Hill_Climbing_Algo \n",
    "# Input    : Current city state \n",
    "# Output   : Returns Goal if foudn\n",
    "# How ?    : Step 1 - Generate Successors\n",
    "#            Step 2 - Select child with min evaluation cost\n",
    "#            Step 3 - Perfom Goal test on min_child\n",
    "#            Step 4 - If goal test fails hill climb recursively\n",
    "######################################################################### \n",
    "def Hill_Climbing_Algo(state,iteration):\n",
    "   \n",
    "    #Generates successors of state in hand\n",
    "    successors = Generate_Successors_HillClimbing(state,iteration)\n",
    "    if successors:\n",
    "        min_fn_state = Select_Min_Eval_Child(successors)\n",
    "        print(\"Select min fn city:\",min_fn_state.city)\n",
    "        if Goal_Test(min_fn_state):\n",
    "            print(\"*****Eureka!!!!!!Goal Found!*****\")\n",
    "            return \"Goal\"\n",
    "        else:\n",
    "            expanded_node.append(min_fn_state.city)\n",
    "            result = Hill_Climbing_Algo(min_fn_state,iteration)\n",
    "            if(result == \"Goal\"):\n",
    "                expanded_node.append(goal)\n",
    "      \n",
    "    else:\n",
    "        print(\"!!!!!Stuck at city\",state.city,\", Could not expand further!!!!!\")\n"
   ]
  },
  {
   "cell_type": "markdown",
   "metadata": {
    "id": "LEV2XHccF7sP"
   },
   "source": [
    "### DYNAMIC INPUT"
   ]
  },
  {
   "cell_type": "markdown",
   "metadata": {
    "id": "CylYRo_DF7sP"
   },
   "source": [
    "IMPORTANT : Dynamic Input must be got in this section. Display the possible states to choose from:\n",
    "This is applicable for all the relevent problems as mentioned in the question."
   ]
  },
  {
   "cell_type": "code",
   "execution_count": 148,
   "metadata": {
    "id": "Q5t1Lc-wF7sP"
   },
   "outputs": [
    {
     "name": "stdout",
     "output_type": "stream",
     "text": [
      "Choose Algorithm\n",
      "1 - Iterative Deepening A Star Algorithm\n",
      "2 - HillClimbing\n",
      "Enter choice(1/2)-2\n",
      "********Mention start and goal city**********\n",
      "Enter start city index(0 for A):2\n",
      "Enter goal city index(5 for G):5\n",
      "\n",
      "We are using composite Evaluation function to calculate f-cost which takes weightage of fare and time from the user\n",
      "Also, for the given problem statement,\n",
      "Please input start city index = 0 and goal city index = 5\n",
      "Please give weightage values for fare(wf) and time(wt)\n",
      "Please note wf+wt = 1\n",
      "What weightage you want to give to fare?(should be < 1 for e.g 0.8)0.7\n"
     ]
    }
   ],
   "source": [
    "#Code Block : Function & call to get inputs (start/end state)\n",
    "print(\"Choose Algorithm\")\n",
    "print(\"1 - Iterative Deepening A Star Algorithm\")\n",
    "print(\"2 - HillClimbing\")\n",
    "\n",
    "choice = int(input(\"Enter choice(1/2)-\"))\n",
    "print(\"********Mention start and goal city**********\")\n",
    "root = int(input(\"Enter start city index(0 for A):\"))\n",
    "goal = int(input(\"Enter goal city index(5 for G):\"))\n",
    "\n",
    "if(choice == 1):\n",
    "#Set limit for IDA*\n",
    "    limit = time_heuristics[root]\n",
    "    new_limit = 0\n",
    "    \n",
    "if(choice == 2):\n",
    "    print(\"\\nWe are using composite Evaluation function to calculate f-cost which takes weightage of fare and time from the user\")\n",
    "    print(\"Also, for the given problem statement,\")\n",
    "    print(\"Please input start city index = 0 and goal city index = 5\")\n",
    "    \n",
    "    print(\"Please give weightage values for fare(wf) and time(wt)\")\n",
    "    print(\"Please note wf+wt = 1\")\n",
    "\n",
    "    #Take input from user for weightage of fare. Weightage of time will be calculated\n",
    "    wf = float(input(\"What weightage you want to give to fare?(should be < 1 for e.g 0.8)\"))\n",
    "    wt = 1-wf # As we know that wf+wt =1\n",
    "    \n",
    "\n",
    "\n",
    "#Expanded node list keeps track of cities whose children are generated\n",
    "expanded_node = []\n",
    "#Pruned node list keeps track of cities whose f-score is > limit\n",
    "pruned_node = []\n",
    "\n",
    "#Create instance of State class for root node\n",
    "root_state = State(root, 0, 0, time_heuristics[root], 0) \n",
    "\n",
    "#Expand Root Node\n",
    "expanded_node.append(root_state.city)\n",
    "\n"
   ]
  },
  {
   "cell_type": "markdown",
   "metadata": {
    "id": "xsfOP81lF7sP"
   },
   "source": [
    "### 4.\tCalling the search algorithms\n",
    "(For bidirectional search in below sections first part can be used as per Hint provided. Under second section other combinations as per Hint or your choice of 2 algorithms can be called .As an analyst suggest suitable approximation in the comparitive analysis section)"
   ]
  },
  {
   "cell_type": "code",
   "execution_count": 132,
   "metadata": {
    "id": "Og5zI9thF7sP"
   },
   "outputs": [
    {
     "name": "stdout",
     "output_type": "stream",
     "text": [
      "<ITERATION 1 > Hill-Climbing\n",
      "Children of 2\n",
      "{Child  0 , fare: 650 , time: 2 , Evaluation Cost: 2.6503306853142847 }\n",
      "{Child  1 , fare: 1000 , time: 4 , Evaluation Cost: 3.2 }\n",
      "{Child  3 , fare: 600 , time: 3 , Evaluation Cost: 2.8225210003069146 }\n",
      "Select min fn city: 0\n",
      "<ITERATION 1 > Hill-Climbing\n",
      "Children of 0\n",
      "{Child  1 , fare: 500 , time: 3 , Evaluation Cost: 2.7591760034688146 }\n",
      "{Child  3 , fare: 850 , time: 3 , Evaluation Cost: 2.9435351405714343 }\n",
      "Select min fn city: 1\n",
      "<ITERATION 1 > Hill-Climbing\n",
      "Children of 1\n",
      "{Child  3 , fare: 590 , time: 1.5 , Evaluation Cost: 2.516681609313715 }\n",
      "{Child  5 , fare: 1250 , time: 3 , Evaluation Cost: 3.0775280104064446 }\n",
      "Select min fn city: 3\n",
      "<ITERATION 1 > Hill-Climbing\n",
      "Children of 3\n",
      "{Child  4 , fare: 700 , time: 2 , Evaluation Cost: 2.6760784320114057 }\n",
      "{Child  5 , fare: 1500 , time: 2 , Evaluation Cost: 2.9408730072445453 }\n",
      "Select min fn city: 4\n",
      "<ITERATION 1 > Hill-Climbing\n",
      "Children of 4\n",
      "{Child  5 , fare: 2500 , time: 3 , Evaluation Cost: 3.31835200693763 }\n",
      "Select min fn city: 5\n",
      "*****Eureka!!!!!!Goal Found!*****\n",
      "Optimal Path: [2, 0, 1, 3, 4, 5]\n",
      "Optimal Fare: 4940\n",
      "Optimal Time: 11.5\n"
     ]
    }
   ],
   "source": [
    "\n",
    "from math import sqrt\n",
    "\n",
    "#Invoke algorithm 1/2 (Should Print the solution, path, cost etc., (As mentioned in the problem))\n",
    "\n",
    "#################################################################################################\n",
    "# Function : Calc_Optimal_Cost \n",
    "# Input    : Null \n",
    "# Output   : Prints Optimal Fare and Time of Optimal path found\n",
    "# How ?    : Calculates optimal fare and time from expanded_node list\n",
    "################################################################################################# \n",
    "def Calc_Optimal_Cost(choice):\n",
    "  optimal_fare = 0\n",
    "  optimal_time = 0\n",
    "  for i in range(len(expanded_node) - 1):\n",
    "    cost = graph[expanded_node[i]][expanded_node[i+1]]\n",
    "    optimal_fare += cost[\"fare\"]\n",
    "    optimal_time += cost[\"time\"]\n",
    "  print(\"Optimal Fare:\",optimal_fare)\n",
    "  print(\"Optimal Time:\",optimal_time)\n",
    "\n",
    "    \n",
    "iteration = 0\n",
    "\n",
    "#If root city is not goal city, then call appropriate algo as per user choice\n",
    "if not Goal_Test(root_state):\n",
    "    if choice == 1:\n",
    "        start_time = time.time()\n",
    "        IDA_Star_Algorithm(root_state,limit,iteration)\n",
    "        end_time = time.time() \n",
    "    if choice == 2 :\n",
    "        start_time= time.time()\n",
    "        result = Hill_Climbing_Algo(root_state,iteration)\n",
    "        end_time = time.time()\n",
    "\n",
    " \n",
    "#The expanded nodes represent the optimal path\n",
    "print(\"Optimal Path:\",expanded_node)\n",
    "Calc_Optimal_Cost(choice)"
   ]
  },
  {
   "cell_type": "markdown",
   "metadata": {
    "id": "TOU3Rem6F7sQ"
   },
   "source": [
    "### 5.\tComparitive Analysis"
   ]
  },
  {
   "cell_type": "code",
   "execution_count": 133,
   "metadata": {
    "id": "HG6fWwiIF7sQ"
   },
   "outputs": [],
   "source": [
    "#Code Block : Print the Time & Space complexity of algorithm IDA*\n",
    "if choice == 1 :\n",
    "    print(\"Time Complexity of IDA* in millisec :\", (end_time - start_time)*1000,\"ms\")\n",
    "    #Space complexity of IDA* is O(bxd)\n",
    "    space_comp = max_branch_factor*(len(expanded_node) - 1)\n",
    "    print(\"Space Complexity of IDA* :\",space_comp)\n"
   ]
  },
  {
   "cell_type": "code",
   "execution_count": 134,
   "metadata": {
    "id": "xMButLKCF7sQ"
   },
   "outputs": [
    {
     "name": "stdout",
     "output_type": "stream",
     "text": [
      "Time complexity of Hill Climbing in millisec: 3.0007362365722656 ms\n",
      "Space Complexity of Hill Climbing : 4\n"
     ]
    }
   ],
   "source": [
    "#Code Block : Print the Time & Space complexity of algorithm Hill Climbing\n",
    "if choice == 2 :\n",
    "    print(\"Time complexity of Hill Climbing in millisec:\", (end_time - start_time)*1000,\"ms\")\n",
    "    #Space complexity of Hill Climbing is O(b)\n",
    "    print(\"Space Complexity of Hill Climbing :\",max_branch_factor)"
   ]
  },
  {
   "cell_type": "markdown",
   "metadata": {
    "id": "y2nXwAlsF7sQ"
   },
   "source": [
    "### 6.\tProvide your comparitive analysis or findings in no more than 3 lines in below section"
   ]
  },
  {
   "cell_type": "markdown",
   "metadata": {
    "id": "si483-zoF7sQ"
   },
   "source": [
    "Comparison : \n",
    "IDA* has higher space complexity as compared to Hill Climbing. The time complexity of both algorithms depends on problem characteristics and choice of heuristic. Our implementation of Hill Climbing uses  weighted sum of time and fare. For the default problem statement both algorithms are complete and giving optimal solution.\n",
    "\n",
    "________________________________________________________\n",
    "\n",
    "_________________________________________________________"
   ]
  }
 ],
 "metadata": {
  "colab": {
   "provenance": []
  },
  "kernelspec": {
   "display_name": "Python 3 (ipykernel)",
   "language": "python",
   "name": "python3"
  },
  "language_info": {
   "codemirror_mode": {
    "name": "ipython",
    "version": 3
   },
   "file_extension": ".py",
   "mimetype": "text/x-python",
   "name": "python",
   "nbconvert_exporter": "python",
   "pygments_lexer": "ipython3",
   "version": "3.11.5"
  }
 },
 "nbformat": 4,
 "nbformat_minor": 1
}
