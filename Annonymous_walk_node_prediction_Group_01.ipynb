{
  "nbformat": 4,
  "nbformat_minor": 0,
  "metadata": {
    "colab": {
      "provenance": []
    },
    "kernelspec": {
      "name": "python3",
      "display_name": "Python 3"
    },
    "language_info": {
      "name": "python"
    }
  },
  "cells": [
    {
      "cell_type": "markdown",
      "source": [
        "### Group ID: GNN Group 01\n",
        "### Group Members Name with Student ID:\n",
        "|Name             |Bits ID   |        Contribution|\n",
        "|-|-|-|\n",
        "| Adarsh Sivanandan         |   2023AA05811   |   100% |\n",
        "| Mano Ranjan Sahu          |   2023AA05738   |   100% |\n",
        "| Mukesh Kumar Saini        |   2023aa05880   |   100% |\n",
        "| Sanjay Kumar Agarwal      |   2023AA05611   |   100% |\n",
        "| Vaibhav Bajpai            |   2023aa05631   |   100% |"
      ],
      "metadata": {
        "id": "JBZIHQqQtuQ3"
      }
    },
    {
      "cell_type": "code",
      "source": [],
      "metadata": {
        "id": "tkmXLNgYIxo7"
      },
      "execution_count": null,
      "outputs": []
    },
    {
      "cell_type": "markdown",
      "source": [
        "Link of Python code in BITS library needs to be given as we will be running the code in Lab environment.\n",
        "Python code file path in virtual lab: /home/labuser/Desktop/Persistent_Folder/Group_1/Annonymous_walk_node_prediction_Group_01.ipynb"
      ],
      "metadata": {
        "id": "d1QfdFuPxbgi"
      }
    },
    {
      "cell_type": "markdown",
      "source": [
        "# Primary Task: Create ML model based on Anonymous Walk Embeddings for node level prediction\n",
        "## There are 5 major task that have been implemented and all the details for each task has been explained in detail before starting of each sub task below.\n",
        "## Sub Task 1: Data Preprocessing & Feature Extraction\n",
        "\n",
        "- the ogbg-molhiv dataset has been loaded.\n",
        "- Node features (atomic properties) and edge features (bond types) have been extracted.\n",
        "- Anonymous Walk Embeddings (AWE) for molecular graphs have also been generated"
      ],
      "metadata": {
        "id": "ZIRuweYsIekW"
      }
    },
    {
      "cell_type": "code",
      "source": [
        "!pip install torch-geometric ogb rdkit-pypi"
      ],
      "metadata": {
        "colab": {
          "base_uri": "https://localhost:8080/"
        },
        "id": "bNniJvZ9nFGQ",
        "outputId": "2f87c9e8-597e-4b82-d194-7fcc0494e46a"
      },
      "execution_count": 438,
      "outputs": [
        {
          "output_type": "stream",
          "name": "stdout",
          "text": [
            "Requirement already satisfied: torch-geometric in /usr/local/lib/python3.11/dist-packages (2.6.1)\n",
            "Requirement already satisfied: ogb in /usr/local/lib/python3.11/dist-packages (1.3.6)\n",
            "Requirement already satisfied: rdkit-pypi in /usr/local/lib/python3.11/dist-packages (2022.9.5)\n",
            "Requirement already satisfied: aiohttp in /usr/local/lib/python3.11/dist-packages (from torch-geometric) (3.11.13)\n",
            "Requirement already satisfied: fsspec in /usr/local/lib/python3.11/dist-packages (from torch-geometric) (2024.10.0)\n",
            "Requirement already satisfied: jinja2 in /usr/local/lib/python3.11/dist-packages (from torch-geometric) (3.1.6)\n",
            "Requirement already satisfied: numpy in /usr/local/lib/python3.11/dist-packages (from torch-geometric) (1.26.4)\n",
            "Requirement already satisfied: psutil>=5.8.0 in /usr/local/lib/python3.11/dist-packages (from torch-geometric) (5.9.5)\n",
            "Requirement already satisfied: pyparsing in /usr/local/lib/python3.11/dist-packages (from torch-geometric) (3.2.1)\n",
            "Requirement already satisfied: requests in /usr/local/lib/python3.11/dist-packages (from torch-geometric) (2.32.3)\n",
            "Requirement already satisfied: tqdm in /usr/local/lib/python3.11/dist-packages (from torch-geometric) (4.67.1)\n",
            "Requirement already satisfied: torch>=1.6.0 in /usr/local/lib/python3.11/dist-packages (from ogb) (2.5.1+cu124)\n",
            "Requirement already satisfied: scikit-learn>=0.20.0 in /usr/local/lib/python3.11/dist-packages (from ogb) (1.6.1)\n",
            "Requirement already satisfied: pandas>=0.24.0 in /usr/local/lib/python3.11/dist-packages (from ogb) (2.2.2)\n",
            "Requirement already satisfied: six>=1.12.0 in /usr/local/lib/python3.11/dist-packages (from ogb) (1.17.0)\n",
            "Requirement already satisfied: urllib3>=1.24.0 in /usr/local/lib/python3.11/dist-packages (from ogb) (2.3.0)\n",
            "Requirement already satisfied: outdated>=0.2.0 in /usr/local/lib/python3.11/dist-packages (from ogb) (0.2.2)\n",
            "Requirement already satisfied: Pillow in /usr/local/lib/python3.11/dist-packages (from rdkit-pypi) (11.1.0)\n",
            "Requirement already satisfied: setuptools>=44 in /usr/local/lib/python3.11/dist-packages (from outdated>=0.2.0->ogb) (75.1.0)\n",
            "Requirement already satisfied: littleutils in /usr/local/lib/python3.11/dist-packages (from outdated>=0.2.0->ogb) (0.2.4)\n",
            "Requirement already satisfied: python-dateutil>=2.8.2 in /usr/local/lib/python3.11/dist-packages (from pandas>=0.24.0->ogb) (2.8.2)\n",
            "Requirement already satisfied: pytz>=2020.1 in /usr/local/lib/python3.11/dist-packages (from pandas>=0.24.0->ogb) (2025.1)\n",
            "Requirement already satisfied: tzdata>=2022.7 in /usr/local/lib/python3.11/dist-packages (from pandas>=0.24.0->ogb) (2025.1)\n",
            "Requirement already satisfied: scipy>=1.6.0 in /usr/local/lib/python3.11/dist-packages (from scikit-learn>=0.20.0->ogb) (1.14.1)\n",
            "Requirement already satisfied: joblib>=1.2.0 in /usr/local/lib/python3.11/dist-packages (from scikit-learn>=0.20.0->ogb) (1.4.2)\n",
            "Requirement already satisfied: threadpoolctl>=3.1.0 in /usr/local/lib/python3.11/dist-packages (from scikit-learn>=0.20.0->ogb) (3.5.0)\n",
            "Requirement already satisfied: filelock in /usr/local/lib/python3.11/dist-packages (from torch>=1.6.0->ogb) (3.17.0)\n",
            "Requirement already satisfied: typing-extensions>=4.8.0 in /usr/local/lib/python3.11/dist-packages (from torch>=1.6.0->ogb) (4.12.2)\n",
            "Requirement already satisfied: networkx in /usr/local/lib/python3.11/dist-packages (from torch>=1.6.0->ogb) (3.4.2)\n",
            "Requirement already satisfied: nvidia-cuda-nvrtc-cu12==12.4.127 in /usr/local/lib/python3.11/dist-packages (from torch>=1.6.0->ogb) (12.4.127)\n",
            "Requirement already satisfied: nvidia-cuda-runtime-cu12==12.4.127 in /usr/local/lib/python3.11/dist-packages (from torch>=1.6.0->ogb) (12.4.127)\n",
            "Requirement already satisfied: nvidia-cuda-cupti-cu12==12.4.127 in /usr/local/lib/python3.11/dist-packages (from torch>=1.6.0->ogb) (12.4.127)\n",
            "Requirement already satisfied: nvidia-cudnn-cu12==9.1.0.70 in /usr/local/lib/python3.11/dist-packages (from torch>=1.6.0->ogb) (9.1.0.70)\n",
            "Requirement already satisfied: nvidia-cublas-cu12==12.4.5.8 in /usr/local/lib/python3.11/dist-packages (from torch>=1.6.0->ogb) (12.4.5.8)\n",
            "Requirement already satisfied: nvidia-cufft-cu12==11.2.1.3 in /usr/local/lib/python3.11/dist-packages (from torch>=1.6.0->ogb) (11.2.1.3)\n",
            "Requirement already satisfied: nvidia-curand-cu12==10.3.5.147 in /usr/local/lib/python3.11/dist-packages (from torch>=1.6.0->ogb) (10.3.5.147)\n",
            "Requirement already satisfied: nvidia-cusolver-cu12==11.6.1.9 in /usr/local/lib/python3.11/dist-packages (from torch>=1.6.0->ogb) (11.6.1.9)\n",
            "Requirement already satisfied: nvidia-cusparse-cu12==12.3.1.170 in /usr/local/lib/python3.11/dist-packages (from torch>=1.6.0->ogb) (12.3.1.170)\n",
            "Requirement already satisfied: nvidia-nccl-cu12==2.21.5 in /usr/local/lib/python3.11/dist-packages (from torch>=1.6.0->ogb) (2.21.5)\n",
            "Requirement already satisfied: nvidia-nvtx-cu12==12.4.127 in /usr/local/lib/python3.11/dist-packages (from torch>=1.6.0->ogb) (12.4.127)\n",
            "Requirement already satisfied: nvidia-nvjitlink-cu12==12.4.127 in /usr/local/lib/python3.11/dist-packages (from torch>=1.6.0->ogb) (12.4.127)\n",
            "Requirement already satisfied: triton==3.1.0 in /usr/local/lib/python3.11/dist-packages (from torch>=1.6.0->ogb) (3.1.0)\n",
            "Requirement already satisfied: sympy==1.13.1 in /usr/local/lib/python3.11/dist-packages (from torch>=1.6.0->ogb) (1.13.1)\n",
            "Requirement already satisfied: mpmath<1.4,>=1.1.0 in /usr/local/lib/python3.11/dist-packages (from sympy==1.13.1->torch>=1.6.0->ogb) (1.3.0)\n",
            "Requirement already satisfied: aiohappyeyeballs>=2.3.0 in /usr/local/lib/python3.11/dist-packages (from aiohttp->torch-geometric) (2.5.0)\n",
            "Requirement already satisfied: aiosignal>=1.1.2 in /usr/local/lib/python3.11/dist-packages (from aiohttp->torch-geometric) (1.3.2)\n",
            "Requirement already satisfied: attrs>=17.3.0 in /usr/local/lib/python3.11/dist-packages (from aiohttp->torch-geometric) (25.1.0)\n",
            "Requirement already satisfied: frozenlist>=1.1.1 in /usr/local/lib/python3.11/dist-packages (from aiohttp->torch-geometric) (1.5.0)\n",
            "Requirement already satisfied: multidict<7.0,>=4.5 in /usr/local/lib/python3.11/dist-packages (from aiohttp->torch-geometric) (6.1.0)\n",
            "Requirement already satisfied: propcache>=0.2.0 in /usr/local/lib/python3.11/dist-packages (from aiohttp->torch-geometric) (0.3.0)\n",
            "Requirement already satisfied: yarl<2.0,>=1.17.0 in /usr/local/lib/python3.11/dist-packages (from aiohttp->torch-geometric) (1.18.3)\n",
            "Requirement already satisfied: MarkupSafe>=2.0 in /usr/local/lib/python3.11/dist-packages (from jinja2->torch-geometric) (3.0.2)\n",
            "Requirement already satisfied: charset-normalizer<4,>=2 in /usr/local/lib/python3.11/dist-packages (from requests->torch-geometric) (3.4.1)\n",
            "Requirement already satisfied: idna<4,>=2.5 in /usr/local/lib/python3.11/dist-packages (from requests->torch-geometric) (3.10)\n",
            "Requirement already satisfied: certifi>=2017.4.17 in /usr/local/lib/python3.11/dist-packages (from requests->torch-geometric) (2025.1.31)\n"
          ]
        }
      ]
    },
    {
      "cell_type": "code",
      "source": [
        "!pip install torch-scatter torch-sparse torch-cluster torch-spline-conv -f https://data.pyg.org/whl/torch-$(python -c \"import torch; print(torch.__version__.split('+')[0])\").html"
      ],
      "metadata": {
        "colab": {
          "base_uri": "https://localhost:8080/"
        },
        "id": "FmMEtzGyoFP4",
        "outputId": "92f70956-03a3-4d5d-a1bc-4ac86fcf433f"
      },
      "execution_count": 439,
      "outputs": [
        {
          "output_type": "stream",
          "name": "stdout",
          "text": [
            "Looking in links: https://data.pyg.org/whl/torch-2.5.1.html\n",
            "Requirement already satisfied: torch-scatter in /usr/local/lib/python3.11/dist-packages (2.1.2)\n",
            "Requirement already satisfied: torch-sparse in /usr/local/lib/python3.11/dist-packages (0.6.18)\n",
            "Requirement already satisfied: torch-cluster in /usr/local/lib/python3.11/dist-packages (1.6.3)\n",
            "Requirement already satisfied: torch-spline-conv in /usr/local/lib/python3.11/dist-packages (1.2.2)\n",
            "Requirement already satisfied: scipy in /usr/local/lib/python3.11/dist-packages (from torch-sparse) (1.14.1)\n",
            "Requirement already satisfied: numpy<2.3,>=1.23.5 in /usr/local/lib/python3.11/dist-packages (from scipy->torch-sparse) (1.26.4)\n"
          ]
        }
      ]
    },
    {
      "cell_type": "code",
      "source": [
        "# required packages\n",
        "import torch\n",
        "import numpy as np\n",
        "import pandas as pd\n",
        "import seaborn as sns\n",
        "import torch.nn as nn\n",
        "import networkx as nx\n",
        "from rdkit import Chem\n",
        "from rdkit.Chem import Draw\n",
        "from collections import Counter\n",
        "import matplotlib.pyplot as plt\n",
        "import torch.nn.functional as F\n",
        "from torch_geometric.data import DataLoader\n",
        "from torch_geometric.utils import to_networkx\n",
        "from ogb.graphproppred import PygGraphPropPredDataset\n",
        "from torch.utils.data import DataLoader, TensorDataset\n",
        "from ogb.utils.features import atom_to_feature_vector, bond_to_feature_vector\n",
        "\n",
        "import torch.optim as optim\n",
        "import matplotlib.pyplot as plt\n",
        "from torch.optim import Adam\n",
        "from sklearn.metrics import roc_auc_score\n",
        "from sklearn.model_selection import train_test_split\n",
        "from sklearn.utils.class_weight import compute_class_weight\n",
        "from torch_geometric.nn import GCNConv\n",
        "from torch_geometric.nn import global_mean_pool\n",
        "from sklearn.metrics import roc_curve, auc\n",
        "from torchsummary import summary"
      ],
      "metadata": {
        "id": "hL08ltmAme0R"
      },
      "execution_count": 440,
      "outputs": []
    },
    {
      "cell_type": "code",
      "source": [
        "# printing to check the memory allocated/reserved\n",
        "print(f\"Allocated Memory: {torch.cuda.memory_allocated() / 1e9:.2f} GB\")\n",
        "print(f\"Reserved Memory: {torch.cuda.memory_reserved() / 1e9:.2f} GB\")"
      ],
      "metadata": {
        "colab": {
          "base_uri": "https://localhost:8080/"
        },
        "id": "oSUsNzlKnrRm",
        "outputId": "ae0576f2-50e4-4ab0-f8b5-2cbb18fb8bdf"
      },
      "execution_count": 441,
      "outputs": [
        {
          "output_type": "stream",
          "name": "stdout",
          "text": [
            "Allocated Memory: 0.00 GB\n",
            "Reserved Memory: 0.00 GB\n"
          ]
        }
      ]
    },
    {
      "cell_type": "code",
      "source": [
        "# Move dataset to GPU\n",
        "device = \"cuda\" if torch.cuda.is_available() else \"cpu\""
      ],
      "metadata": {
        "id": "KgwIL6_EjYNc"
      },
      "execution_count": 442,
      "outputs": []
    },
    {
      "cell_type": "code",
      "source": [
        "# Custom PyTorch dataset that integrates Anonymous Walk Embeddings (AWE) with molecular graphs.\n",
        "# Each graph's node features are replaced with repeated AWE embeddings for consistency in GNN processing.\n",
        "from torch_geometric.data import Data\n",
        "class GraphDataset(torch.utils.data.Dataset):\n",
        "    def __init__(self, dataset, awe_features):\n",
        "        self.dataset = dataset  # PyG dataset\n",
        "        self.awe_features = awe_features  # Precomputed AWE embeddings\n",
        "\n",
        "    def __len__(self):\n",
        "        return len(self.dataset)\n",
        "\n",
        "    def __getitem__(self, idx):\n",
        "        graph = self.dataset[idx]\n",
        "        awe_feat = self.awe_features[idx]\n",
        "\n",
        "        # Expand AWE feature vector for all nodes\n",
        "        num_nodes = graph.edge_index.max().item() + 1  # Get total nodes\n",
        "        x = awe_feat.repeat(num_nodes, 1)  # Copy AWE feature for all nodes\n",
        "\n",
        "        # Assign `x` to the graph\n",
        "        graph.x = x\n",
        "\n",
        "        return awe_feat, graph, graph.y"
      ],
      "metadata": {
        "id": "zj5OGOM4o6u9"
      },
      "execution_count": 443,
      "outputs": []
    },
    {
      "cell_type": "code",
      "execution_count": 444,
      "metadata": {
        "id": "OMVW_euhI83f",
        "colab": {
          "base_uri": "https://localhost:8080/"
        },
        "outputId": "fc2ad0d5-b579-4bf3-c740-b8781724d913"
      },
      "outputs": [
        {
          "output_type": "stream",
          "name": "stderr",
          "text": [
            "/usr/local/lib/python3.11/dist-packages/ogb/graphproppred/dataset_pyg.py:68: FutureWarning: You are using `torch.load` with `weights_only=False` (the current default value), which uses the default pickle module implicitly. It is possible to construct malicious pickle data which will execute arbitrary code during unpickling (See https://github.com/pytorch/pytorch/blob/main/SECURITY.md#untrusted-models for more details). In a future release, the default value for `weights_only` will be flipped to `True`. This limits the functions that could be executed during unpickling. Arbitrary objects will no longer be allowed to be loaded via this mode unless they are explicitly allowlisted by the user via `torch.serialization.add_safe_globals`. We recommend you start setting `weights_only=True` for any use case where you don't have full control of the loaded file. Please open an issue on GitHub for any issues related to this experimental feature.\n",
            "  self.data, self.slices = torch.load(self.processed_paths[0])\n"
          ]
        }
      ],
      "source": [
        "# Load dataset\n",
        "dataset = PygGraphPropPredDataset(name=\"ogbg-molhiv\")"
      ]
    },
    {
      "cell_type": "code",
      "source": [
        "small_dataset = dataset[:2000]  # Use first 2000 graphs only\n",
        "rint(f\"Using Small Dataset with {len(small_dataset)} graphs\")"
      ],
      "metadata": {
        "colab": {
          "base_uri": "https://localhost:8080/"
        },
        "id": "JQXgoRrNDEor",
        "outputId": "71a394a6-60bf-46dc-9b22-4f231fe93a5a"
      },
      "execution_count": 445,
      "outputs": [
        {
          "output_type": "stream",
          "name": "stdout",
          "text": [
            "Using Small Dataset with 2000 graphs\n"
          ]
        }
      ]
    },
    {
      "cell_type": "code",
      "source": [
        "# Generates anonymous walks for a molecular graph.\n",
        "# Converts a PyG graph to NetworkX, performs random walks,\n",
        "# and encodes them as anonymous walk sequences.\n",
        "\n",
        "def generate_anonymous_walks(graph, walk_length=5, num_walks=10):\n",
        "    \"\"\"Generates anonymous walks for a given molecular graph.\"\"\"\n",
        "\n",
        "    G = to_networkx(graph, to_undirected=True)  # Convert PyG to NetworkX\n",
        "    walks = []\n",
        "\n",
        "    for node in G.nodes():\n",
        "        for _ in range(num_walks):\n",
        "            walk = [node]\n",
        "            while len(walk) < walk_length:\n",
        "                neighbors = list(G.neighbors(walk[-1]))\n",
        "                if not neighbors:\n",
        "                    break\n",
        "                next_node = np.random.choice(neighbors)\n",
        "                walk.append(next_node)\n",
        "\n",
        "            # Convert to anonymous walk\n",
        "            anon_walk = []\n",
        "            node_to_index = {}\n",
        "            for step in walk:\n",
        "                if step not in node_to_index:\n",
        "                    node_to_index[step] = len(node_to_index)\n",
        "                anon_walk.append(node_to_index[step])\n",
        "\n",
        "            walks.append(tuple(anon_walk))\n",
        "\n",
        "    return walks"
      ],
      "metadata": {
        "id": "3yvU-XRGbSvP"
      },
      "execution_count": 446,
      "outputs": []
    },
    {
      "cell_type": "code",
      "source": [
        "#Extracts AWE features using anonymous walk frequencies.\n",
        "#   Applies TF-IDF style normalization to improve representation.\n",
        "\n",
        "def extract_AWE_features(graph, walk_length=10, num_walks=20):\n",
        "    \"\"\"Generates richer AWE features with increased walk coverage.\"\"\"\n",
        "\n",
        "    anon_walks = generate_anonymous_walks(graph, walk_length, num_walks)\n",
        "    walk_counts = Counter(anon_walks)  # Count occurrences of each walk\n",
        "\n",
        "    # Use TF-IDF Encoding instead of simple frequency\n",
        "    awe_embedding = np.zeros(len(walk_counts))\n",
        "    total_walks = sum(walk_counts.values())\n",
        "\n",
        "    for i, walk in enumerate(walk_counts.keys()):\n",
        "        awe_embedding[i] = walk_counts[walk] / total_walks  # Normalize\n",
        "\n",
        "    return awe_embedding"
      ],
      "metadata": {
        "id": "wZt4A0kFbZN2"
      },
      "execution_count": 447,
      "outputs": []
    },
    {
      "cell_type": "code",
      "source": [
        "# Define fixed embedding length\n",
        "MAX_AWE_LENGTH = 10  # Adjust based on dataset statistics\n",
        "\n",
        "def pad_or_truncate(vector, max_length=MAX_AWE_LENGTH):\n",
        "    \"\"\"Ensures all AWE feature vectors have the same length.\"\"\"\n",
        "    if len(vector) > max_length:\n",
        "        return vector[:max_length]  # Truncate\n",
        "    elif len(vector) < max_length:\n",
        "        return np.pad(vector, (0, max_length - len(vector)))  # Pad with zeros\n",
        "    return vector"
      ],
      "metadata": {
        "id": "c2ziolCSbhKB"
      },
      "execution_count": 448,
      "outputs": []
    },
    {
      "cell_type": "code",
      "source": [
        "# Efficiently extracts AWE features in batches.\n",
        "# Also collects per-graph edge indices for later processing.\n",
        "\n",
        "def extract_AWE_features_batch(dataset, batch_size=512):\n",
        "    \"\"\"Extract AWE features and per-graph edge indices efficiently.\"\"\"\n",
        "    awe_features_list = []\n",
        "    labels_list = []\n",
        "    edge_index_list = []  # Store list of edge_index per graph\n",
        "\n",
        "    for i in range(0, len(dataset), batch_size):\n",
        "        batch_data = dataset[i : i + batch_size]\n",
        "\n",
        "        batch_awe_features = []\n",
        "        batch_labels = []\n",
        "        batch_edge_indices = []  # Temporary list for this batch\n",
        "\n",
        "        for data in batch_data:\n",
        "            awe_features = extract_AWE_features(data)\n",
        "            awe_features = pad_or_truncate(awe_features)\n",
        "\n",
        "            batch_awe_features.append(awe_features)\n",
        "            batch_labels.append(data.y.item())\n",
        "            batch_edge_indices.append(data.edge_index)  # Store edge_index per graph\n",
        "\n",
        "        # Convert batch to PyTorch tensors\n",
        "        batch_awe_features = torch.tensor(np.array(batch_awe_features), dtype=torch.float32).to(device)\n",
        "        batch_labels = torch.tensor(batch_labels, dtype=torch.long).to(device)\n",
        "\n",
        "        # Append batch results\n",
        "        awe_features_list.append(batch_awe_features)\n",
        "        labels_list.append(batch_labels)\n",
        "        edge_index_list.extend(batch_edge_indices)  # Extend list instead of concatenation\n",
        "\n",
        "    # Concatenate AWE features and labels\n",
        "    X = torch.cat(awe_features_list, dim=0)\n",
        "    y = torch.cat(labels_list, dim=0)\n",
        "\n",
        "    return X, y, edge_index_list  # Keep edge_index as a **list of tensors**"
      ],
      "metadata": {
        "id": "MqDl66LNbnnE"
      },
      "execution_count": 449,
      "outputs": []
    },
    {
      "cell_type": "code",
      "source": [
        "# Extract AWE features (now includes per-graph edge_index)\n",
        "X, y, edge_index_list = extract_AWE_features_batch(small_dataset)\n",
        "print(f\"Dataset Choosen from the Master GraphSet: {X.shape}, y: {y.shape}, edge_index_list: {len(edge_index_list)}\")"
      ],
      "metadata": {
        "colab": {
          "base_uri": "https://localhost:8080/"
        },
        "id": "3kcxqcMV_OVD",
        "outputId": "96389feb-08e2-4c2a-e018-885f3d85ce71"
      },
      "execution_count": 450,
      "outputs": [
        {
          "output_type": "stream",
          "name": "stdout",
          "text": [
            "Dataset Choosen from the Master GraphSet: torch.Size([2000, 10]), y: torch.Size([2000]), edge_index_list: 2000\n"
          ]
        }
      ]
    },
    {
      "cell_type": "code",
      "source": [
        "#Custom collate function for batching molecular graphs.\n",
        "#Ensures node features exist and applies proper batch handling.\n",
        "\n",
        "from torch_geometric.data import Batch\n",
        "\n",
        "def collate_fn(batch):\n",
        "    awe_feats, graphs, labels = zip(*batch)  # Unpack batch\n",
        "\n",
        "    #for i, graph in enumerate(graphs):\n",
        "        #print(f\"🔍 Graph {i} - x Shape: {graph.x.shape if graph.x is not None else 'None'}\")\n",
        "\n",
        "    for i, graph in enumerate(graphs):\n",
        "        if graph.x is None:  # Ensure node features exist\n",
        "            num_nodes = graph.num_nodes\n",
        "            graph.x = awe_feats[i].repeat(num_nodes, 1)  # Copy AWE features per node\n",
        "\n",
        "    batch_graph = Batch.from_data_list(graphs)  # Correct batching\n",
        "    return torch.stack(awe_feats), batch_graph, torch.tensor(labels)"
      ],
      "metadata": {
        "id": "aaNIliVFbUO3"
      },
      "execution_count": 451,
      "outputs": []
    },
    {
      "cell_type": "code",
      "source": [
        "# Pass correct edge_index list to GraphDataset\n",
        "graph_dataset = GraphDataset(small_dataset, X)\n",
        "\n",
        "# Convert to DataLoader for batch processing\n",
        "batch_size = 8\n",
        "train_loader = DataLoader(graph_dataset, batch_size=batch_size, shuffle=True, collate_fn=collate_fn)\n",
        "test_loader = DataLoader(graph_dataset, batch_size=batch_size, shuffle=False, collate_fn=collate_fn)"
      ],
      "metadata": {
        "id": "dMsvgMwJ_QqO"
      },
      "execution_count": 452,
      "outputs": []
    },
    {
      "cell_type": "code",
      "source": [
        "print(f\"Dataset Shape X: {X.shape}, y: {y.shape}, Edge Index Samples: {len(edge_index_list)}\")"
      ],
      "metadata": {
        "colab": {
          "base_uri": "https://localhost:8080/"
        },
        "id": "f8rsBiWDQEIb",
        "outputId": "81b458fc-0f0a-4a0f-b50a-67815ed848c7"
      },
      "execution_count": 453,
      "outputs": [
        {
          "output_type": "stream",
          "name": "stdout",
          "text": [
            "Dataset Shape X: torch.Size([2000, 10]), y: torch.Size([2000]), Edge Index Samples: 2000\n"
          ]
        }
      ]
    },
    {
      "cell_type": "code",
      "source": [
        "print(dataset.meta_info)"
      ],
      "metadata": {
        "colab": {
          "base_uri": "https://localhost:8080/"
        },
        "id": "L_DcBbj_IeAM",
        "outputId": "5ce6b582-9a97-40bb-b651-0aa22bd561ec"
      },
      "execution_count": 454,
      "outputs": [
        {
          "output_type": "stream",
          "name": "stdout",
          "text": [
            "num tasks                                                                1\n",
            "eval metric                                                         rocauc\n",
            "download_name                                                          hiv\n",
            "version                                                                  1\n",
            "url                      http://snap.stanford.edu/ogb/data/graphproppre...\n",
            "add_inverse_edge                                                      True\n",
            "data type                                                              mol\n",
            "has_node_attr                                                         True\n",
            "has_edge_attr                                                         True\n",
            "task type                                            binary classification\n",
            "num classes                                                              2\n",
            "split                                                             scaffold\n",
            "additional node files                                                 None\n",
            "additional edge files                                                 None\n",
            "binary                                                               False\n",
            "Name: ogbg-molhiv, dtype: object\n"
          ]
        }
      ]
    },
    {
      "cell_type": "markdown",
      "source": [
        "## Sub Task 2: Graph Construction & Representation\n",
        "\n",
        "- Molecular graphs into PyG Data objects have been converted.\n",
        "- The node/edge features and AWE embeddings have been stored in a structured format.\n",
        "- A custom dataset class & data loader for efficient batching has been implemented"
      ],
      "metadata": {
        "id": "SOTS5wDpKDp-"
      }
    },
    {
      "cell_type": "code",
      "source": [
        "# Function to extract features from SMILES\n",
        "def extract_features(data_index, smiles_dict):\n",
        "    \"\"\"Extracts node (atom) and edge (bond) features from a molecule graph.\"\"\"\n",
        "\n",
        "    # Retrieve SMILES using the dataset index\n",
        "    smiles_string = smiles_dict.get(data_index, None)\n",
        "\n",
        "    if smiles_string is None:\n",
        "        raise ValueError(f\"SMILES not found for molecule index: {data_index}\")\n",
        "\n",
        "    mol = Chem.MolFromSmiles(smiles_string)\n",
        "\n",
        "    if mol is None:\n",
        "        raise ValueError(f\"Invalid SMILES string: {smiles_string}\")\n",
        "\n",
        "    # Extract atom features\n",
        "    atom_features = np.array([atom_to_feature_vector(atom) for atom in mol.GetAtoms()])\n",
        "\n",
        "    # Extract bond features\n",
        "    bond_features = []\n",
        "    if len(mol.GetBonds()) > 0:\n",
        "        for bond in mol.GetBonds():\n",
        "            bond_features.append(bond_to_feature_vector(bond))\n",
        "\n",
        "    return atom_features, np.array(bond_features)"
      ],
      "metadata": {
        "id": "UhDACSngGWum"
      },
      "execution_count": 455,
      "outputs": []
    },
    {
      "cell_type": "code",
      "source": [
        "# Visualizes a molecular graph from the dataset.\n",
        "# Converts PyG graph to NetworkX and plots the structure.\n",
        "\n",
        "def visualize_molecule_graph(data_sample, title=\"Molecule Graph\"):\n",
        "    \"\"\"Visualizes a molecule graph using NetworkX.\"\"\"\n",
        "\n",
        "    # Convert PyG Data object to NetworkX graph\n",
        "    G = to_networkx(data_sample, to_undirected=True)\n",
        "\n",
        "    # Draw the graph\n",
        "    plt.figure(figsize=(5, 5))\n",
        "    nx.draw(G, with_labels=True, node_color=\"lightblue\", edge_color=\"gray\", node_size=500)\n",
        "    plt.title(title)\n",
        "    plt.show()"
      ],
      "metadata": {
        "id": "gKfZNymyaA4_"
      },
      "execution_count": 456,
      "outputs": []
    },
    {
      "cell_type": "code",
      "source": [
        "# Load the CSV file\n",
        "csv_path = \"./dataset/ogbg_molhiv/mapping/mol.csv.gz\"\n",
        "df = pd.read_csv(csv_path)\n",
        "\n",
        "# Create a mapping from dataset index → SMILES\n",
        "smiles_dict = dict(zip(df.index, df[\"smiles\"]))"
      ],
      "metadata": {
        "id": "_nbaS87WXCwf"
      },
      "execution_count": 457,
      "outputs": []
    },
    {
      "cell_type": "code",
      "source": [
        "# Extract and visualize one sample\n",
        "data_index = 0  # First molecule graph\n",
        "atom_feat, bond_feat = extract_features(data_index, smiles_dict)\n",
        "print(\"Atom Features Shape:\", atom_feat.shape)\n",
        "print(\"Bond Features Shape:\", bond_feat.shape)\n",
        "#visualize_molecule(data_sample)\n",
        "\n",
        "# Example: Visualize first molecule as a graph\n",
        "data_sample = dataset[0]  # First molecule graph\n",
        "visualize_molecule_graph(data_sample)"
      ],
      "metadata": {
        "colab": {
          "base_uri": "https://localhost:8080/",
          "height": 594
        },
        "id": "d4Twu5BqmjSa",
        "outputId": "8eec8aae-afce-4014-b256-56f3bcb82997"
      },
      "execution_count": 458,
      "outputs": [
        {
          "output_type": "stream",
          "name": "stdout",
          "text": [
            "Atom Features Shape: (19, 9)\n",
            "Bond Features Shape: (20, 3)\n"
          ]
        },
        {
          "output_type": "display_data",
          "data": {
            "text/plain": [
              "<Figure size 500x500 with 1 Axes>"
            ],
            "image/png": "[encoded data removed]"
          },
          "metadata": {}
        }
      ]
    },
    {
      "cell_type": "code",
      "source": [
        "# Plots the distribution of a selected atomic feature.\n",
        "# Extracts feature values from dataset and visualizes using a histogram.\n",
        "\n",
        "def plot_atomic_feature_distribution(dataset, feature_index=0, feature_name=\"Atomic Number\"):\n",
        "    feature_values = []\n",
        "\n",
        "    for data in dataset:\n",
        "        atom_features = data.x[:, feature_index].cpu().numpy()  # Extract the selected feature\n",
        "        feature_values.extend(atom_features)\n",
        "\n",
        "    # Plot the histogram\n",
        "    plt.figure(figsize=(8, 5))\n",
        "    sns.histplot(feature_values, bins=20, kde=True, color=\"skyblue\")\n",
        "    plt.xlabel(feature_name)\n",
        "    plt.ylabel(\"Frequency\")\n",
        "    plt.title(f\"Distribution of {feature_name}\")\n",
        "    plt.grid(True)\n",
        "    plt.show()\n",
        "\n",
        "# Example: Plot histogram for atomic number (feature index 0)\n",
        "plot_atomic_feature_distribution(dataset, feature_index=0, feature_name=\"Atomic Number\")"
      ],
      "metadata": {
        "colab": {
          "base_uri": "https://localhost:8080/",
          "height": 487
        },
        "id": "6Tyvf3bsoRKn",
        "outputId": "9620d104-9d72-4dc8-f23a-43dcf945f87d"
      },
      "execution_count": 459,
      "outputs": [
        {
          "output_type": "display_data",
          "data": {
            "text/plain": [
              "<Figure size 800x500 with 1 Axes>"
            ],
            "image/png": "[encoded data removed]"
          },
          "metadata": {}
        }
      ]
    },
    {
      "cell_type": "markdown",
      "source": [
        "# Providing some of the statistic we used during our Graph Analysis"
      ],
      "metadata": {
        "id": "wbS45FWscPEL"
      }
    },
    {
      "cell_type": "code",
      "source": [
        "print(\"AWE Feature Tensor Stats:\")\n",
        "print(\"Min:\", X.min().item(), \"Max:\", X.max().item(), \"Mean:\", X.mean().item())\n",
        "print(\"Labels Distribution:\", torch.bincount(y))"
      ],
      "metadata": {
        "colab": {
          "base_uri": "https://localhost:8080/"
        },
        "id": "pcnz8UxAbJ9Q",
        "outputId": "83952173-5906-4ed5-c178-f1bd2068394b"
      },
      "execution_count": 460,
      "outputs": [
        {
          "output_type": "stream",
          "name": "stdout",
          "text": [
            "AWE Feature Tensor Stats:\n",
            "Min: 0.0 Max: 1.0 Mean: 0.005653634667396545\n",
            "Labels Distribution: tensor([1918,   82])\n"
          ]
        }
      ]
    },
    {
      "cell_type": "code",
      "source": [
        "print(\"Unique Labels in Dataset:\", torch.unique(y))\n",
        "print(\"Min Label:\", y.min().item(), \"Max Label:\", y.max().item())\n",
        "print(\"Label Shape:\", y.shape)\n",
        "print(\"First 10 Labels:\", y[:10])"
      ],
      "metadata": {
        "colab": {
          "base_uri": "https://localhost:8080/"
        },
        "id": "HvJjWtEauO1-",
        "outputId": "5fc89ff5-0b8a-4891-94f8-e3bdbf4650e9"
      },
      "execution_count": 461,
      "outputs": [
        {
          "output_type": "stream",
          "name": "stdout",
          "text": [
            "Unique Labels in Dataset: tensor([0, 1])\n",
            "Min Label: 0 Max Label: 1\n",
            "Label Shape: torch.Size([2000])\n",
            "First 10 Labels: tensor([0, 0, 0, 0, 0, 0, 0, 0, 0, 0])\n"
          ]
        }
      ]
    },
    {
      "cell_type": "code",
      "source": [
        "print(\"Dataset X Shape:\", X.shape)\n",
        "print(\"Min Feature Value:\", X.min().item(), \"Max Feature Value:\", X.max().item())\n",
        "print(\"First AWE Feature Vector:\", X[0])"
      ],
      "metadata": {
        "colab": {
          "base_uri": "https://localhost:8080/"
        },
        "id": "mJYMP6opuhV1",
        "outputId": "33d90c56-1108-4dba-9990-ef293acb235c"
      },
      "execution_count": 462,
      "outputs": [
        {
          "output_type": "stream",
          "name": "stdout",
          "text": [
            "Dataset X Shape: torch.Size([2000, 10])\n",
            "Min Feature Value: 0.0 Max Feature Value: 1.0\n",
            "First AWE Feature Vector: tensor([0.0026, 0.0053, 0.0079, 0.0053, 0.0079, 0.0079, 0.0079, 0.0026, 0.0026,\n",
            "        0.0342])\n"
          ]
        }
      ]
    },
    {
      "cell_type": "code",
      "source": [
        "print(\"Total Graphs:\", len(edge_index_list))\n",
        "print(\"Graph 0 → Edge Index Shape:\", edge_index_list[0].shape)\n",
        "print(\"Graph 1 → Edge Index Shape:\", edge_index_list[1].shape)\n",
        "print(\"Graph 2 → Edge Index Shape:\", edge_index_list[2].shape)"
      ],
      "metadata": {
        "colab": {
          "base_uri": "https://localhost:8080/"
        },
        "id": "KBJrW0ntu0PV",
        "outputId": "43280735-586d-4712-b4c2-7082276ae58b"
      },
      "execution_count": 463,
      "outputs": [
        {
          "output_type": "stream",
          "name": "stdout",
          "text": [
            "Total Graphs: 2000\n",
            "Graph 0 → Edge Index Shape: torch.Size([2, 40])\n",
            "Graph 1 → Edge Index Shape: torch.Size([2, 88])\n",
            "Graph 2 → Edge Index Shape: torch.Size([2, 48])\n"
          ]
        }
      ]
    },
    {
      "cell_type": "code",
      "source": [
        "# Check DataLoader\n",
        "batch = next(iter(train_loader))\n",
        "\n",
        "print(\"Batch AWE Feature Type:\", type(batch[0]))  # Should be a tensor\n",
        "print(\"Batch Edge Index Type:\", type(batch[1]))  # Check if it's a list\n",
        "print(\"Batch Labels Type:\", type(batch[2]))  # Should be a tensor\n",
        "\n",
        "# Print shapes if they are tensors\n",
        "if isinstance(batch[0], torch.Tensor):\n",
        "    print(\"Batch AWE Feature Shape:\", batch[0].shape)\n",
        "\n",
        "if isinstance(batch[1], torch.Tensor):\n",
        "    print(\"Batch Edge Index Shape:\", batch[1].shape)\n",
        "elif isinstance(batch[1], list):\n",
        "    print(\"Batch Edge Index is a list with\", len(batch[1]), \"graphs.\")\n",
        "\n",
        "if isinstance(batch[2], torch.Tensor):\n",
        "    print(\"Batch Labels Shape:\", batch[2].shape)"
      ],
      "metadata": {
        "colab": {
          "base_uri": "https://localhost:8080/"
        },
        "id": "Pf6YjDLiw25d",
        "outputId": "375dab1b-1c56-4109-dac1-8daf95a6d7f8"
      },
      "execution_count": 464,
      "outputs": [
        {
          "output_type": "stream",
          "name": "stdout",
          "text": [
            "Batch AWE Feature Type: <class 'torch.Tensor'>\n",
            "Batch Edge Index Type: <class 'abc.DataBatch'>\n",
            "Batch Labels Type: <class 'torch.Tensor'>\n",
            "Batch AWE Feature Shape: torch.Size([8, 10])\n",
            "Batch Labels Shape: torch.Size([8])\n"
          ]
        }
      ]
    },
    {
      "cell_type": "code",
      "source": [
        "print(\"Checking CUDA Memory Usage...\")\n",
        "print(f\"Allocated Memory: {torch.cuda.memory_allocated() / 1e9:.2f} GB\")\n",
        "print(f\"Reserved Memory: {torch.cuda.memory_reserved() / 1e9:.2f} GB\")\n",
        "print(f\"Max Memory Allocated: {torch.cuda.max_memory_allocated() / 1e9:.2f} GB\")"
      ],
      "metadata": {
        "colab": {
          "base_uri": "https://localhost:8080/"
        },
        "id": "dJ1qRMQpbQSW",
        "outputId": "b9adcd7e-97e9-47d0-ff06-6d0eef103b96"
      },
      "execution_count": 465,
      "outputs": [
        {
          "output_type": "stream",
          "name": "stdout",
          "text": [
            "Checking CUDA Memory Usage...\n",
            "Allocated Memory: 0.00 GB\n",
            "Reserved Memory: 0.00 GB\n",
            "Max Memory Allocated: 0.00 GB\n"
          ]
        }
      ]
    },
    {
      "cell_type": "code",
      "source": [
        "y_cpu = y.cpu().numpy()\n",
        "print(\"Unique Labels in Dataset:\", np.unique(y_cpu))\n",
        "print(\"Min Label:\", y_cpu.min(), \"| Max Label:\", y_cpu.max())\n",
        "print(\"Label Distribution:\", Counter(y_cpu))"
      ],
      "metadata": {
        "colab": {
          "base_uri": "https://localhost:8080/"
        },
        "id": "u65SE2VAbjlF",
        "outputId": "fdbe0e63-fff4-49ca-8f31-dcf43c73b132"
      },
      "execution_count": 466,
      "outputs": [
        {
          "output_type": "stream",
          "name": "stdout",
          "text": [
            "Unique Labels in Dataset: [0 1]\n",
            "Min Label: 0 | Max Label: 1\n",
            "Label Distribution: Counter({0: 1918, 1: 82})\n"
          ]
        }
      ]
    },
    {
      "cell_type": "code",
      "source": [
        "print(\"Dataset X Shape:\", X.shape)\n",
        "print(\"Min Feature Value:\", X.min().item(), \"| Max Feature Value:\", X.max().item())\n",
        "print(\"First AWE Feature Vector:\", X[0])"
      ],
      "metadata": {
        "colab": {
          "base_uri": "https://localhost:8080/"
        },
        "id": "Jt_PBNUEbvDx",
        "outputId": "d1744210-7309-4071-a903-39d121a7c551"
      },
      "execution_count": 467,
      "outputs": [
        {
          "output_type": "stream",
          "name": "stdout",
          "text": [
            "Dataset X Shape: torch.Size([2000, 10])\n",
            "Min Feature Value: 0.0 | Max Feature Value: 1.0\n",
            "First AWE Feature Vector: tensor([0.0026, 0.0053, 0.0079, 0.0053, 0.0079, 0.0079, 0.0079, 0.0026, 0.0026,\n",
            "        0.0342])\n"
          ]
        }
      ]
    },
    {
      "cell_type": "code",
      "source": [
        "print(f\"Total Graphs: {len(edge_index_list)}\")\n",
        "for i in range(3):  # Print first 3 graphs\n",
        "    print(f\"Graph {i} → Edge Index Shape: {edge_index_list[i].shape}\")"
      ],
      "metadata": {
        "colab": {
          "base_uri": "https://localhost:8080/"
        },
        "id": "8K99Z21Tb6jW",
        "outputId": "6ce26736-b6e9-4f20-8bea-6a479b268fbc"
      },
      "execution_count": 468,
      "outputs": [
        {
          "output_type": "stream",
          "name": "stdout",
          "text": [
            "Total Graphs: 2000\n",
            "Graph 0 → Edge Index Shape: torch.Size([2, 40])\n",
            "Graph 1 → Edge Index Shape: torch.Size([2, 88])\n",
            "Graph 2 → Edge Index Shape: torch.Size([2, 48])\n"
          ]
        }
      ]
    },
    {
      "cell_type": "code",
      "source": [
        "batch = next(iter(train_loader))\n",
        "\n",
        "print(f\"Batch AWE Feature Type: {type(batch[0])}\")\n",
        "print(f\"Batch Edge Index Type: {type(batch[1])}\")\n",
        "print(f\"Batch Labels Type: {type(batch[2])}\")\n",
        "\n",
        "print(f\"Batch AWE Feature Shape: {batch[0].shape}\")  # Expect [batch_size, 10]\n",
        "print(f\"Batch Edge Index is a list with {len(batch[1])} graphs.\")  # Expect batch_size\n",
        "print(f\"Batch Labels Shape: {batch[2].shape}\")  # Expect [batch_size]"
      ],
      "metadata": {
        "colab": {
          "base_uri": "https://localhost:8080/"
        },
        "id": "DTSOVhBjcWZn",
        "outputId": "8ac3c0b6-48f8-4d73-c4fa-ff2944914a21"
      },
      "execution_count": 469,
      "outputs": [
        {
          "output_type": "stream",
          "name": "stdout",
          "text": [
            "Batch AWE Feature Type: <class 'torch.Tensor'>\n",
            "Batch Edge Index Type: <class 'abc.DataBatch'>\n",
            "Batch Labels Type: <class 'torch.Tensor'>\n",
            "Batch AWE Feature Shape: torch.Size([8, 10])\n",
            "Batch Edge Index is a list with 8 graphs.\n",
            "Batch Labels Shape: torch.Size([8])\n"
          ]
        }
      ]
    },
    {
      "cell_type": "code",
      "source": [
        "print(\"Checking CUDA Memory Usage Before Training...\")\n",
        "print(f\"Allocated Memory: {torch.cuda.memory_allocated() / 1e9:.2f} GB\")\n",
        "print(f\"Reserved Memory: {torch.cuda.memory_reserved() / 1e9:.2f} GB\")\n",
        "print(f\"Max Memory Allocated: {torch.cuda.max_memory_allocated() / 1e9:.2f} GB\")"
      ],
      "metadata": {
        "colab": {
          "base_uri": "https://localhost:8080/"
        },
        "id": "67ZzVlKCdFdh",
        "outputId": "4d28cfa8-d0ba-4540-b6c6-cc56b6c66aef"
      },
      "execution_count": 470,
      "outputs": [
        {
          "output_type": "stream",
          "name": "stdout",
          "text": [
            "Checking CUDA Memory Usage Before Training...\n",
            "Allocated Memory: 0.00 GB\n",
            "Reserved Memory: 0.00 GB\n",
            "Max Memory Allocated: 0.00 GB\n"
          ]
        }
      ]
    },
    {
      "cell_type": "code",
      "source": [
        "torch.cuda.empty_cache()  # Free up any unused GPU memory\n",
        "\n",
        "print(\"Checking CUDA Memory Usage Before Training...\")\n",
        "print(f\"Allocated Memory: {torch.cuda.memory_allocated() / 1e9:.2f} GB\")\n",
        "print(f\"Reserved Memory: {torch.cuda.memory_reserved() / 1e9:.2f} GB\")\n",
        "print(f\"Max Memory Allocated: {torch.cuda.max_memory_allocated() / 1e9:.2f} GB\")"
      ],
      "metadata": {
        "colab": {
          "base_uri": "https://localhost:8080/"
        },
        "id": "kchBsHw6HPns",
        "outputId": "03d386d4-d37f-42a0-d42e-4035cef14f9f"
      },
      "execution_count": 471,
      "outputs": [
        {
          "output_type": "stream",
          "name": "stdout",
          "text": [
            "Checking CUDA Memory Usage Before Training...\n",
            "Allocated Memory: 0.00 GB\n",
            "Reserved Memory: 0.00 GB\n",
            "Max Memory Allocated: 0.00 GB\n"
          ]
        }
      ]
    },
    {
      "cell_type": "code",
      "source": [
        "print(f\"Dataset Size: {len(dataset)}\")\n",
        "print(f\"X Shape: {X.shape}\")\n",
        "print(f\"y Shape: {y.shape}\")\n",
        "print(f\"Sample Edge Index Shape: {edge_index_list[0].shape}\")"
      ],
      "metadata": {
        "colab": {
          "base_uri": "https://localhost:8080/"
        },
        "id": "rDAwaFuYHbGd",
        "outputId": "f326bdd7-eefb-42f6-de5a-eebe92961cbe"
      },
      "execution_count": 472,
      "outputs": [
        {
          "output_type": "stream",
          "name": "stdout",
          "text": [
            "Dataset Size: 41127\n",
            "X Shape: torch.Size([2000, 10])\n",
            "y Shape: torch.Size([2000])\n",
            "Sample Edge Index Shape: torch.Size([2, 40])\n"
          ]
        }
      ]
    },
    {
      "cell_type": "code",
      "source": [
        "batch = next(iter(train_loader))\n",
        "\n",
        "print(f\"Batch AWE Feature Shape: {batch[0].shape}\")  # Expect [batch_size, 10]\n",
        "print(f\"Batch Edge Index Type: {type(batch[1])}\")  # Expect list of tensors\n",
        "print(f\"Batch Labels Shape: {batch[2].shape}\")  # Expect [batch_size]"
      ],
      "metadata": {
        "colab": {
          "base_uri": "https://localhost:8080/"
        },
        "id": "oZl9JHoYHonS",
        "outputId": "40a1f29b-4a9e-452f-daf7-7caaab9a0411"
      },
      "execution_count": 473,
      "outputs": [
        {
          "output_type": "stream",
          "name": "stdout",
          "text": [
            "Batch AWE Feature Shape: torch.Size([8, 10])\n",
            "Batch Edge Index Type: <class 'abc.DataBatch'>\n",
            "Batch Labels Shape: torch.Size([8])\n"
          ]
        }
      ]
    },
    {
      "cell_type": "code",
      "source": [
        "print(\"Unique Labels:\", torch.unique(y))\n",
        "print(\"Min Label:\", y.min().item(), \"| Max Label:\", y.max().item())"
      ],
      "metadata": {
        "colab": {
          "base_uri": "https://localhost:8080/"
        },
        "id": "d2QP7jd8wBDN",
        "outputId": "93ce06bd-2de2-4a75-9e44-336e85c7adfd"
      },
      "execution_count": 474,
      "outputs": [
        {
          "output_type": "stream",
          "name": "stdout",
          "text": [
            "Unique Labels: tensor([0, 1])\n",
            "Min Label: 0 | Max Label: 1\n"
          ]
        }
      ]
    },
    {
      "cell_type": "code",
      "source": [
        "first_item = train_loader.dataset[0]  # Get first item\n",
        "print(\"Type of First Item:\", type(first_item))\n",
        "print(\"Contents of First Item:\", first_item)"
      ],
      "metadata": {
        "colab": {
          "base_uri": "https://localhost:8080/"
        },
        "id": "EPNfkgggykkI",
        "outputId": "62676999-132a-477f-fcb4-dbdb91a5e2df"
      },
      "execution_count": 475,
      "outputs": [
        {
          "output_type": "stream",
          "name": "stdout",
          "text": [
            "Type of First Item: <class 'tuple'>\n",
            "Contents of First Item: (tensor([0.0026, 0.0053, 0.0079, 0.0053, 0.0079, 0.0079, 0.0079, 0.0026, 0.0026,\n",
            "        0.0342]), Data(edge_index=[2, 40], edge_attr=[40, 3], x=[19, 10], y=[1, 1], num_nodes=19), tensor([[0]]))\n"
          ]
        }
      ]
    },
    {
      "cell_type": "code",
      "source": [
        "batch = next(iter(train_loader))\n",
        "\n",
        "X_batch, batch_graph, y_batch = batch  # Unpack batch\n",
        "\n",
        "print(f\"Batch AWE Feature Shape: {X_batch.shape}\")  # Expected: [batch_size, 10]\n",
        "print(f\"Batch Graph Type: {type(batch_graph)}\")  # Expected: PyG Batch\n",
        "print(f\"Batch Graph Edge Index Shape: {batch_graph.edge_index.shape}\")\n",
        "print(f\"Batch Labels Shape: {y_batch.shape}\")  # Expected: [batch_size, 1]"
      ],
      "metadata": {
        "colab": {
          "base_uri": "https://localhost:8080/"
        },
        "id": "936UeLiCyCrB",
        "outputId": "9ae3e877-7715-47c1-b8e9-cac0110e9674"
      },
      "execution_count": 476,
      "outputs": [
        {
          "output_type": "stream",
          "name": "stdout",
          "text": [
            "Batch AWE Feature Shape: torch.Size([8, 10])\n",
            "Batch Graph Type: <class 'abc.DataBatch'>\n",
            "Batch Graph Edge Index Shape: torch.Size([2, 414])\n",
            "Batch Labels Shape: torch.Size([8])\n"
          ]
        }
      ]
    },
    {
      "cell_type": "code",
      "source": [
        "for i, graph in enumerate(dataset[:10]):  # Print first 10 graphs\n",
        "    print(f\"Graph {i}: num_nodes = {graph.num_nodes}, edges = {graph.edge_index.shape[1]}\")"
      ],
      "metadata": {
        "colab": {
          "base_uri": "https://localhost:8080/"
        },
        "id": "27mOAPmaMg8r",
        "outputId": "ec0b4dad-453c-4953-86d3-dc4a8a79fee0"
      },
      "execution_count": 477,
      "outputs": [
        {
          "output_type": "stream",
          "name": "stdout",
          "text": [
            "Graph 0: num_nodes = 19, edges = 40\n",
            "Graph 1: num_nodes = 39, edges = 88\n",
            "Graph 2: num_nodes = 21, edges = 48\n",
            "Graph 3: num_nodes = 24, edges = 50\n",
            "Graph 4: num_nodes = 10, edges = 18\n",
            "Graph 5: num_nodes = 16, edges = 32\n",
            "Graph 6: num_nodes = 10, edges = 20\n",
            "Graph 7: num_nodes = 18, edges = 38\n",
            "Graph 8: num_nodes = 26, edges = 54\n",
            "Graph 9: num_nodes = 20, edges = 42\n"
          ]
        }
      ]
    },
    {
      "cell_type": "markdown",
      "source": [
        "## Sub Task 3: Model Design & Implementation\n",
        "\n",
        "- Both MLP-based classifier and AWE+GNN model class have been implemented.\n"
      ],
      "metadata": {
        "id": "59__zjRfKL73"
      }
    },
    {
      "cell_type": "markdown",
      "source": [
        "# MLP Model Creation and Evaluation"
      ],
      "metadata": {
        "id": "fVNDhJiTvzTT"
      }
    },
    {
      "cell_type": "code",
      "source": [
        "# Evaluate Function\n",
        "def evaluate_MLP(model, test_loader):\n",
        "    \"\"\"Evaluate the model and compute ROC-AUC.\"\"\"\n",
        "    model.eval()\n",
        "    all_preds = []\n",
        "    all_labels = []\n",
        "\n",
        "    with torch.no_grad():\n",
        "        for awe_feats, _, y_batch in test_loader:  # Only awe_feats are passed\n",
        "            awe_feats, y_batch = awe_feats.to(device), y_batch.to(device)\n",
        "            outputs = model(awe_feats)  # Forward pass with AWE features only\n",
        "            all_preds.extend(outputs.cpu().numpy())  # Store predictions\n",
        "            all_labels.extend(y_batch.cpu().numpy())  # Store true labels\n",
        "\n",
        "    roc_auc = roc_auc_score(all_labels, all_preds)  # Compute ROC-AUC\n",
        "    fpr, tpr, _ = roc_curve(all_labels, all_preds)\n",
        "\n",
        "    plt.figure(figsize=(6, 6))\n",
        "    plt.plot(fpr, tpr, color='blue', label=f'ROC Curve (AUC = {roc_auc:.4f})')\n",
        "    plt.plot([0, 1], [0, 1], linestyle='--', color='gray')\n",
        "    plt.xlabel('False Positive Rate')\n",
        "    plt.ylabel('True Positive Rate')\n",
        "    plt.title('ROC Curve')\n",
        "    plt.legend()\n",
        "    plt.grid()\n",
        "    plt.show()\n",
        "    return roc_auc"
      ],
      "metadata": {
        "id": "VIJuXpobV_c0"
      },
      "execution_count": 478,
      "outputs": []
    },
    {
      "cell_type": "code",
      "source": [
        "for data in train_loader:\n",
        "    print(type(data))\n",
        "    if isinstance(data, tuple):\n",
        "        for item in data:\n",
        "            print(\"f:\", item.shape if hasattr(item, 'shape') else type(item))\n",
        "    break  # Only need the first batch\n"
      ],
      "metadata": {
        "colab": {
          "base_uri": "https://localhost:8080/"
        },
        "id": "t1ijKktIrmuS",
        "outputId": "35943637-76fc-4066-b7f3-7142ba7966b9"
      },
      "execution_count": 479,
      "outputs": [
        {
          "output_type": "stream",
          "name": "stdout",
          "text": [
            "<class 'tuple'>\n",
            "f: torch.Size([8, 10])\n",
            "f: <class 'abc.DataBatch'>\n",
            "f: torch.Size([8])\n"
          ]
        }
      ]
    },
    {
      "cell_type": "code",
      "source": [
        "# Define MLP-Based Model for AWE Features\n",
        "class AWE_MLP(nn.Module):\n",
        "    \"\"\"MLP-based classifier for Anonymous Walk Embeddings (AWE).\"\"\"\n",
        "    def __init__(self, in_dim, hidden_dim, out_dim):\n",
        "        super(AWE_MLP, self).__init__()\n",
        "        self.fc1 = nn.Linear(in_dim, hidden_dim)\n",
        "        self.fc2 = nn.Linear(hidden_dim, out_dim)\n",
        "        self.fc3 = nn.Linear(out_dim, 1)  # Binary output\n",
        "        self.dropout = nn.Dropout(0.3)\n",
        "\n",
        "    def forward(self, x):\n",
        "        x = F.relu(self.fc1(x))\n",
        "        x = self.dropout(x)\n",
        "        x = F.relu(self.fc2(x))\n",
        "        x = self.fc3(x)\n",
        "        return torch.sigmoid(x).squeeze()\n",
        "\n",
        "# Initialize Updated Model\n",
        "model_MLP = AWE_MLP(in_dim=X.shape[1], hidden_dim=64, out_dim=32).to(device)\n",
        "\n",
        "# Define Loss, Optimizer, and DataLoader\n",
        "optimizer_MLP = torch.optim.Adam(model_MLP.parameters(), lr=0.001, weight_decay=1e-4)\n",
        "criterion_MLP = nn.BCELoss()  # Binary Cross-Entropy Loss"
      ],
      "metadata": {
        "collapsed": true,
        "id": "q0x87SwEgDVs"
      },
      "execution_count": 480,
      "outputs": []
    },
    {
      "cell_type": "markdown",
      "source": [
        "# Summarizing MLP Model Parameters"
      ],
      "metadata": {
        "id": "w1NwIyrudVx6"
      }
    },
    {
      "cell_type": "code",
      "source": [
        "#Verify Loss Function\n",
        "print(f\"Optimizer: {optimizer_MLP}\")\n",
        "print(f\"Loss Function: {criterion_MLP}\")\n",
        "\n",
        "# Print Model Summary\n",
        "print(model_MLP)\n",
        "\n",
        "summary(model_MLP, (X.shape[1],))\n",
        "\n",
        "sample_input = torch.randn(1, X.shape[1]).to(device)\n",
        "sample_output = model_MLP(sample_input)\n",
        "print(f\"Sample Input Shape: {sample_input.shape} -> Sample Output Shape: {sample_output.shape}\")"
      ],
      "metadata": {
        "colab": {
          "base_uri": "https://localhost:8080/"
        },
        "id": "11ClRq34dUUm",
        "outputId": "9e28aa91-0fbc-4d8f-d2ee-8858fa0dfc9d"
      },
      "execution_count": 481,
      "outputs": [
        {
          "output_type": "stream",
          "name": "stdout",
          "text": [
            "Optimizer: Adam (\n",
            "Parameter Group 0\n",
            "    amsgrad: False\n",
            "    betas: (0.9, 0.999)\n",
            "    capturable: False\n",
            "    differentiable: False\n",
            "    eps: 1e-08\n",
            "    foreach: None\n",
            "    fused: None\n",
            "    lr: 0.001\n",
            "    maximize: False\n",
            "    weight_decay: 0.0001\n",
            ")\n",
            "Loss Function: BCELoss()\n",
            "AWE_MLP(\n",
            "  (fc1): Linear(in_features=10, out_features=64, bias=True)\n",
            "  (fc2): Linear(in_features=64, out_features=32, bias=True)\n",
            "  (fc3): Linear(in_features=32, out_features=1, bias=True)\n",
            "  (dropout): Dropout(p=0.3, inplace=False)\n",
            ")\n",
            "----------------------------------------------------------------\n",
            "        Layer (type)               Output Shape         Param #\n",
            "================================================================\n",
            "            Linear-1                   [-1, 64]             704\n",
            "           Dropout-2                   [-1, 64]               0\n",
            "            Linear-3                   [-1, 32]           2,080\n",
            "            Linear-4                    [-1, 1]              33\n",
            "================================================================\n",
            "Total params: 2,817\n",
            "Trainable params: 2,817\n",
            "Non-trainable params: 0\n",
            "----------------------------------------------------------------\n",
            "Input size (MB): 0.00\n",
            "Forward/backward pass size (MB): 0.00\n",
            "Params size (MB): 0.01\n",
            "Estimated Total Size (MB): 0.01\n",
            "----------------------------------------------------------------\n",
            "Sample Input Shape: torch.Size([1, 10]) -> Sample Output Shape: torch.Size([])\n"
          ]
        }
      ]
    },
    {
      "cell_type": "code",
      "source": [
        "def plot_prediction_distribution(model, test_loader):\n",
        "    model.eval()\n",
        "    all_preds = []\n",
        "    all_labels = []\n",
        "\n",
        "    with torch.no_grad():\n",
        "        for awe_feats, _, y_batch in test_loader:\n",
        "            awe_feats, y_batch = awe_feats.to(device), y_batch.to(device)\n",
        "            outputs = model(awe_feats).cpu().numpy()\n",
        "            all_preds.extend(outputs)\n",
        "            all_labels.extend(y_batch.cpu().numpy())\n",
        "\n",
        "    # Convert to NumPy arrays\n",
        "    all_preds = np.array(all_preds)\n",
        "    all_labels = np.array(all_labels)\n",
        "\n",
        "    # Separate positive and negative class predictions\n",
        "    pos_preds = all_preds[all_labels == 1]\n",
        "    neg_preds = all_preds[all_labels == 0]\n",
        "\n",
        "    # Plot the distributions\n",
        "    plt.figure(figsize=(8, 5))\n",
        "    sns.histplot(pos_preds, bins=20, kde=True, color=\"green\", label=\"Positive (HIV Inhibitor)\")\n",
        "    sns.histplot(neg_preds, bins=20, kde=True, color=\"red\", label=\"Negative (Non-Inhibitor)\", alpha=0.6)\n",
        "\n",
        "    plt.xlabel(\"Predicted Score\")\n",
        "    plt.ylabel(\"Frequency\")\n",
        "    plt.title(\"Prediction Distributions: Positive vs. Negative Classes\")\n",
        "    plt.legend()\n",
        "    plt.grid(True)\n",
        "    plt.show()\n",
        "\n",
        "# Example: Plot prediction distribution for MLP model\n",
        "plot_prediction_distribution(model_MLP, test_loader)"
      ],
      "metadata": {
        "colab": {
          "base_uri": "https://localhost:8080/",
          "height": 487
        },
        "id": "xTdyFyYZqhs-",
        "outputId": "76dc4f08-0b59-4972-ea0b-8dd861ab2467"
      },
      "execution_count": 482,
      "outputs": [
        {
          "output_type": "display_data",
          "data": {
            "text/plain": [
              "<Figure size 800x500 with 1 Axes>"
            ],
            "image/png": "[encoded data removed]"
          },
          "metadata": {}
        }
      ]
    },
    {
      "cell_type": "markdown",
      "source": [
        "## Sub Task 4: Training & Optimization\n",
        "\n",
        "- Adam optimizer with weight decay and learngin rate has been used\n",
        "- Binary Cross-Entropy Loss has been used as loss function"
      ],
      "metadata": {
        "id": "CauPeHeoKugQ"
      }
    },
    {
      "cell_type": "code",
      "source": [
        "# Train Function\n",
        "def train_MLP(model, train_loader, optimizer, criterion, num_epochs=20):\n",
        "    model.train()\n",
        "    for epoch in range(num_epochs):\n",
        "        total_loss = 0\n",
        "        for awe_feats, _, y_batch in train_loader:  # Only awe_feats are passed to model\n",
        "            awe_feats, y_batch = awe_feats.to(device), y_batch.to(device)\n",
        "\n",
        "            optimizer.zero_grad()  # Clear gradients\n",
        "            outputs = model_MLP(awe_feats)  # Forward pass with AWE features only\n",
        "            loss = criterion(outputs, y_batch.float())  # Binary Cross-Entropy Loss\n",
        "            loss.backward()  # Backpropagation\n",
        "            optimizer.step()  # Optimizer step\n",
        "\n",
        "            total_loss += loss.item()  # Accumulate loss for logging\n",
        "\n",
        "        print(f\"Epoch {epoch+1}/{num_epochs}, Loss: {total_loss:.4f}\")"
      ],
      "metadata": {
        "id": "vciF4RUndJyx"
      },
      "execution_count": 483,
      "outputs": []
    },
    {
      "cell_type": "code",
      "source": [
        "# Train Model\n",
        "print(\"Training Started...\")\n",
        "train_MLP(model_MLP, train_loader, optimizer_MLP, criterion_MLP)"
      ],
      "metadata": {
        "colab": {
          "base_uri": "https://localhost:8080/"
        },
        "id": "NjMIMb1kdL5Z",
        "outputId": "8a06a380-e156-4749-b83a-da2e4dfa8c9f"
      },
      "execution_count": 484,
      "outputs": [
        {
          "output_type": "stream",
          "name": "stdout",
          "text": [
            "Training Started...\n",
            "Epoch 1/20, Loss: 68.0871\n",
            "Epoch 2/20, Loss: 43.1984\n",
            "Epoch 3/20, Loss: 42.9571\n",
            "Epoch 4/20, Loss: 43.1438\n",
            "Epoch 5/20, Loss: 43.7579\n",
            "Epoch 6/20, Loss: 43.1717\n",
            "Epoch 7/20, Loss: 43.3786\n",
            "Epoch 8/20, Loss: 43.3644\n",
            "Epoch 9/20, Loss: 43.2459\n",
            "Epoch 10/20, Loss: 43.4779\n",
            "Epoch 11/20, Loss: 43.5155\n",
            "Epoch 12/20, Loss: 43.1482\n",
            "Epoch 13/20, Loss: 43.4676\n",
            "Epoch 14/20, Loss: 43.8066\n",
            "Epoch 15/20, Loss: 43.2382\n",
            "Epoch 16/20, Loss: 42.8986\n",
            "Epoch 17/20, Loss: 43.2804\n",
            "Epoch 18/20, Loss: 43.5659\n",
            "Epoch 19/20, Loss: 43.1878\n",
            "Epoch 20/20, Loss: 43.6505\n"
          ]
        }
      ]
    },
    {
      "cell_type": "markdown",
      "source": [
        "## Sub Task 5: Evaluation & Visualization\n",
        "\n",
        "- Evaluation using ROC-AUC score have beed used for both models\n",
        "- Molecular Graph, Feature distribution and Training Loss and ROC Curve have been plotted for better understanding"
      ],
      "metadata": {
        "id": "STTLOjDWLah9"
      }
    },
    {
      "cell_type": "code",
      "source": [
        "# Evaluate Model\n",
        "roc_auc = evaluate_MLP(model_MLP, test_loader)\n",
        "print(f\"Final ROC-AUC Score: {roc_auc:.4f}\")"
      ],
      "metadata": {
        "colab": {
          "base_uri": "https://localhost:8080/",
          "height": 581
        },
        "id": "Ts0fhKOadOEo",
        "outputId": "64b3977e-12a9-49ae-ac58-cad5f3cf81b5"
      },
      "execution_count": 485,
      "outputs": [
        {
          "output_type": "display_data",
          "data": {
            "text/plain": [
              "<Figure size 600x600 with 1 Axes>"
            ],
            "image/png": "[encoded data removed]"
          },
          "metadata": {}
        },
        {
          "output_type": "stream",
          "name": "stdout",
          "text": [
            "Final ROC-AUC Score: 0.7393\n"
          ]
        }
      ]
    },
    {
      "cell_type": "markdown",
      "source": [
        "# AWE + GMM Model Creation and Evaluation"
      ],
      "metadata": {
        "id": "NXmeGcj6wFF0"
      }
    },
    {
      "cell_type": "code",
      "source": [
        "# Define AWE_GNN Model\n",
        "class AWE_GNN(nn.Module):\n",
        "    def __init__(self, in_dim, hidden_dim, out_dim):\n",
        "        super(AWE_GNN, self).__init__()\n",
        "        self.gcn1 = GCNConv(in_dim, hidden_dim)\n",
        "        self.gcn2 = GCNConv(hidden_dim, out_dim)\n",
        "\n",
        "        #print(f\"out_dim: {out_dim}, in_dim: {in_dim}\")\n",
        "        #print(\"out_dim + in_dim:\", out_dim + in_dim)\n",
        "\n",
        "        self.fc = nn.Linear(out_dim + in_dim, 1)  # Combine GNN + AWE features\n",
        "\n",
        "    def forward(self, x, edge_index, awe_feat, batch):\n",
        "        x = F.relu(self.gcn1(x, edge_index))\n",
        "        x = F.relu(self.gcn2(x, edge_index))\n",
        "\n",
        "        # Global pooling (mean over nodes)\n",
        "        x = global_mean_pool(x, batch)\n",
        "\n",
        "        # Concatenate AWE features\n",
        "        awe_feat_expanded = awe_feat.repeat_interleave(x.shape[0] // awe_feat.shape[0], dim=0)\n",
        "\n",
        "        ##print(\"x shape:\", x.shape)  # Expected: [num_nodes, hidden_dim]\n",
        "        #print(\"awe_feat shape:\", awe_feat.shape)  # Expected: [batch_size, feature_dim]\n",
        "        #print(\"awe_feat_expanded shape:\", awe_feat_expanded.shape)  # Expected: [num_nodes, feature_dim]\n",
        "\n",
        "        # Concatenate\n",
        "        combined = torch.cat([x, awe_feat_expanded], dim=-1)\n",
        "        #print(\"Final combined shape before FC:\", combined.shape)\n",
        "        return torch.sigmoid(self.fc(combined)).squeeze()"
      ],
      "metadata": {
        "id": "vLRXYW1ESq6A"
      },
      "execution_count": 486,
      "outputs": []
    },
    {
      "cell_type": "code",
      "source": [
        "# Initialize Model (Ensure correct in_dim)\n",
        "device = torch.device(\"cuda\" if torch.cuda.is_available() else \"cpu\")\n",
        "in_dim = X.shape[1]  # Ensure input matches dataset dimensions\n",
        "model_GNN = AWE_GNN(in_dim=in_dim, hidden_dim=64, out_dim=32).to(device)\n",
        "\n",
        "# Define Loss and Optimizer\n",
        "optimizer_GNN = torch.optim.Adam(model_GNN.parameters(), lr=0.001, weight_decay=1e-4)\n",
        "criterion_GNN = nn.BCELoss()"
      ],
      "metadata": {
        "id": "NLOTc4lVSq3Z"
      },
      "execution_count": 487,
      "outputs": []
    },
    {
      "cell_type": "markdown",
      "source": [
        "# AWE + GNN Model details"
      ],
      "metadata": {
        "id": "P6qY6p2Sd-3R"
      }
    },
    {
      "cell_type": "code",
      "source": [
        "#Verify Loss Function\n",
        "print(f\"Optimizer: {optimizer_GNN}\")\n",
        "print(f\"Loss Function: {criterion_GNN}\")\n",
        "\n",
        "# Print Model Summary\n",
        "print(model_GNN)\n",
        "\n",
        "total_params = sum(p.numel() for p in model_GNN.parameters() if p.requires_grad)\n",
        "print(f\"Total Trainable Parameters: {total_params}\")\n",
        "\n",
        "for name, param in model_GNN.named_parameters():\n",
        "    print(f\"Layer: {name} | Size: {param.size()} | Trainable: {param.requires_grad}\")"
      ],
      "metadata": {
        "colab": {
          "base_uri": "https://localhost:8080/"
        },
        "id": "8oHe_5Knd8AJ",
        "outputId": "d02c5281-68cb-46e5-f50e-c195a8fd86ba"
      },
      "execution_count": 488,
      "outputs": [
        {
          "output_type": "stream",
          "name": "stdout",
          "text": [
            "Optimizer: Adam (\n",
            "Parameter Group 0\n",
            "    amsgrad: False\n",
            "    betas: (0.9, 0.999)\n",
            "    capturable: False\n",
            "    differentiable: False\n",
            "    eps: 1e-08\n",
            "    foreach: None\n",
            "    fused: None\n",
            "    lr: 0.001\n",
            "    maximize: False\n",
            "    weight_decay: 0.0001\n",
            ")\n",
            "Loss Function: BCELoss()\n",
            "AWE_GNN(\n",
            "  (gcn1): GCNConv(10, 64)\n",
            "  (gcn2): GCNConv(64, 32)\n",
            "  (fc): Linear(in_features=42, out_features=1, bias=True)\n",
            ")\n",
            "Total Trainable Parameters: 2827\n",
            "Layer: gcn1.bias | Size: torch.Size([64]) | Trainable: True\n",
            "Layer: gcn1.lin.weight | Size: torch.Size([64, 10]) | Trainable: True\n",
            "Layer: gcn2.bias | Size: torch.Size([32]) | Trainable: True\n",
            "Layer: gcn2.lin.weight | Size: torch.Size([32, 64]) | Trainable: True\n",
            "Layer: fc.weight | Size: torch.Size([1, 42]) | Trainable: True\n",
            "Layer: fc.bias | Size: torch.Size([1]) | Trainable: True\n"
          ]
        }
      ]
    },
    {
      "cell_type": "code",
      "source": [
        "# Define Training Function\n",
        "def train_GNN(model, train_loader, optimizer, criterion, num_epochs=20):\n",
        "    model.train()\n",
        "    losses = []\n",
        "\n",
        "    for epoch in range(num_epochs):\n",
        "        total_loss = 0\n",
        "        for awe_feats, graph, y_batch in train_loader:\n",
        "            awe_feats, y_batch = awe_feats.to(device), y_batch.to(device)\n",
        "            graph = graph.to(device)\n",
        "\n",
        "            optimizer.zero_grad()\n",
        "            outputs = model_GNN(graph.x, graph.edge_index, awe_feats, graph.batch)\n",
        "            loss = criterion(outputs, y_batch.float())\n",
        "            loss.backward()\n",
        "            optimizer.step()\n",
        "\n",
        "            total_loss += loss.item()\n",
        "\n",
        "        avg_loss = total_loss / len(train_loader)\n",
        "        losses.append(avg_loss)\n",
        "        print(f\"Epoch {epoch+1}/{num_epochs}, Loss: {total_loss:.4f}\")\n",
        "\n",
        "    # Plot Loss Curve\n",
        "    plt.figure()\n",
        "    plt.plot(range(1, num_epochs + 1), losses, marker='o')\n",
        "    plt.xlabel(\"Epochs\")\n",
        "    plt.ylabel(\"Loss\")\n",
        "    plt.title(\"Training Loss Curve\")\n",
        "    plt.show()"
      ],
      "metadata": {
        "id": "bckt3-v4Sq08"
      },
      "execution_count": 489,
      "outputs": []
    },
    {
      "cell_type": "code",
      "source": [
        "# Define Evaluation Function\n",
        "def evaluate_GNN(model, test_loader):\n",
        "    model.eval()\n",
        "    all_preds, all_labels = [], []\n",
        "\n",
        "    with torch.no_grad():\n",
        "        for awe_feats, graph, y_batch in test_loader:\n",
        "            awe_feats, y_batch = awe_feats.to(device), y_batch.to(device)\n",
        "            graph = graph.to(device)\n",
        "\n",
        "            outputs = model_GNN(graph.x, graph.edge_index, awe_feats, graph.batch)\n",
        "            all_preds.extend(outputs.cpu().numpy())\n",
        "            all_labels.extend(y_batch.cpu().numpy())\n",
        "\n",
        "    roc_auc = roc_auc_score(all_labels, all_preds)\n",
        "\n",
        "    # Plot ROC Curve\n",
        "    fpr, tpr, _ = roc_curve(all_labels, all_preds)\n",
        "    plt.figure()\n",
        "    plt.plot(fpr, tpr, label=f\"ROC Curve (AUC = {roc_auc:.4f})\")\n",
        "    plt.plot([0, 1], [0, 1], linestyle='--', color='gray')\n",
        "    plt.xlabel(\"False Positive Rate\")\n",
        "    plt.ylabel(\"True Positive Rate\")\n",
        "    plt.title(\"ROC Curve\")\n",
        "    plt.legend()\n",
        "    plt.show()\n",
        "    return roc_auc\n"
      ],
      "metadata": {
        "id": "zrCtsLd0Sqza"
      },
      "execution_count": 490,
      "outputs": []
    },
    {
      "cell_type": "code",
      "source": [
        "# Train AWE + GNN Model\n",
        "print(\"Training AWE + GNN Model...\")\n",
        "train_GNN(model_GNN, train_loader, optimizer_GNN, criterion_GNN)\n"
      ],
      "metadata": {
        "colab": {
          "base_uri": "https://localhost:8080/",
          "height": 836
        },
        "id": "iImYGjZCSqtW",
        "outputId": "8768dbb7-8c6f-4a89-e221-51784c9b6bc9"
      },
      "execution_count": 491,
      "outputs": [
        {
          "output_type": "stream",
          "name": "stdout",
          "text": [
            "Training AWE + GNN Model...\n",
            "Epoch 1/20, Loss: 79.4417\n",
            "Epoch 2/20, Loss: 42.6855\n",
            "Epoch 3/20, Loss: 42.5829\n",
            "Epoch 4/20, Loss: 42.5901\n",
            "Epoch 5/20, Loss: 42.5098\n",
            "Epoch 6/20, Loss: 42.4231\n",
            "Epoch 7/20, Loss: 42.5268\n",
            "Epoch 8/20, Loss: 42.4736\n",
            "Epoch 9/20, Loss: 42.4594\n",
            "Epoch 10/20, Loss: 42.4605\n",
            "Epoch 11/20, Loss: 42.4949\n",
            "Epoch 12/20, Loss: 42.4426\n",
            "Epoch 13/20, Loss: 42.5414\n",
            "Epoch 14/20, Loss: 42.3977\n",
            "Epoch 15/20, Loss: 42.2075\n",
            "Epoch 16/20, Loss: 42.2800\n",
            "Epoch 17/20, Loss: 42.5590\n",
            "Epoch 18/20, Loss: 42.2777\n",
            "Epoch 19/20, Loss: 42.4413\n",
            "Epoch 20/20, Loss: 42.3413\n"
          ]
        },
        {
          "output_type": "display_data",
          "data": {
            "text/plain": [
              "<Figure size 640x480 with 1 Axes>"
            ],
            "image/png": "[encoded data removed]"
          },
          "metadata": {}
        }
      ]
    },
    {
      "cell_type": "code",
      "source": [
        "# Evaluate Model\n",
        "roc_auc = evaluate_GNN(model_GNN, test_loader)\n",
        "print(f\"Final ROC-AUC Score: {roc_auc:.4f}\")"
      ],
      "metadata": {
        "colab": {
          "base_uri": "https://localhost:8080/",
          "height": 489
        },
        "id": "THOu5co4SqqH",
        "outputId": "d2d20a7c-1a26-4e79-ab6c-0d863ea306d0"
      },
      "execution_count": 492,
      "outputs": [
        {
          "output_type": "display_data",
          "data": {
            "text/plain": [
              "<Figure size 640x480 with 1 Axes>"
            ],
            "image/png": "[encoded data removed]"
          },
          "metadata": {}
        },
        {
          "output_type": "stream",
          "name": "stdout",
          "text": [
            "Final ROC-AUC Score: 0.7422\n"
          ]
        }
      ]
    },
    {
      "cell_type": "code",
      "source": [],
      "metadata": {
        "id": "iDGY7DvCSqmq"
      },
      "execution_count": 492,
      "outputs": []
    },
    {
      "cell_type": "code",
      "source": [],
      "metadata": {
        "id": "JgRqHPvBSqi5"
      },
      "execution_count": 492,
      "outputs": []
    },
    {
      "cell_type": "code",
      "source": [],
      "metadata": {
        "id": "rxYyypUgb7L-"
      },
      "execution_count": 492,
      "outputs": []
    },
    {
      "cell_type": "code",
      "source": [],
      "metadata": {
        "id": "6Z42LvGEb7F9"
      },
      "execution_count": 492,
      "outputs": []
    }
  ]
}